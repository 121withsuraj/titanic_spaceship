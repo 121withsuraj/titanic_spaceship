{
  "nbformat": 4,
  "nbformat_minor": 0,
  "metadata": {
    "colab": {
      "provenance": []
    },
    "kernelspec": {
      "name": "python3",
      "display_name": "Python 3"
    },
    "language_info": {
      "name": "python"
    }
  },
  "cells": [
    {
      "cell_type": "code",
      "source": [
        "import numpy as np\n",
        "import pandas as pd\n",
        "import matplotlib.pyplot as plt\n",
        "import seaborn as sns\n",
        "from sklearn.preprocessing import OneHotEncoder,LabelEncoder,StandardScaler\n",
        "from sklearn.linear_model import LogisticRegression\n",
        "from sklearn.model_selection import cross_val_score , train_test_split\n",
        "from sklearn.compose import ColumnTransformer\n",
        "from sklearn.metrics import confusion_matrix,accuracy_score,classification_report\n",
        "from sklearn.naive_bayes import GaussianNB\n",
        "from sklearn import svm\n",
        "import pickle\n",
        "from yellowbrick.classifier import ROCAUC"
      ],
      "metadata": {
        "id": "mpoV_maJApQY"
      },
      "execution_count": 225,
      "outputs": []
    },
    {
      "cell_type": "code",
      "source": [
        "df = pd.read_csv (\"/content/train.csv\")\n",
        "df_test =  pd.read_csv (\"/content/test.csv\")"
      ],
      "metadata": {
        "id": "UCDozsQqApS1"
      },
      "execution_count": null,
      "outputs": []
    },
    {
      "cell_type": "code",
      "source": [
        "df.head()"
      ],
      "metadata": {
        "colab": {
          "base_uri": "https://localhost:8080/",
          "height": 357
        },
        "id": "RbNcY0B2ApV6",
        "outputId": "4279ac18-45a8-4070-ad8d-33ee84d6c85b"
      },
      "execution_count": null,
      "outputs": [
        {
          "output_type": "execute_result",
          "data": {
            "text/plain": [
              "  PassengerId HomePlanet CryoSleep  Cabin  Destination   Age    VIP  \\\n",
              "0     0001_01     Europa     False  B/0/P  TRAPPIST-1e  39.0  False   \n",
              "1     0002_01      Earth     False  F/0/S  TRAPPIST-1e  24.0  False   \n",
              "2     0003_01     Europa     False  A/0/S  TRAPPIST-1e  58.0   True   \n",
              "3     0003_02     Europa     False  A/0/S  TRAPPIST-1e  33.0  False   \n",
              "4     0004_01      Earth     False  F/1/S  TRAPPIST-1e  16.0  False   \n",
              "\n",
              "   RoomService  FoodCourt  ShoppingMall     Spa  VRDeck               Name  \\\n",
              "0          0.0        0.0           0.0     0.0     0.0    Maham Ofracculy   \n",
              "1        109.0        9.0          25.0   549.0    44.0       Juanna Vines   \n",
              "2         43.0     3576.0           0.0  6715.0    49.0      Altark Susent   \n",
              "3          0.0     1283.0         371.0  3329.0   193.0       Solam Susent   \n",
              "4        303.0       70.0         151.0   565.0     2.0  Willy Santantines   \n",
              "\n",
              "   Transported  \n",
              "0        False  \n",
              "1         True  \n",
              "2        False  \n",
              "3        False  \n",
              "4         True  "
            ],
            "text/html": [
              "\n",
              "  <div id=\"df-ac919ad7-8586-4cf5-9534-c122dae416f6\">\n",
              "    <div class=\"colab-df-container\">\n",
              "      <div>\n",
              "<style scoped>\n",
              "    .dataframe tbody tr th:only-of-type {\n",
              "        vertical-align: middle;\n",
              "    }\n",
              "\n",
              "    .dataframe tbody tr th {\n",
              "        vertical-align: top;\n",
              "    }\n",
              "\n",
              "    .dataframe thead th {\n",
              "        text-align: right;\n",
              "    }\n",
              "</style>\n",
              "<table border=\"1\" class=\"dataframe\">\n",
              "  <thead>\n",
              "    <tr style=\"text-align: right;\">\n",
              "      <th></th>\n",
              "      <th>PassengerId</th>\n",
              "      <th>HomePlanet</th>\n",
              "      <th>CryoSleep</th>\n",
              "      <th>Cabin</th>\n",
              "      <th>Destination</th>\n",
              "      <th>Age</th>\n",
              "      <th>VIP</th>\n",
              "      <th>RoomService</th>\n",
              "      <th>FoodCourt</th>\n",
              "      <th>ShoppingMall</th>\n",
              "      <th>Spa</th>\n",
              "      <th>VRDeck</th>\n",
              "      <th>Name</th>\n",
              "      <th>Transported</th>\n",
              "    </tr>\n",
              "  </thead>\n",
              "  <tbody>\n",
              "    <tr>\n",
              "      <th>0</th>\n",
              "      <td>0001_01</td>\n",
              "      <td>Europa</td>\n",
              "      <td>False</td>\n",
              "      <td>B/0/P</td>\n",
              "      <td>TRAPPIST-1e</td>\n",
              "      <td>39.0</td>\n",
              "      <td>False</td>\n",
              "      <td>0.0</td>\n",
              "      <td>0.0</td>\n",
              "      <td>0.0</td>\n",
              "      <td>0.0</td>\n",
              "      <td>0.0</td>\n",
              "      <td>Maham Ofracculy</td>\n",
              "      <td>False</td>\n",
              "    </tr>\n",
              "    <tr>\n",
              "      <th>1</th>\n",
              "      <td>0002_01</td>\n",
              "      <td>Earth</td>\n",
              "      <td>False</td>\n",
              "      <td>F/0/S</td>\n",
              "      <td>TRAPPIST-1e</td>\n",
              "      <td>24.0</td>\n",
              "      <td>False</td>\n",
              "      <td>109.0</td>\n",
              "      <td>9.0</td>\n",
              "      <td>25.0</td>\n",
              "      <td>549.0</td>\n",
              "      <td>44.0</td>\n",
              "      <td>Juanna Vines</td>\n",
              "      <td>True</td>\n",
              "    </tr>\n",
              "    <tr>\n",
              "      <th>2</th>\n",
              "      <td>0003_01</td>\n",
              "      <td>Europa</td>\n",
              "      <td>False</td>\n",
              "      <td>A/0/S</td>\n",
              "      <td>TRAPPIST-1e</td>\n",
              "      <td>58.0</td>\n",
              "      <td>True</td>\n",
              "      <td>43.0</td>\n",
              "      <td>3576.0</td>\n",
              "      <td>0.0</td>\n",
              "      <td>6715.0</td>\n",
              "      <td>49.0</td>\n",
              "      <td>Altark Susent</td>\n",
              "      <td>False</td>\n",
              "    </tr>\n",
              "    <tr>\n",
              "      <th>3</th>\n",
              "      <td>0003_02</td>\n",
              "      <td>Europa</td>\n",
              "      <td>False</td>\n",
              "      <td>A/0/S</td>\n",
              "      <td>TRAPPIST-1e</td>\n",
              "      <td>33.0</td>\n",
              "      <td>False</td>\n",
              "      <td>0.0</td>\n",
              "      <td>1283.0</td>\n",
              "      <td>371.0</td>\n",
              "      <td>3329.0</td>\n",
              "      <td>193.0</td>\n",
              "      <td>Solam Susent</td>\n",
              "      <td>False</td>\n",
              "    </tr>\n",
              "    <tr>\n",
              "      <th>4</th>\n",
              "      <td>0004_01</td>\n",
              "      <td>Earth</td>\n",
              "      <td>False</td>\n",
              "      <td>F/1/S</td>\n",
              "      <td>TRAPPIST-1e</td>\n",
              "      <td>16.0</td>\n",
              "      <td>False</td>\n",
              "      <td>303.0</td>\n",
              "      <td>70.0</td>\n",
              "      <td>151.0</td>\n",
              "      <td>565.0</td>\n",
              "      <td>2.0</td>\n",
              "      <td>Willy Santantines</td>\n",
              "      <td>True</td>\n",
              "    </tr>\n",
              "  </tbody>\n",
              "</table>\n",
              "</div>\n",
              "      <button class=\"colab-df-convert\" onclick=\"convertToInteractive('df-ac919ad7-8586-4cf5-9534-c122dae416f6')\"\n",
              "              title=\"Convert this dataframe to an interactive table.\"\n",
              "              style=\"display:none;\">\n",
              "        \n",
              "  <svg xmlns=\"http://www.w3.org/2000/svg\" height=\"24px\"viewBox=\"0 0 24 24\"\n",
              "       width=\"24px\">\n",
              "    <path d=\"M0 0h24v24H0V0z\" fill=\"none\"/>\n",
              "    <path d=\"M18.56 5.44l.94 2.06.94-2.06 2.06-.94-2.06-.94-.94-2.06-.94 2.06-2.06.94zm-11 1L8.5 8.5l.94-2.06 2.06-.94-2.06-.94L8.5 2.5l-.94 2.06-2.06.94zm10 10l.94 2.06.94-2.06 2.06-.94-2.06-.94-.94-2.06-.94 2.06-2.06.94z\"/><path d=\"M17.41 7.96l-1.37-1.37c-.4-.4-.92-.59-1.43-.59-.52 0-1.04.2-1.43.59L10.3 9.45l-7.72 7.72c-.78.78-.78 2.05 0 2.83L4 21.41c.39.39.9.59 1.41.59.51 0 1.02-.2 1.41-.59l7.78-7.78 2.81-2.81c.8-.78.8-2.07 0-2.86zM5.41 20L4 18.59l7.72-7.72 1.47 1.35L5.41 20z\"/>\n",
              "  </svg>\n",
              "      </button>\n",
              "      \n",
              "  <style>\n",
              "    .colab-df-container {\n",
              "      display:flex;\n",
              "      flex-wrap:wrap;\n",
              "      gap: 12px;\n",
              "    }\n",
              "\n",
              "    .colab-df-convert {\n",
              "      background-color: #E8F0FE;\n",
              "      border: none;\n",
              "      border-radius: 50%;\n",
              "      cursor: pointer;\n",
              "      display: none;\n",
              "      fill: #1967D2;\n",
              "      height: 32px;\n",
              "      padding: 0 0 0 0;\n",
              "      width: 32px;\n",
              "    }\n",
              "\n",
              "    .colab-df-convert:hover {\n",
              "      background-color: #E2EBFA;\n",
              "      box-shadow: 0px 1px 2px rgba(60, 64, 67, 0.3), 0px 1px 3px 1px rgba(60, 64, 67, 0.15);\n",
              "      fill: #174EA6;\n",
              "    }\n",
              "\n",
              "    [theme=dark] .colab-df-convert {\n",
              "      background-color: #3B4455;\n",
              "      fill: #D2E3FC;\n",
              "    }\n",
              "\n",
              "    [theme=dark] .colab-df-convert:hover {\n",
              "      background-color: #434B5C;\n",
              "      box-shadow: 0px 1px 3px 1px rgba(0, 0, 0, 0.15);\n",
              "      filter: drop-shadow(0px 1px 2px rgba(0, 0, 0, 0.3));\n",
              "      fill: #FFFFFF;\n",
              "    }\n",
              "  </style>\n",
              "\n",
              "      <script>\n",
              "        const buttonEl =\n",
              "          document.querySelector('#df-ac919ad7-8586-4cf5-9534-c122dae416f6 button.colab-df-convert');\n",
              "        buttonEl.style.display =\n",
              "          google.colab.kernel.accessAllowed ? 'block' : 'none';\n",
              "\n",
              "        async function convertToInteractive(key) {\n",
              "          const element = document.querySelector('#df-ac919ad7-8586-4cf5-9534-c122dae416f6');\n",
              "          const dataTable =\n",
              "            await google.colab.kernel.invokeFunction('convertToInteractive',\n",
              "                                                     [key], {});\n",
              "          if (!dataTable) return;\n",
              "\n",
              "          const docLinkHtml = 'Like what you see? Visit the ' +\n",
              "            '<a target=\"_blank\" href=https://colab.research.google.com/notebooks/data_table.ipynb>data table notebook</a>'\n",
              "            + ' to learn more about interactive tables.';\n",
              "          element.innerHTML = '';\n",
              "          dataTable['output_type'] = 'display_data';\n",
              "          await google.colab.output.renderOutput(dataTable, element);\n",
              "          const docLink = document.createElement('div');\n",
              "          docLink.innerHTML = docLinkHtml;\n",
              "          element.appendChild(docLink);\n",
              "        }\n",
              "      </script>\n",
              "    </div>\n",
              "  </div>\n",
              "  "
            ]
          },
          "metadata": {},
          "execution_count": 11
        }
      ]
    },
    {
      "cell_type": "code",
      "source": [
        "df_test.head()"
      ],
      "metadata": {
        "colab": {
          "base_uri": "https://localhost:8080/",
          "height": 206
        },
        "id": "HELkDKaTnT88",
        "outputId": "64030998-a253-4ef9-fe19-6fec5d707a8b"
      },
      "execution_count": null,
      "outputs": [
        {
          "output_type": "execute_result",
          "data": {
            "text/plain": [
              "  PassengerId HomePlanet CryoSleep  Cabin  Destination   Age    VIP  \\\n",
              "0     0013_01      Earth      True  G/3/S  TRAPPIST-1e  27.0  False   \n",
              "1     0018_01      Earth     False  F/4/S  TRAPPIST-1e  19.0  False   \n",
              "2     0019_01     Europa      True  C/0/S  55 Cancri e  31.0  False   \n",
              "3     0021_01     Europa     False  C/1/S  TRAPPIST-1e  38.0  False   \n",
              "4     0023_01      Earth     False  F/5/S  TRAPPIST-1e  20.0  False   \n",
              "\n",
              "   RoomService  FoodCourt  ShoppingMall     Spa  VRDeck              Name  \n",
              "0          0.0        0.0           0.0     0.0     0.0   Nelly Carsoning  \n",
              "1          0.0        9.0           0.0  2823.0     0.0    Lerome Peckers  \n",
              "2          0.0        0.0           0.0     0.0     0.0   Sabih Unhearfus  \n",
              "3          0.0     6652.0           0.0   181.0   585.0  Meratz Caltilter  \n",
              "4         10.0        0.0         635.0     0.0     0.0   Brence Harperez  "
            ],
            "text/html": [
              "\n",
              "  <div id=\"df-ee6d83ca-23c6-4b13-a06b-3a75a83aac5a\">\n",
              "    <div class=\"colab-df-container\">\n",
              "      <div>\n",
              "<style scoped>\n",
              "    .dataframe tbody tr th:only-of-type {\n",
              "        vertical-align: middle;\n",
              "    }\n",
              "\n",
              "    .dataframe tbody tr th {\n",
              "        vertical-align: top;\n",
              "    }\n",
              "\n",
              "    .dataframe thead th {\n",
              "        text-align: right;\n",
              "    }\n",
              "</style>\n",
              "<table border=\"1\" class=\"dataframe\">\n",
              "  <thead>\n",
              "    <tr style=\"text-align: right;\">\n",
              "      <th></th>\n",
              "      <th>PassengerId</th>\n",
              "      <th>HomePlanet</th>\n",
              "      <th>CryoSleep</th>\n",
              "      <th>Cabin</th>\n",
              "      <th>Destination</th>\n",
              "      <th>Age</th>\n",
              "      <th>VIP</th>\n",
              "      <th>RoomService</th>\n",
              "      <th>FoodCourt</th>\n",
              "      <th>ShoppingMall</th>\n",
              "      <th>Spa</th>\n",
              "      <th>VRDeck</th>\n",
              "      <th>Name</th>\n",
              "    </tr>\n",
              "  </thead>\n",
              "  <tbody>\n",
              "    <tr>\n",
              "      <th>0</th>\n",
              "      <td>0013_01</td>\n",
              "      <td>Earth</td>\n",
              "      <td>True</td>\n",
              "      <td>G/3/S</td>\n",
              "      <td>TRAPPIST-1e</td>\n",
              "      <td>27.0</td>\n",
              "      <td>False</td>\n",
              "      <td>0.0</td>\n",
              "      <td>0.0</td>\n",
              "      <td>0.0</td>\n",
              "      <td>0.0</td>\n",
              "      <td>0.0</td>\n",
              "      <td>Nelly Carsoning</td>\n",
              "    </tr>\n",
              "    <tr>\n",
              "      <th>1</th>\n",
              "      <td>0018_01</td>\n",
              "      <td>Earth</td>\n",
              "      <td>False</td>\n",
              "      <td>F/4/S</td>\n",
              "      <td>TRAPPIST-1e</td>\n",
              "      <td>19.0</td>\n",
              "      <td>False</td>\n",
              "      <td>0.0</td>\n",
              "      <td>9.0</td>\n",
              "      <td>0.0</td>\n",
              "      <td>2823.0</td>\n",
              "      <td>0.0</td>\n",
              "      <td>Lerome Peckers</td>\n",
              "    </tr>\n",
              "    <tr>\n",
              "      <th>2</th>\n",
              "      <td>0019_01</td>\n",
              "      <td>Europa</td>\n",
              "      <td>True</td>\n",
              "      <td>C/0/S</td>\n",
              "      <td>55 Cancri e</td>\n",
              "      <td>31.0</td>\n",
              "      <td>False</td>\n",
              "      <td>0.0</td>\n",
              "      <td>0.0</td>\n",
              "      <td>0.0</td>\n",
              "      <td>0.0</td>\n",
              "      <td>0.0</td>\n",
              "      <td>Sabih Unhearfus</td>\n",
              "    </tr>\n",
              "    <tr>\n",
              "      <th>3</th>\n",
              "      <td>0021_01</td>\n",
              "      <td>Europa</td>\n",
              "      <td>False</td>\n",
              "      <td>C/1/S</td>\n",
              "      <td>TRAPPIST-1e</td>\n",
              "      <td>38.0</td>\n",
              "      <td>False</td>\n",
              "      <td>0.0</td>\n",
              "      <td>6652.0</td>\n",
              "      <td>0.0</td>\n",
              "      <td>181.0</td>\n",
              "      <td>585.0</td>\n",
              "      <td>Meratz Caltilter</td>\n",
              "    </tr>\n",
              "    <tr>\n",
              "      <th>4</th>\n",
              "      <td>0023_01</td>\n",
              "      <td>Earth</td>\n",
              "      <td>False</td>\n",
              "      <td>F/5/S</td>\n",
              "      <td>TRAPPIST-1e</td>\n",
              "      <td>20.0</td>\n",
              "      <td>False</td>\n",
              "      <td>10.0</td>\n",
              "      <td>0.0</td>\n",
              "      <td>635.0</td>\n",
              "      <td>0.0</td>\n",
              "      <td>0.0</td>\n",
              "      <td>Brence Harperez</td>\n",
              "    </tr>\n",
              "  </tbody>\n",
              "</table>\n",
              "</div>\n",
              "      <button class=\"colab-df-convert\" onclick=\"convertToInteractive('df-ee6d83ca-23c6-4b13-a06b-3a75a83aac5a')\"\n",
              "              title=\"Convert this dataframe to an interactive table.\"\n",
              "              style=\"display:none;\">\n",
              "        \n",
              "  <svg xmlns=\"http://www.w3.org/2000/svg\" height=\"24px\"viewBox=\"0 0 24 24\"\n",
              "       width=\"24px\">\n",
              "    <path d=\"M0 0h24v24H0V0z\" fill=\"none\"/>\n",
              "    <path d=\"M18.56 5.44l.94 2.06.94-2.06 2.06-.94-2.06-.94-.94-2.06-.94 2.06-2.06.94zm-11 1L8.5 8.5l.94-2.06 2.06-.94-2.06-.94L8.5 2.5l-.94 2.06-2.06.94zm10 10l.94 2.06.94-2.06 2.06-.94-2.06-.94-.94-2.06-.94 2.06-2.06.94z\"/><path d=\"M17.41 7.96l-1.37-1.37c-.4-.4-.92-.59-1.43-.59-.52 0-1.04.2-1.43.59L10.3 9.45l-7.72 7.72c-.78.78-.78 2.05 0 2.83L4 21.41c.39.39.9.59 1.41.59.51 0 1.02-.2 1.41-.59l7.78-7.78 2.81-2.81c.8-.78.8-2.07 0-2.86zM5.41 20L4 18.59l7.72-7.72 1.47 1.35L5.41 20z\"/>\n",
              "  </svg>\n",
              "      </button>\n",
              "      \n",
              "  <style>\n",
              "    .colab-df-container {\n",
              "      display:flex;\n",
              "      flex-wrap:wrap;\n",
              "      gap: 12px;\n",
              "    }\n",
              "\n",
              "    .colab-df-convert {\n",
              "      background-color: #E8F0FE;\n",
              "      border: none;\n",
              "      border-radius: 50%;\n",
              "      cursor: pointer;\n",
              "      display: none;\n",
              "      fill: #1967D2;\n",
              "      height: 32px;\n",
              "      padding: 0 0 0 0;\n",
              "      width: 32px;\n",
              "    }\n",
              "\n",
              "    .colab-df-convert:hover {\n",
              "      background-color: #E2EBFA;\n",
              "      box-shadow: 0px 1px 2px rgba(60, 64, 67, 0.3), 0px 1px 3px 1px rgba(60, 64, 67, 0.15);\n",
              "      fill: #174EA6;\n",
              "    }\n",
              "\n",
              "    [theme=dark] .colab-df-convert {\n",
              "      background-color: #3B4455;\n",
              "      fill: #D2E3FC;\n",
              "    }\n",
              "\n",
              "    [theme=dark] .colab-df-convert:hover {\n",
              "      background-color: #434B5C;\n",
              "      box-shadow: 0px 1px 3px 1px rgba(0, 0, 0, 0.15);\n",
              "      filter: drop-shadow(0px 1px 2px rgba(0, 0, 0, 0.3));\n",
              "      fill: #FFFFFF;\n",
              "    }\n",
              "  </style>\n",
              "\n",
              "      <script>\n",
              "        const buttonEl =\n",
              "          document.querySelector('#df-ee6d83ca-23c6-4b13-a06b-3a75a83aac5a button.colab-df-convert');\n",
              "        buttonEl.style.display =\n",
              "          google.colab.kernel.accessAllowed ? 'block' : 'none';\n",
              "\n",
              "        async function convertToInteractive(key) {\n",
              "          const element = document.querySelector('#df-ee6d83ca-23c6-4b13-a06b-3a75a83aac5a');\n",
              "          const dataTable =\n",
              "            await google.colab.kernel.invokeFunction('convertToInteractive',\n",
              "                                                     [key], {});\n",
              "          if (!dataTable) return;\n",
              "\n",
              "          const docLinkHtml = 'Like what you see? Visit the ' +\n",
              "            '<a target=\"_blank\" href=https://colab.research.google.com/notebooks/data_table.ipynb>data table notebook</a>'\n",
              "            + ' to learn more about interactive tables.';\n",
              "          element.innerHTML = '';\n",
              "          dataTable['output_type'] = 'display_data';\n",
              "          await google.colab.output.renderOutput(dataTable, element);\n",
              "          const docLink = document.createElement('div');\n",
              "          docLink.innerHTML = docLinkHtml;\n",
              "          element.appendChild(docLink);\n",
              "        }\n",
              "      </script>\n",
              "    </div>\n",
              "  </div>\n",
              "  "
            ]
          },
          "metadata": {},
          "execution_count": 12
        }
      ]
    },
    {
      "cell_type": "code",
      "source": [
        "df_test.shape"
      ],
      "metadata": {
        "colab": {
          "base_uri": "https://localhost:8080/"
        },
        "id": "3oJs8i83nbj6",
        "outputId": "5d336ca0-162e-47df-a03d-36b0b70284c7"
      },
      "execution_count": null,
      "outputs": [
        {
          "output_type": "execute_result",
          "data": {
            "text/plain": [
              "(4277, 13)"
            ]
          },
          "metadata": {},
          "execution_count": 13
        }
      ]
    },
    {
      "cell_type": "code",
      "source": [
        "df = df.drop('Name',axis=1)\n",
        "df_test = df_test.drop('Name',axis=1)"
      ],
      "metadata": {
        "id": "q1r241LdApZG"
      },
      "execution_count": null,
      "outputs": []
    },
    {
      "cell_type": "code",
      "source": [
        "df = df.drop('PassengerId',axis=1)"
      ],
      "metadata": {
        "id": "zYRvZARKI86D"
      },
      "execution_count": null,
      "outputs": []
    },
    {
      "cell_type": "code",
      "source": [
        "pid_test = df_test.PassengerId\n",
        "df_test = df_test.drop('PassengerId',axis=1)\n"
      ],
      "metadata": {
        "id": "pZsGrmabJriH"
      },
      "execution_count": null,
      "outputs": []
    },
    {
      "cell_type": "code",
      "source": [
        "df.head(1)"
      ],
      "metadata": {
        "colab": {
          "base_uri": "https://localhost:8080/",
          "height": 81
        },
        "id": "rB0lYx52Apei",
        "outputId": "2633ca9b-d660-47b5-9d7f-da27d230c1a2"
      },
      "execution_count": null,
      "outputs": [
        {
          "output_type": "execute_result",
          "data": {
            "text/plain": [
              "  HomePlanet CryoSleep  Cabin  Destination   Age    VIP  RoomService  \\\n",
              "0     Europa     False  B/0/P  TRAPPIST-1e  39.0  False          0.0   \n",
              "\n",
              "   FoodCourt  ShoppingMall  Spa  VRDeck  Transported  \n",
              "0        0.0           0.0  0.0     0.0        False  "
            ],
            "text/html": [
              "\n",
              "  <div id=\"df-9ef5f9e6-7eee-40d5-b4f4-77f098452c50\">\n",
              "    <div class=\"colab-df-container\">\n",
              "      <div>\n",
              "<style scoped>\n",
              "    .dataframe tbody tr th:only-of-type {\n",
              "        vertical-align: middle;\n",
              "    }\n",
              "\n",
              "    .dataframe tbody tr th {\n",
              "        vertical-align: top;\n",
              "    }\n",
              "\n",
              "    .dataframe thead th {\n",
              "        text-align: right;\n",
              "    }\n",
              "</style>\n",
              "<table border=\"1\" class=\"dataframe\">\n",
              "  <thead>\n",
              "    <tr style=\"text-align: right;\">\n",
              "      <th></th>\n",
              "      <th>HomePlanet</th>\n",
              "      <th>CryoSleep</th>\n",
              "      <th>Cabin</th>\n",
              "      <th>Destination</th>\n",
              "      <th>Age</th>\n",
              "      <th>VIP</th>\n",
              "      <th>RoomService</th>\n",
              "      <th>FoodCourt</th>\n",
              "      <th>ShoppingMall</th>\n",
              "      <th>Spa</th>\n",
              "      <th>VRDeck</th>\n",
              "      <th>Transported</th>\n",
              "    </tr>\n",
              "  </thead>\n",
              "  <tbody>\n",
              "    <tr>\n",
              "      <th>0</th>\n",
              "      <td>Europa</td>\n",
              "      <td>False</td>\n",
              "      <td>B/0/P</td>\n",
              "      <td>TRAPPIST-1e</td>\n",
              "      <td>39.0</td>\n",
              "      <td>False</td>\n",
              "      <td>0.0</td>\n",
              "      <td>0.0</td>\n",
              "      <td>0.0</td>\n",
              "      <td>0.0</td>\n",
              "      <td>0.0</td>\n",
              "      <td>False</td>\n",
              "    </tr>\n",
              "  </tbody>\n",
              "</table>\n",
              "</div>\n",
              "      <button class=\"colab-df-convert\" onclick=\"convertToInteractive('df-9ef5f9e6-7eee-40d5-b4f4-77f098452c50')\"\n",
              "              title=\"Convert this dataframe to an interactive table.\"\n",
              "              style=\"display:none;\">\n",
              "        \n",
              "  <svg xmlns=\"http://www.w3.org/2000/svg\" height=\"24px\"viewBox=\"0 0 24 24\"\n",
              "       width=\"24px\">\n",
              "    <path d=\"M0 0h24v24H0V0z\" fill=\"none\"/>\n",
              "    <path d=\"M18.56 5.44l.94 2.06.94-2.06 2.06-.94-2.06-.94-.94-2.06-.94 2.06-2.06.94zm-11 1L8.5 8.5l.94-2.06 2.06-.94-2.06-.94L8.5 2.5l-.94 2.06-2.06.94zm10 10l.94 2.06.94-2.06 2.06-.94-2.06-.94-.94-2.06-.94 2.06-2.06.94z\"/><path d=\"M17.41 7.96l-1.37-1.37c-.4-.4-.92-.59-1.43-.59-.52 0-1.04.2-1.43.59L10.3 9.45l-7.72 7.72c-.78.78-.78 2.05 0 2.83L4 21.41c.39.39.9.59 1.41.59.51 0 1.02-.2 1.41-.59l7.78-7.78 2.81-2.81c.8-.78.8-2.07 0-2.86zM5.41 20L4 18.59l7.72-7.72 1.47 1.35L5.41 20z\"/>\n",
              "  </svg>\n",
              "      </button>\n",
              "      \n",
              "  <style>\n",
              "    .colab-df-container {\n",
              "      display:flex;\n",
              "      flex-wrap:wrap;\n",
              "      gap: 12px;\n",
              "    }\n",
              "\n",
              "    .colab-df-convert {\n",
              "      background-color: #E8F0FE;\n",
              "      border: none;\n",
              "      border-radius: 50%;\n",
              "      cursor: pointer;\n",
              "      display: none;\n",
              "      fill: #1967D2;\n",
              "      height: 32px;\n",
              "      padding: 0 0 0 0;\n",
              "      width: 32px;\n",
              "    }\n",
              "\n",
              "    .colab-df-convert:hover {\n",
              "      background-color: #E2EBFA;\n",
              "      box-shadow: 0px 1px 2px rgba(60, 64, 67, 0.3), 0px 1px 3px 1px rgba(60, 64, 67, 0.15);\n",
              "      fill: #174EA6;\n",
              "    }\n",
              "\n",
              "    [theme=dark] .colab-df-convert {\n",
              "      background-color: #3B4455;\n",
              "      fill: #D2E3FC;\n",
              "    }\n",
              "\n",
              "    [theme=dark] .colab-df-convert:hover {\n",
              "      background-color: #434B5C;\n",
              "      box-shadow: 0px 1px 3px 1px rgba(0, 0, 0, 0.15);\n",
              "      filter: drop-shadow(0px 1px 2px rgba(0, 0, 0, 0.3));\n",
              "      fill: #FFFFFF;\n",
              "    }\n",
              "  </style>\n",
              "\n",
              "      <script>\n",
              "        const buttonEl =\n",
              "          document.querySelector('#df-9ef5f9e6-7eee-40d5-b4f4-77f098452c50 button.colab-df-convert');\n",
              "        buttonEl.style.display =\n",
              "          google.colab.kernel.accessAllowed ? 'block' : 'none';\n",
              "\n",
              "        async function convertToInteractive(key) {\n",
              "          const element = document.querySelector('#df-9ef5f9e6-7eee-40d5-b4f4-77f098452c50');\n",
              "          const dataTable =\n",
              "            await google.colab.kernel.invokeFunction('convertToInteractive',\n",
              "                                                     [key], {});\n",
              "          if (!dataTable) return;\n",
              "\n",
              "          const docLinkHtml = 'Like what you see? Visit the ' +\n",
              "            '<a target=\"_blank\" href=https://colab.research.google.com/notebooks/data_table.ipynb>data table notebook</a>'\n",
              "            + ' to learn more about interactive tables.';\n",
              "          element.innerHTML = '';\n",
              "          dataTable['output_type'] = 'display_data';\n",
              "          await google.colab.output.renderOutput(dataTable, element);\n",
              "          const docLink = document.createElement('div');\n",
              "          docLink.innerHTML = docLinkHtml;\n",
              "          element.appendChild(docLink);\n",
              "        }\n",
              "      </script>\n",
              "    </div>\n",
              "  </div>\n",
              "  "
            ]
          },
          "metadata": {},
          "execution_count": 17
        }
      ]
    },
    {
      "cell_type": "code",
      "source": [
        "df_test.head(1)"
      ],
      "metadata": {
        "colab": {
          "base_uri": "https://localhost:8080/",
          "height": 81
        },
        "id": "ZDc1anxNoDVT",
        "outputId": "67474666-e35c-43b2-c57a-08425ec49efa"
      },
      "execution_count": null,
      "outputs": [
        {
          "output_type": "execute_result",
          "data": {
            "text/plain": [
              "  HomePlanet CryoSleep  Cabin  Destination   Age    VIP  RoomService  \\\n",
              "0      Earth      True  G/3/S  TRAPPIST-1e  27.0  False          0.0   \n",
              "\n",
              "   FoodCourt  ShoppingMall  Spa  VRDeck  \n",
              "0        0.0           0.0  0.0     0.0  "
            ],
            "text/html": [
              "\n",
              "  <div id=\"df-f20c1f68-be25-4c18-a143-3b3a94a9aaf7\">\n",
              "    <div class=\"colab-df-container\">\n",
              "      <div>\n",
              "<style scoped>\n",
              "    .dataframe tbody tr th:only-of-type {\n",
              "        vertical-align: middle;\n",
              "    }\n",
              "\n",
              "    .dataframe tbody tr th {\n",
              "        vertical-align: top;\n",
              "    }\n",
              "\n",
              "    .dataframe thead th {\n",
              "        text-align: right;\n",
              "    }\n",
              "</style>\n",
              "<table border=\"1\" class=\"dataframe\">\n",
              "  <thead>\n",
              "    <tr style=\"text-align: right;\">\n",
              "      <th></th>\n",
              "      <th>HomePlanet</th>\n",
              "      <th>CryoSleep</th>\n",
              "      <th>Cabin</th>\n",
              "      <th>Destination</th>\n",
              "      <th>Age</th>\n",
              "      <th>VIP</th>\n",
              "      <th>RoomService</th>\n",
              "      <th>FoodCourt</th>\n",
              "      <th>ShoppingMall</th>\n",
              "      <th>Spa</th>\n",
              "      <th>VRDeck</th>\n",
              "    </tr>\n",
              "  </thead>\n",
              "  <tbody>\n",
              "    <tr>\n",
              "      <th>0</th>\n",
              "      <td>Earth</td>\n",
              "      <td>True</td>\n",
              "      <td>G/3/S</td>\n",
              "      <td>TRAPPIST-1e</td>\n",
              "      <td>27.0</td>\n",
              "      <td>False</td>\n",
              "      <td>0.0</td>\n",
              "      <td>0.0</td>\n",
              "      <td>0.0</td>\n",
              "      <td>0.0</td>\n",
              "      <td>0.0</td>\n",
              "    </tr>\n",
              "  </tbody>\n",
              "</table>\n",
              "</div>\n",
              "      <button class=\"colab-df-convert\" onclick=\"convertToInteractive('df-f20c1f68-be25-4c18-a143-3b3a94a9aaf7')\"\n",
              "              title=\"Convert this dataframe to an interactive table.\"\n",
              "              style=\"display:none;\">\n",
              "        \n",
              "  <svg xmlns=\"http://www.w3.org/2000/svg\" height=\"24px\"viewBox=\"0 0 24 24\"\n",
              "       width=\"24px\">\n",
              "    <path d=\"M0 0h24v24H0V0z\" fill=\"none\"/>\n",
              "    <path d=\"M18.56 5.44l.94 2.06.94-2.06 2.06-.94-2.06-.94-.94-2.06-.94 2.06-2.06.94zm-11 1L8.5 8.5l.94-2.06 2.06-.94-2.06-.94L8.5 2.5l-.94 2.06-2.06.94zm10 10l.94 2.06.94-2.06 2.06-.94-2.06-.94-.94-2.06-.94 2.06-2.06.94z\"/><path d=\"M17.41 7.96l-1.37-1.37c-.4-.4-.92-.59-1.43-.59-.52 0-1.04.2-1.43.59L10.3 9.45l-7.72 7.72c-.78.78-.78 2.05 0 2.83L4 21.41c.39.39.9.59 1.41.59.51 0 1.02-.2 1.41-.59l7.78-7.78 2.81-2.81c.8-.78.8-2.07 0-2.86zM5.41 20L4 18.59l7.72-7.72 1.47 1.35L5.41 20z\"/>\n",
              "  </svg>\n",
              "      </button>\n",
              "      \n",
              "  <style>\n",
              "    .colab-df-container {\n",
              "      display:flex;\n",
              "      flex-wrap:wrap;\n",
              "      gap: 12px;\n",
              "    }\n",
              "\n",
              "    .colab-df-convert {\n",
              "      background-color: #E8F0FE;\n",
              "      border: none;\n",
              "      border-radius: 50%;\n",
              "      cursor: pointer;\n",
              "      display: none;\n",
              "      fill: #1967D2;\n",
              "      height: 32px;\n",
              "      padding: 0 0 0 0;\n",
              "      width: 32px;\n",
              "    }\n",
              "\n",
              "    .colab-df-convert:hover {\n",
              "      background-color: #E2EBFA;\n",
              "      box-shadow: 0px 1px 2px rgba(60, 64, 67, 0.3), 0px 1px 3px 1px rgba(60, 64, 67, 0.15);\n",
              "      fill: #174EA6;\n",
              "    }\n",
              "\n",
              "    [theme=dark] .colab-df-convert {\n",
              "      background-color: #3B4455;\n",
              "      fill: #D2E3FC;\n",
              "    }\n",
              "\n",
              "    [theme=dark] .colab-df-convert:hover {\n",
              "      background-color: #434B5C;\n",
              "      box-shadow: 0px 1px 3px 1px rgba(0, 0, 0, 0.15);\n",
              "      filter: drop-shadow(0px 1px 2px rgba(0, 0, 0, 0.3));\n",
              "      fill: #FFFFFF;\n",
              "    }\n",
              "  </style>\n",
              "\n",
              "      <script>\n",
              "        const buttonEl =\n",
              "          document.querySelector('#df-f20c1f68-be25-4c18-a143-3b3a94a9aaf7 button.colab-df-convert');\n",
              "        buttonEl.style.display =\n",
              "          google.colab.kernel.accessAllowed ? 'block' : 'none';\n",
              "\n",
              "        async function convertToInteractive(key) {\n",
              "          const element = document.querySelector('#df-f20c1f68-be25-4c18-a143-3b3a94a9aaf7');\n",
              "          const dataTable =\n",
              "            await google.colab.kernel.invokeFunction('convertToInteractive',\n",
              "                                                     [key], {});\n",
              "          if (!dataTable) return;\n",
              "\n",
              "          const docLinkHtml = 'Like what you see? Visit the ' +\n",
              "            '<a target=\"_blank\" href=https://colab.research.google.com/notebooks/data_table.ipynb>data table notebook</a>'\n",
              "            + ' to learn more about interactive tables.';\n",
              "          element.innerHTML = '';\n",
              "          dataTable['output_type'] = 'display_data';\n",
              "          await google.colab.output.renderOutput(dataTable, element);\n",
              "          const docLink = document.createElement('div');\n",
              "          docLink.innerHTML = docLinkHtml;\n",
              "          element.appendChild(docLink);\n",
              "        }\n",
              "      </script>\n",
              "    </div>\n",
              "  </div>\n",
              "  "
            ]
          },
          "metadata": {},
          "execution_count": 18
        }
      ]
    },
    {
      "cell_type": "code",
      "source": [],
      "metadata": {
        "id": "wNP3jmXoufKE"
      },
      "execution_count": null,
      "outputs": []
    },
    {
      "cell_type": "markdown",
      "source": [
        "**EDA (Exploratory Data Ananlysis)**\n",
        "\n",
        "---\n",
        "\n"
      ],
      "metadata": {
        "id": "CEfIeVzdugkh"
      }
    },
    {
      "cell_type": "code",
      "source": [
        "df.describe()"
      ],
      "metadata": {
        "colab": {
          "base_uri": "https://localhost:8080/",
          "height": 300
        },
        "id": "nd1amAY6vILZ",
        "outputId": "8b57a410-39e2-406e-d304-2e7f7295a46d"
      },
      "execution_count": null,
      "outputs": [
        {
          "output_type": "execute_result",
          "data": {
            "text/plain": [
              "               Age   RoomService     FoodCourt  ShoppingMall           Spa  \\\n",
              "count  8514.000000   8512.000000   8510.000000   8485.000000   8510.000000   \n",
              "mean     28.827930    224.687617    458.077203    173.729169    311.138778   \n",
              "std      14.489021    666.717663   1611.489240    604.696458   1136.705535   \n",
              "min       0.000000      0.000000      0.000000      0.000000      0.000000   \n",
              "25%      19.000000      0.000000      0.000000      0.000000      0.000000   \n",
              "50%      27.000000      0.000000      0.000000      0.000000      0.000000   \n",
              "75%      38.000000     47.000000     76.000000     27.000000     59.000000   \n",
              "max      79.000000  14327.000000  29813.000000  23492.000000  22408.000000   \n",
              "\n",
              "             VRDeck  \n",
              "count   8505.000000  \n",
              "mean     304.854791  \n",
              "std     1145.717189  \n",
              "min        0.000000  \n",
              "25%        0.000000  \n",
              "50%        0.000000  \n",
              "75%       46.000000  \n",
              "max    24133.000000  "
            ],
            "text/html": [
              "\n",
              "  <div id=\"df-4cb3d771-42b8-4400-b002-d07156da7001\">\n",
              "    <div class=\"colab-df-container\">\n",
              "      <div>\n",
              "<style scoped>\n",
              "    .dataframe tbody tr th:only-of-type {\n",
              "        vertical-align: middle;\n",
              "    }\n",
              "\n",
              "    .dataframe tbody tr th {\n",
              "        vertical-align: top;\n",
              "    }\n",
              "\n",
              "    .dataframe thead th {\n",
              "        text-align: right;\n",
              "    }\n",
              "</style>\n",
              "<table border=\"1\" class=\"dataframe\">\n",
              "  <thead>\n",
              "    <tr style=\"text-align: right;\">\n",
              "      <th></th>\n",
              "      <th>Age</th>\n",
              "      <th>RoomService</th>\n",
              "      <th>FoodCourt</th>\n",
              "      <th>ShoppingMall</th>\n",
              "      <th>Spa</th>\n",
              "      <th>VRDeck</th>\n",
              "    </tr>\n",
              "  </thead>\n",
              "  <tbody>\n",
              "    <tr>\n",
              "      <th>count</th>\n",
              "      <td>8514.000000</td>\n",
              "      <td>8512.000000</td>\n",
              "      <td>8510.000000</td>\n",
              "      <td>8485.000000</td>\n",
              "      <td>8510.000000</td>\n",
              "      <td>8505.000000</td>\n",
              "    </tr>\n",
              "    <tr>\n",
              "      <th>mean</th>\n",
              "      <td>28.827930</td>\n",
              "      <td>224.687617</td>\n",
              "      <td>458.077203</td>\n",
              "      <td>173.729169</td>\n",
              "      <td>311.138778</td>\n",
              "      <td>304.854791</td>\n",
              "    </tr>\n",
              "    <tr>\n",
              "      <th>std</th>\n",
              "      <td>14.489021</td>\n",
              "      <td>666.717663</td>\n",
              "      <td>1611.489240</td>\n",
              "      <td>604.696458</td>\n",
              "      <td>1136.705535</td>\n",
              "      <td>1145.717189</td>\n",
              "    </tr>\n",
              "    <tr>\n",
              "      <th>min</th>\n",
              "      <td>0.000000</td>\n",
              "      <td>0.000000</td>\n",
              "      <td>0.000000</td>\n",
              "      <td>0.000000</td>\n",
              "      <td>0.000000</td>\n",
              "      <td>0.000000</td>\n",
              "    </tr>\n",
              "    <tr>\n",
              "      <th>25%</th>\n",
              "      <td>19.000000</td>\n",
              "      <td>0.000000</td>\n",
              "      <td>0.000000</td>\n",
              "      <td>0.000000</td>\n",
              "      <td>0.000000</td>\n",
              "      <td>0.000000</td>\n",
              "    </tr>\n",
              "    <tr>\n",
              "      <th>50%</th>\n",
              "      <td>27.000000</td>\n",
              "      <td>0.000000</td>\n",
              "      <td>0.000000</td>\n",
              "      <td>0.000000</td>\n",
              "      <td>0.000000</td>\n",
              "      <td>0.000000</td>\n",
              "    </tr>\n",
              "    <tr>\n",
              "      <th>75%</th>\n",
              "      <td>38.000000</td>\n",
              "      <td>47.000000</td>\n",
              "      <td>76.000000</td>\n",
              "      <td>27.000000</td>\n",
              "      <td>59.000000</td>\n",
              "      <td>46.000000</td>\n",
              "    </tr>\n",
              "    <tr>\n",
              "      <th>max</th>\n",
              "      <td>79.000000</td>\n",
              "      <td>14327.000000</td>\n",
              "      <td>29813.000000</td>\n",
              "      <td>23492.000000</td>\n",
              "      <td>22408.000000</td>\n",
              "      <td>24133.000000</td>\n",
              "    </tr>\n",
              "  </tbody>\n",
              "</table>\n",
              "</div>\n",
              "      <button class=\"colab-df-convert\" onclick=\"convertToInteractive('df-4cb3d771-42b8-4400-b002-d07156da7001')\"\n",
              "              title=\"Convert this dataframe to an interactive table.\"\n",
              "              style=\"display:none;\">\n",
              "        \n",
              "  <svg xmlns=\"http://www.w3.org/2000/svg\" height=\"24px\"viewBox=\"0 0 24 24\"\n",
              "       width=\"24px\">\n",
              "    <path d=\"M0 0h24v24H0V0z\" fill=\"none\"/>\n",
              "    <path d=\"M18.56 5.44l.94 2.06.94-2.06 2.06-.94-2.06-.94-.94-2.06-.94 2.06-2.06.94zm-11 1L8.5 8.5l.94-2.06 2.06-.94-2.06-.94L8.5 2.5l-.94 2.06-2.06.94zm10 10l.94 2.06.94-2.06 2.06-.94-2.06-.94-.94-2.06-.94 2.06-2.06.94z\"/><path d=\"M17.41 7.96l-1.37-1.37c-.4-.4-.92-.59-1.43-.59-.52 0-1.04.2-1.43.59L10.3 9.45l-7.72 7.72c-.78.78-.78 2.05 0 2.83L4 21.41c.39.39.9.59 1.41.59.51 0 1.02-.2 1.41-.59l7.78-7.78 2.81-2.81c.8-.78.8-2.07 0-2.86zM5.41 20L4 18.59l7.72-7.72 1.47 1.35L5.41 20z\"/>\n",
              "  </svg>\n",
              "      </button>\n",
              "      \n",
              "  <style>\n",
              "    .colab-df-container {\n",
              "      display:flex;\n",
              "      flex-wrap:wrap;\n",
              "      gap: 12px;\n",
              "    }\n",
              "\n",
              "    .colab-df-convert {\n",
              "      background-color: #E8F0FE;\n",
              "      border: none;\n",
              "      border-radius: 50%;\n",
              "      cursor: pointer;\n",
              "      display: none;\n",
              "      fill: #1967D2;\n",
              "      height: 32px;\n",
              "      padding: 0 0 0 0;\n",
              "      width: 32px;\n",
              "    }\n",
              "\n",
              "    .colab-df-convert:hover {\n",
              "      background-color: #E2EBFA;\n",
              "      box-shadow: 0px 1px 2px rgba(60, 64, 67, 0.3), 0px 1px 3px 1px rgba(60, 64, 67, 0.15);\n",
              "      fill: #174EA6;\n",
              "    }\n",
              "\n",
              "    [theme=dark] .colab-df-convert {\n",
              "      background-color: #3B4455;\n",
              "      fill: #D2E3FC;\n",
              "    }\n",
              "\n",
              "    [theme=dark] .colab-df-convert:hover {\n",
              "      background-color: #434B5C;\n",
              "      box-shadow: 0px 1px 3px 1px rgba(0, 0, 0, 0.15);\n",
              "      filter: drop-shadow(0px 1px 2px rgba(0, 0, 0, 0.3));\n",
              "      fill: #FFFFFF;\n",
              "    }\n",
              "  </style>\n",
              "\n",
              "      <script>\n",
              "        const buttonEl =\n",
              "          document.querySelector('#df-4cb3d771-42b8-4400-b002-d07156da7001 button.colab-df-convert');\n",
              "        buttonEl.style.display =\n",
              "          google.colab.kernel.accessAllowed ? 'block' : 'none';\n",
              "\n",
              "        async function convertToInteractive(key) {\n",
              "          const element = document.querySelector('#df-4cb3d771-42b8-4400-b002-d07156da7001');\n",
              "          const dataTable =\n",
              "            await google.colab.kernel.invokeFunction('convertToInteractive',\n",
              "                                                     [key], {});\n",
              "          if (!dataTable) return;\n",
              "\n",
              "          const docLinkHtml = 'Like what you see? Visit the ' +\n",
              "            '<a target=\"_blank\" href=https://colab.research.google.com/notebooks/data_table.ipynb>data table notebook</a>'\n",
              "            + ' to learn more about interactive tables.';\n",
              "          element.innerHTML = '';\n",
              "          dataTable['output_type'] = 'display_data';\n",
              "          await google.colab.output.renderOutput(dataTable, element);\n",
              "          const docLink = document.createElement('div');\n",
              "          docLink.innerHTML = docLinkHtml;\n",
              "          element.appendChild(docLink);\n",
              "        }\n",
              "      </script>\n",
              "    </div>\n",
              "  </div>\n",
              "  "
            ]
          },
          "metadata": {},
          "execution_count": 19
        }
      ]
    },
    {
      "cell_type": "code",
      "source": [
        "df.info()"
      ],
      "metadata": {
        "colab": {
          "base_uri": "https://localhost:8080/"
        },
        "id": "_j-4EDUsvIVm",
        "outputId": "f99d081a-fc8b-4a5e-8ca0-c8cc266d9c42"
      },
      "execution_count": null,
      "outputs": [
        {
          "output_type": "stream",
          "name": "stdout",
          "text": [
            "<class 'pandas.core.frame.DataFrame'>\n",
            "RangeIndex: 8693 entries, 0 to 8692\n",
            "Data columns (total 12 columns):\n",
            " #   Column        Non-Null Count  Dtype  \n",
            "---  ------        --------------  -----  \n",
            " 0   HomePlanet    8492 non-null   object \n",
            " 1   CryoSleep     8476 non-null   object \n",
            " 2   Cabin         8494 non-null   object \n",
            " 3   Destination   8511 non-null   object \n",
            " 4   Age           8514 non-null   float64\n",
            " 5   VIP           8490 non-null   object \n",
            " 6   RoomService   8512 non-null   float64\n",
            " 7   FoodCourt     8510 non-null   float64\n",
            " 8   ShoppingMall  8485 non-null   float64\n",
            " 9   Spa           8510 non-null   float64\n",
            " 10  VRDeck        8505 non-null   float64\n",
            " 11  Transported   8693 non-null   bool   \n",
            "dtypes: bool(1), float64(6), object(5)\n",
            "memory usage: 755.7+ KB\n"
          ]
        }
      ]
    },
    {
      "cell_type": "code",
      "source": [
        "df_test.describe()\n"
      ],
      "metadata": {
        "colab": {
          "base_uri": "https://localhost:8080/",
          "height": 300
        },
        "id": "nk9wSxKivIZk",
        "outputId": "c92e1eb7-af9b-48ff-af6b-2a7d22b08b9d"
      },
      "execution_count": null,
      "outputs": [
        {
          "output_type": "execute_result",
          "data": {
            "text/plain": [
              "               Age   RoomService     FoodCourt  ShoppingMall           Spa  \\\n",
              "count  4186.000000   4195.000000   4171.000000   4179.000000   4176.000000   \n",
              "mean     28.658146    219.266269    439.484296    177.295525    303.052443   \n",
              "std      14.179072    607.011289   1527.663045    560.821123   1117.186015   \n",
              "min       0.000000      0.000000      0.000000      0.000000      0.000000   \n",
              "25%      19.000000      0.000000      0.000000      0.000000      0.000000   \n",
              "50%      26.000000      0.000000      0.000000      0.000000      0.000000   \n",
              "75%      37.000000     53.000000     78.000000     33.000000     50.000000   \n",
              "max      79.000000  11567.000000  25273.000000   8292.000000  19844.000000   \n",
              "\n",
              "             VRDeck  \n",
              "count   4197.000000  \n",
              "mean     310.710031  \n",
              "std     1246.994742  \n",
              "min        0.000000  \n",
              "25%        0.000000  \n",
              "50%        0.000000  \n",
              "75%       36.000000  \n",
              "max    22272.000000  "
            ],
            "text/html": [
              "\n",
              "  <div id=\"df-a2731af5-a823-4de5-ad51-b3c90b3faa7c\">\n",
              "    <div class=\"colab-df-container\">\n",
              "      <div>\n",
              "<style scoped>\n",
              "    .dataframe tbody tr th:only-of-type {\n",
              "        vertical-align: middle;\n",
              "    }\n",
              "\n",
              "    .dataframe tbody tr th {\n",
              "        vertical-align: top;\n",
              "    }\n",
              "\n",
              "    .dataframe thead th {\n",
              "        text-align: right;\n",
              "    }\n",
              "</style>\n",
              "<table border=\"1\" class=\"dataframe\">\n",
              "  <thead>\n",
              "    <tr style=\"text-align: right;\">\n",
              "      <th></th>\n",
              "      <th>Age</th>\n",
              "      <th>RoomService</th>\n",
              "      <th>FoodCourt</th>\n",
              "      <th>ShoppingMall</th>\n",
              "      <th>Spa</th>\n",
              "      <th>VRDeck</th>\n",
              "    </tr>\n",
              "  </thead>\n",
              "  <tbody>\n",
              "    <tr>\n",
              "      <th>count</th>\n",
              "      <td>4186.000000</td>\n",
              "      <td>4195.000000</td>\n",
              "      <td>4171.000000</td>\n",
              "      <td>4179.000000</td>\n",
              "      <td>4176.000000</td>\n",
              "      <td>4197.000000</td>\n",
              "    </tr>\n",
              "    <tr>\n",
              "      <th>mean</th>\n",
              "      <td>28.658146</td>\n",
              "      <td>219.266269</td>\n",
              "      <td>439.484296</td>\n",
              "      <td>177.295525</td>\n",
              "      <td>303.052443</td>\n",
              "      <td>310.710031</td>\n",
              "    </tr>\n",
              "    <tr>\n",
              "      <th>std</th>\n",
              "      <td>14.179072</td>\n",
              "      <td>607.011289</td>\n",
              "      <td>1527.663045</td>\n",
              "      <td>560.821123</td>\n",
              "      <td>1117.186015</td>\n",
              "      <td>1246.994742</td>\n",
              "    </tr>\n",
              "    <tr>\n",
              "      <th>min</th>\n",
              "      <td>0.000000</td>\n",
              "      <td>0.000000</td>\n",
              "      <td>0.000000</td>\n",
              "      <td>0.000000</td>\n",
              "      <td>0.000000</td>\n",
              "      <td>0.000000</td>\n",
              "    </tr>\n",
              "    <tr>\n",
              "      <th>25%</th>\n",
              "      <td>19.000000</td>\n",
              "      <td>0.000000</td>\n",
              "      <td>0.000000</td>\n",
              "      <td>0.000000</td>\n",
              "      <td>0.000000</td>\n",
              "      <td>0.000000</td>\n",
              "    </tr>\n",
              "    <tr>\n",
              "      <th>50%</th>\n",
              "      <td>26.000000</td>\n",
              "      <td>0.000000</td>\n",
              "      <td>0.000000</td>\n",
              "      <td>0.000000</td>\n",
              "      <td>0.000000</td>\n",
              "      <td>0.000000</td>\n",
              "    </tr>\n",
              "    <tr>\n",
              "      <th>75%</th>\n",
              "      <td>37.000000</td>\n",
              "      <td>53.000000</td>\n",
              "      <td>78.000000</td>\n",
              "      <td>33.000000</td>\n",
              "      <td>50.000000</td>\n",
              "      <td>36.000000</td>\n",
              "    </tr>\n",
              "    <tr>\n",
              "      <th>max</th>\n",
              "      <td>79.000000</td>\n",
              "      <td>11567.000000</td>\n",
              "      <td>25273.000000</td>\n",
              "      <td>8292.000000</td>\n",
              "      <td>19844.000000</td>\n",
              "      <td>22272.000000</td>\n",
              "    </tr>\n",
              "  </tbody>\n",
              "</table>\n",
              "</div>\n",
              "      <button class=\"colab-df-convert\" onclick=\"convertToInteractive('df-a2731af5-a823-4de5-ad51-b3c90b3faa7c')\"\n",
              "              title=\"Convert this dataframe to an interactive table.\"\n",
              "              style=\"display:none;\">\n",
              "        \n",
              "  <svg xmlns=\"http://www.w3.org/2000/svg\" height=\"24px\"viewBox=\"0 0 24 24\"\n",
              "       width=\"24px\">\n",
              "    <path d=\"M0 0h24v24H0V0z\" fill=\"none\"/>\n",
              "    <path d=\"M18.56 5.44l.94 2.06.94-2.06 2.06-.94-2.06-.94-.94-2.06-.94 2.06-2.06.94zm-11 1L8.5 8.5l.94-2.06 2.06-.94-2.06-.94L8.5 2.5l-.94 2.06-2.06.94zm10 10l.94 2.06.94-2.06 2.06-.94-2.06-.94-.94-2.06-.94 2.06-2.06.94z\"/><path d=\"M17.41 7.96l-1.37-1.37c-.4-.4-.92-.59-1.43-.59-.52 0-1.04.2-1.43.59L10.3 9.45l-7.72 7.72c-.78.78-.78 2.05 0 2.83L4 21.41c.39.39.9.59 1.41.59.51 0 1.02-.2 1.41-.59l7.78-7.78 2.81-2.81c.8-.78.8-2.07 0-2.86zM5.41 20L4 18.59l7.72-7.72 1.47 1.35L5.41 20z\"/>\n",
              "  </svg>\n",
              "      </button>\n",
              "      \n",
              "  <style>\n",
              "    .colab-df-container {\n",
              "      display:flex;\n",
              "      flex-wrap:wrap;\n",
              "      gap: 12px;\n",
              "    }\n",
              "\n",
              "    .colab-df-convert {\n",
              "      background-color: #E8F0FE;\n",
              "      border: none;\n",
              "      border-radius: 50%;\n",
              "      cursor: pointer;\n",
              "      display: none;\n",
              "      fill: #1967D2;\n",
              "      height: 32px;\n",
              "      padding: 0 0 0 0;\n",
              "      width: 32px;\n",
              "    }\n",
              "\n",
              "    .colab-df-convert:hover {\n",
              "      background-color: #E2EBFA;\n",
              "      box-shadow: 0px 1px 2px rgba(60, 64, 67, 0.3), 0px 1px 3px 1px rgba(60, 64, 67, 0.15);\n",
              "      fill: #174EA6;\n",
              "    }\n",
              "\n",
              "    [theme=dark] .colab-df-convert {\n",
              "      background-color: #3B4455;\n",
              "      fill: #D2E3FC;\n",
              "    }\n",
              "\n",
              "    [theme=dark] .colab-df-convert:hover {\n",
              "      background-color: #434B5C;\n",
              "      box-shadow: 0px 1px 3px 1px rgba(0, 0, 0, 0.15);\n",
              "      filter: drop-shadow(0px 1px 2px rgba(0, 0, 0, 0.3));\n",
              "      fill: #FFFFFF;\n",
              "    }\n",
              "  </style>\n",
              "\n",
              "      <script>\n",
              "        const buttonEl =\n",
              "          document.querySelector('#df-a2731af5-a823-4de5-ad51-b3c90b3faa7c button.colab-df-convert');\n",
              "        buttonEl.style.display =\n",
              "          google.colab.kernel.accessAllowed ? 'block' : 'none';\n",
              "\n",
              "        async function convertToInteractive(key) {\n",
              "          const element = document.querySelector('#df-a2731af5-a823-4de5-ad51-b3c90b3faa7c');\n",
              "          const dataTable =\n",
              "            await google.colab.kernel.invokeFunction('convertToInteractive',\n",
              "                                                     [key], {});\n",
              "          if (!dataTable) return;\n",
              "\n",
              "          const docLinkHtml = 'Like what you see? Visit the ' +\n",
              "            '<a target=\"_blank\" href=https://colab.research.google.com/notebooks/data_table.ipynb>data table notebook</a>'\n",
              "            + ' to learn more about interactive tables.';\n",
              "          element.innerHTML = '';\n",
              "          dataTable['output_type'] = 'display_data';\n",
              "          await google.colab.output.renderOutput(dataTable, element);\n",
              "          const docLink = document.createElement('div');\n",
              "          docLink.innerHTML = docLinkHtml;\n",
              "          element.appendChild(docLink);\n",
              "        }\n",
              "      </script>\n",
              "    </div>\n",
              "  </div>\n",
              "  "
            ]
          },
          "metadata": {},
          "execution_count": 21
        }
      ]
    },
    {
      "cell_type": "code",
      "source": [
        "df_test.info()"
      ],
      "metadata": {
        "colab": {
          "base_uri": "https://localhost:8080/"
        },
        "id": "bnTOf5wXvIcb",
        "outputId": "0d232988-29dc-4d57-b0b2-1e5d2a49d1a4"
      },
      "execution_count": null,
      "outputs": [
        {
          "output_type": "stream",
          "name": "stdout",
          "text": [
            "<class 'pandas.core.frame.DataFrame'>\n",
            "RangeIndex: 4277 entries, 0 to 4276\n",
            "Data columns (total 11 columns):\n",
            " #   Column        Non-Null Count  Dtype  \n",
            "---  ------        --------------  -----  \n",
            " 0   HomePlanet    4190 non-null   object \n",
            " 1   CryoSleep     4184 non-null   object \n",
            " 2   Cabin         4177 non-null   object \n",
            " 3   Destination   4185 non-null   object \n",
            " 4   Age           4186 non-null   float64\n",
            " 5   VIP           4184 non-null   object \n",
            " 6   RoomService   4195 non-null   float64\n",
            " 7   FoodCourt     4171 non-null   float64\n",
            " 8   ShoppingMall  4179 non-null   float64\n",
            " 9   Spa           4176 non-null   float64\n",
            " 10  VRDeck        4197 non-null   float64\n",
            "dtypes: float64(6), object(5)\n",
            "memory usage: 367.7+ KB\n"
          ]
        }
      ]
    },
    {
      "cell_type": "code",
      "source": [
        "plt.figure(figsize=(16,9));\n",
        "sns.heatmap(df.isnull());\n",
        "plt.title(\"Null values HeatMap\");"
      ],
      "metadata": {
        "colab": {
          "base_uri": "https://localhost:8080/",
          "height": 730
        },
        "id": "dfnbYmmoVrcL",
        "outputId": "243b7637-910f-41de-b7aa-ff5d8ed54588"
      },
      "execution_count": null,
      "outputs": [
        {
          "output_type": "display_data",
          "data": {
            "text/plain": [
              "<Figure size 1600x900 with 2 Axes>"
            ],
            "image/png": "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\n"
          },
          "metadata": {}
        }
      ]
    },
    {
      "cell_type": "code",
      "source": [
        "plt.figure(figsize=(16,9));\n",
        "sns.heatmap(df_test.isnull());\n",
        "plt.title(\"Null values HeatMap\");"
      ],
      "metadata": {
        "colab": {
          "base_uri": "https://localhost:8080/",
          "height": 730
        },
        "id": "SnVZqrflu077",
        "outputId": "b3269b34-1cf2-43c4-c39b-43e8be1dae22"
      },
      "execution_count": null,
      "outputs": [
        {
          "output_type": "display_data",
          "data": {
            "text/plain": [
              "<Figure size 1600x900 with 2 Axes>"
            ],
            "image/png": "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\n"
          },
          "metadata": {}
        }
      ]
    },
    {
      "cell_type": "markdown",
      "source": [
        "Univariate Analysis\n",
        "\n",
        "---\n",
        "\n"
      ],
      "metadata": {
        "id": "Wt3TA60av7SM"
      }
    },
    {
      "cell_type": "code",
      "source": [
        "df['Transported'].value_counts().plot(kind='bar');"
      ],
      "metadata": {
        "colab": {
          "base_uri": "https://localhost:8080/",
          "height": 451
        },
        "id": "k4GfeddTlELl",
        "outputId": "cfd72d88-6da9-437f-a8e1-31196172d384"
      },
      "execution_count": null,
      "outputs": [
        {
          "output_type": "display_data",
          "data": {
            "text/plain": [
              "<Figure size 640x480 with 1 Axes>"
            ],
            "image/png": "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\n"
          },
          "metadata": {}
        }
      ]
    },
    {
      "cell_type": "code",
      "source": [
        "df['CryoSleep'].value_counts().plot(kind='bar');"
      ],
      "metadata": {
        "colab": {
          "base_uri": "https://localhost:8080/",
          "height": 451
        },
        "id": "QhnpCN30vIiq",
        "outputId": "40ff4dc8-6617-46b3-ae09-c2ad8bc07dea"
      },
      "execution_count": null,
      "outputs": [
        {
          "output_type": "display_data",
          "data": {
            "text/plain": [
              "<Figure size 640x480 with 1 Axes>"
            ],
            "image/png": "iVBORw0KGgoAAAANSUhEUgAAAjAAAAGyCAYAAAD6Yf4hAAAAOXRFWHRTb2Z0d2FyZQBNYXRwbG90bGliIHZlcnNpb24zLjcuMSwgaHR0cHM6Ly9tYXRwbG90bGliLm9yZy/bCgiHAAAACXBIWXMAAA9hAAAPYQGoP6dpAAAiSklEQVR4nO3de3BU9d3H8U8SyHLdDSDZmCHU0EyFIMgQFLYiFU3Z4trREmbEAqYIWpjASFJumVJEdB4oXriUWytq0EIFWsVCKjGSEoqEi6GhXCQjEidpwwaUZheQJJDs84eTM2xBJOGy+SXv18zOuOf89vA9nS55s3t2ExYIBAICAAAwSHioBwAAAGgoAgYAABiHgAEAAMYhYAAAgHEIGAAAYBwCBgAAGIeAAQAAxiFgAACAcVqFeoCbpa6uTuXl5erYsaPCwsJCPQ4AALgGgUBAZ86cUWxsrMLDv/11lmYbMOXl5YqLiwv1GAAAoBHKysrUrVu3b93fbAOmY8eOkr75H8But4d4GgAAcC38fr/i4uKsn+PfptkGTP3bRna7nYABAMAw33X5BxfxAgAA4xAwAADAOAQMAAAwDgEDAACMQ8AAAADjEDAAAMA4BAwAADAOAQMAAIxDwAAAAOMQMAAAwDgEDAAAMA4BAwAAjEPAAAAA4xAwAADAOK1CPQBuvDtmZYd6BNxCXyzwhHoEALjleAUGAAAYh4ABAADGIWAAAIBxCBgAAGAcAgYAABiHgAEAAMYhYAAAgHEIGAAAYBwCBgAAGIeAAQAAxiFgAACAcQgYAABgHAIGAAAYh4ABAADGIWAAAIBxCBgAAGAcAgYAABiHgAEAAMYhYAAAgHEIGAAAYBwCBgAAGIeAAQAAxiFgAACAcQgYAABgnAYFzNy5cxUWFhZ069mzp7W/qqpKaWlp6tKlizp06KCUlBRVVFQEHaO0tFQej0ft2rVTdHS0pk+frosXLwat2b59u/r37y+bzaaEhARlZWU1/gwBAECz0+BXYHr37q0TJ05Yt507d1r70tPTtXnzZm3cuFH5+fkqLy/XiBEjrP21tbXyeDyqqanRrl27tGbNGmVlZWnOnDnWmpKSEnk8Hg0dOlRFRUWaOnWqJkyYoJycnOs8VQAA0Fy0avADWrVSTEzMZdt9Pp9ef/11rVu3Tg8++KAk6c0331SvXr20e/duDRo0SB9++KGOHDmijz76SE6nU/369dMLL7ygmTNnau7cuYqMjNSqVasUHx+vV155RZLUq1cv7dy5U4sWLZLb7b7O0wUAAM1Bg1+B+eyzzxQbG6sePXpo9OjRKi0tlSQVFhbqwoULSk5Ottb27NlT3bt3V0FBgSSpoKBAffr0kdPptNa43W75/X4dPnzYWnPpMerX1B/j21RXV8vv9wfdAABA89SggBk4cKCysrK0detWrVy5UiUlJbr//vt15swZeb1eRUZGKioqKugxTqdTXq9XkuT1eoPipX5//b6rrfH7/Tp//vy3zjZ//nw5HA7rFhcX15BTAwAABmnQW0jDhw+3/rtv374aOHCgvve972nDhg1q27btDR+uITIzM5WRkWHd9/v9RAwAAM3UdX2MOioqSj/4wQ907NgxxcTEqKamRpWVlUFrKioqrGtmYmJiLvtUUv3971pjt9uvGkk2m012uz3oBgAAmqfrCpizZ8/q888/1+23366kpCS1bt1a27Zts/YXFxertLRULpdLkuRyuXTw4EGdPHnSWpObmyu73a7ExERrzaXHqF9TfwwAAIAGBcy0adOUn5+vL774Qrt27dLPfvYzRURE6IknnpDD4dD48eOVkZGhv//97yosLNS4cePkcrk0aNAgSdKwYcOUmJiosWPH6sCBA8rJydHs2bOVlpYmm80mSZo4caKOHz+uGTNm6OjRo1qxYoU2bNig9PT0G3/2AADASA26Bubf//63nnjiCX311Vfq2rWrBg8erN27d6tr166SpEWLFik8PFwpKSmqrq6W2+3WihUrrMdHRERoy5YtmjRpklwul9q3b6/U1FTNmzfPWhMfH6/s7Gylp6dryZIl6tatm1avXs1HqAEAgCUsEAgEQj3EzeD3++VwOOTz+Vrc9TB3zMoO9Qi4hb5Y4An1CABww1zrz29+FxIAADAOAQMAAIxDwAAAAOMQMAAAwDgEDAAAMA4BAwAAjEPAAAAA4xAwAADAOAQMAAAwDgEDAACMQ8AAAADjEDAAAMA4BAwAADAOAQMAAIxDwAAAAOMQMAAAwDgEDAAAMA4BAwAAjEPAAAAA4xAwAADAOAQMAAAwDgEDAACMQ8AAAADjEDAAAMA4BAwAADAOAQMAAIxDwAAAAOMQMAAAwDgEDAAAMA4BAwAAjEPAAAAA4xAwAADAOAQMAAAwDgEDAACMQ8AAAADjEDAAAMA4BAwAADAOAQMAAIxDwAAAAOMQMAAAwDgEDAAAMA4BAwAAjEPAAAAA4xAwAADAOAQMAAAwDgEDAACMQ8AAAADjEDAAAMA4BAwAADAOAQMAAIxDwAAAAOMQMAAAwDgEDAAAMM51BcyCBQsUFhamqVOnWtuqqqqUlpamLl26qEOHDkpJSVFFRUXQ40pLS+XxeNSuXTtFR0dr+vTpunjxYtCa7du3q3///rLZbEpISFBWVtb1jAoAAJqRRgfMvn379Pvf/159+/YN2p6enq7Nmzdr48aNys/PV3l5uUaMGGHtr62tlcfjUU1NjXbt2qU1a9YoKytLc+bMsdaUlJTI4/Fo6NChKioq0tSpUzVhwgTl5OQ0dlwAANCMNCpgzp49q9GjR+u1115Tp06drO0+n0+vv/66Xn31VT344INKSkrSm2++qV27dmn37t2SpA8//FBHjhzRH//4R/Xr10/Dhw/XCy+8oOXLl6umpkaStGrVKsXHx+uVV15Rr169NHnyZI0cOVKLFi26AacMAABM16iASUtLk8fjUXJyctD2wsJCXbhwIWh7z5491b17dxUUFEiSCgoK1KdPHzmdTmuN2+2W3+/X4cOHrTX/e2y3220dAwAAtGytGvqAd955R/v379e+ffsu2+f1ehUZGamoqKig7U6nU16v11pzabzU76/fd7U1fr9f58+fV9u2bS/7s6urq1VdXW3d9/v9DT01AABgiAa9AlNWVqZnn31Wa9euVZs2bW7WTI0yf/58ORwO6xYXFxfqkQAAwE3SoIApLCzUyZMn1b9/f7Vq1UqtWrVSfn6+li5dqlatWsnpdKqmpkaVlZVBj6uoqFBMTIwkKSYm5rJPJdXf/641drv9iq++SFJmZqZ8Pp91Kysra8ipAQAAgzQoYB566CEdPHhQRUVF1m3AgAEaPXq09d+tW7fWtm3brMcUFxertLRULpdLkuRyuXTw4EGdPHnSWpObmyu73a7ExERrzaXHqF9Tf4wrsdlsstvtQTcAANA8NegamI4dO+quu+4K2ta+fXt16dLF2j5+/HhlZGSoc+fOstvtmjJlilwulwYNGiRJGjZsmBITEzV27FgtXLhQXq9Xs2fPVlpammw2myRp4sSJWrZsmWbMmKGnnnpKeXl52rBhg7Kzs2/EOQMAAMM1+CLe77Jo0SKFh4crJSVF1dXVcrvdWrFihbU/IiJCW7Zs0aRJk+RyudS+fXulpqZq3rx51pr4+HhlZ2crPT1dS5YsUbdu3bR69Wq53e4bPS4AADBQWCAQCIR6iJvB7/fL4XDI5/O1uLeT7pjFK1UtyRcLPKEeAQBumGv9+c3vQgIAAMYhYAAAgHEIGAAAYBwCBgAAGIeAAQAAxiFgAACAcQgYAABgHAIGAAAYh4ABAADGIWAAAIBxCBgAAGAcAgYAABiHgAEAAMYhYAAAgHEIGAAAYBwCBgAAGIeAAQAAxiFgAACAcQgYAABgHAIGAAAYh4ABAADGIWAAAIBxCBgAAGAcAgYAABiHgAEAAMYhYAAAgHEIGAAAYBwCBgAAGIeAAQAAxiFgAACAcQgYAABgHAIGAAAYh4ABAADGIWAAAIBxCBgAAGAcAgYAABiHgAEAAMYhYAAAgHEIGAAAYBwCBgAAGIeAAQAAxiFgAACAcQgYAABgHAIGAAAYh4ABAADGIWAAAIBxCBgAAGAcAgYAABiHgAEAAMYhYAAAgHEIGAAAYBwCBgAAGIeAAQAAxiFgAACAcRoUMCtXrlTfvn1lt9tlt9vlcrn0wQcfWPurqqqUlpamLl26qEOHDkpJSVFFRUXQMUpLS+XxeNSuXTtFR0dr+vTpunjxYtCa7du3q3///rLZbEpISFBWVlbjzxAAADQ7DQqYbt26acGCBSosLNQnn3yiBx98UI8++qgOHz4sSUpPT9fmzZu1ceNG5efnq7y8XCNGjLAeX1tbK4/Ho5qaGu3atUtr1qxRVlaW5syZY60pKSmRx+PR0KFDVVRUpKlTp2rChAnKycm5QacMAABMFxYIBALXc4DOnTvrpZde0siRI9W1a1etW7dOI0eOlCQdPXpUvXr1UkFBgQYNGqQPPvhAjzzyiMrLy+V0OiVJq1at0syZM3Xq1ClFRkZq5syZys7O1qFDh6w/Y9SoUaqsrNTWrVuveS6/3y+HwyGfzye73X49p2icO2Zlh3oE3EJfLPCEegTcQjy/W5aW+Py+1p/fjb4Gpra2Vu+8847OnTsnl8ulwsJCXbhwQcnJydaanj17qnv37iooKJAkFRQUqE+fPla8SJLb7Zbf77dexSkoKAg6Rv2a+mN8m+rqavn9/qAbAABonhocMAcPHlSHDh1ks9k0ceJEvffee0pMTJTX61VkZKSioqKC1judTnm9XkmS1+sNipf6/fX7rrbG7/fr/Pnz3zrX/Pnz5XA4rFtcXFxDTw0AABiiwQFz5513qqioSHv27NGkSZOUmpqqI0eO3IzZGiQzM1M+n8+6lZWVhXokAABwk7Rq6AMiIyOVkJAgSUpKStK+ffu0ZMkSPf7446qpqVFlZWXQqzAVFRWKiYmRJMXExGjv3r1Bx6v/lNKla/73k0sVFRWy2+1q27btt85ls9lks9kaejoAAMBA1/09MHV1daqurlZSUpJat26tbdu2WfuKi4tVWloql8slSXK5XDp48KBOnjxprcnNzZXdbldiYqK15tJj1K+pPwYAAECDXoHJzMzU8OHD1b17d505c0br1q3T9u3blZOTI4fDofHjxysjI0OdO3eW3W7XlClT5HK5NGjQIEnSsGHDlJiYqLFjx2rhwoXyer2aPXu20tLSrFdPJk6cqGXLlmnGjBl66qmnlJeXpw0bNig7myvvAQDANxoUMCdPntSTTz6pEydOyOFwqG/fvsrJydGPf/xjSdKiRYsUHh6ulJQUVVdXy+12a8WKFdbjIyIitGXLFk2aNEkul0vt27dXamqq5s2bZ62Jj49Xdna20tPTtWTJEnXr1k2rV6+W2+2+QacMAABMd93fA9NU8T0waCla4vdEtGQ8v1uWlvj8vunfAwMAABAqBAwAADAOAQMAAIxDwAAAAOMQMAAAwDgEDAAAMA4BAwAAjEPAAAAA4xAwAADAOAQMAAAwDgEDAACMQ8AAAADjEDAAAMA4BAwAADAOAQMAAIxDwAAAAOMQMAAAwDgEDAAAMA4BAwAAjEPAAAAA4xAwAADAOAQMAAAwDgEDAACMQ8AAAADjEDAAAMA4BAwAADAOAQMAAIxDwAAAAOMQMAAAwDgEDAAAMA4BAwAAjEPAAAAA4xAwAADAOAQMAAAwDgEDAACMQ8AAAADjEDAAAMA4BAwAADAOAQMAAIxDwAAAAOMQMAAAwDgEDAAAMA4BAwAAjEPAAAAA4xAwAADAOAQMAAAwDgEDAACMQ8AAAADjEDAAAMA4BAwAADAOAQMAAIxDwAAAAOMQMAAAwDgEDAAAME6DAmb+/Pm655571LFjR0VHR+uxxx5TcXFx0JqqqiqlpaWpS5cu6tChg1JSUlRRURG0prS0VB6PR+3atVN0dLSmT5+uixcvBq3Zvn27+vfvL5vNpoSEBGVlZTXuDAEAQLPToIDJz89XWlqadu/erdzcXF24cEHDhg3TuXPnrDXp6enavHmzNm7cqPz8fJWXl2vEiBHW/traWnk8HtXU1GjXrl1as2aNsrKyNGfOHGtNSUmJPB6Phg4dqqKiIk2dOlUTJkxQTk7ODThlAABgurBAIBBo7INPnTql6Oho5efna8iQIfL5fOratavWrVunkSNHSpKOHj2qXr16qaCgQIMGDdIHH3ygRx55ROXl5XI6nZKkVatWaebMmTp16pQiIyM1c+ZMZWdn69ChQ9afNWrUKFVWVmrr1q3XNJvf75fD4ZDP55Pdbm/sKRrpjlnZoR4Bt9AXCzyhHgG3EM/vlqUlPr+v9ef3dV0D4/P5JEmdO3eWJBUWFurChQtKTk621vTs2VPdu3dXQUGBJKmgoEB9+vSx4kWS3G63/H6/Dh8+bK259Bj1a+qPcSXV1dXy+/1BNwAA0Dw1OmDq6uo0depU3XfffbrrrrskSV6vV5GRkYqKigpa63Q65fV6rTWXxkv9/vp9V1vj9/t1/vz5K84zf/58ORwO6xYXF9fYUwMAAE1cowMmLS1Nhw4d0jvvvHMj52m0zMxM+Xw+61ZWVhbqkQAAwE3SqjEPmjx5srZs2aIdO3aoW7du1vaYmBjV1NSosrIy6FWYiooKxcTEWGv27t0bdLz6TylduuZ/P7lUUVEhu92utm3bXnEmm80mm83WmNMBAACGadArMIFAQJMnT9Z7772nvLw8xcfHB+1PSkpS69attW3bNmtbcXGxSktL5XK5JEkul0sHDx7UyZMnrTW5ubmy2+1KTEy01lx6jPo19ccAAAAtW4NegUlLS9O6dev0/vvvq2PHjtY1Kw6HQ23btpXD4dD48eOVkZGhzp07y263a8qUKXK5XBo0aJAkadiwYUpMTNTYsWO1cOFCeb1ezZ49W2lpadYrKBMnTtSyZcs0Y8YMPfXUU8rLy9OGDRuUnc3V9wAAoIGvwKxcuVI+n08PPPCAbr/9duu2fv16a82iRYv0yCOPKCUlRUOGDFFMTIzeffdda39ERIS2bNmiiIgIuVwujRkzRk8++aTmzZtnrYmPj1d2drZyc3N1991365VXXtHq1avldrtvwCkDAADTXdf3wDRlfA8MWoqW+D0RLRnP75alJT6/b8n3wAAAAIQCAQMAAIxDwAAAAOMQMAAAwDgEDAAAMA4BAwAAjEPAAAAA4xAwAADAOAQMAAAwDgEDAACMQ8AAAADjEDAAAMA4BAwAADAOAQMAAIxDwAAAAOMQMAAAwDgEDAAAMA4BAwAAjEPAAAAA4xAwAADAOAQMAAAwDgEDAACMQ8AAAADjEDAAAMA4BAwAADAOAQMAAIxDwAAAAOMQMAAAwDgEDAAAMA4BAwAAjEPAAAAA4xAwAADAOAQMAAAwDgEDAACMQ8AAAADjEDAAAMA4BAwAADAOAQMAAIxDwAAAAOMQMAAAwDgEDAAAMA4BAwAAjEPAAAAA4xAwAADAOAQMAAAwDgEDAACMQ8AAAADjEDAAAMA4BAwAADAOAQMAAIxDwAAAAOMQMAAAwDgEDAAAME6DA2bHjh366U9/qtjYWIWFhWnTpk1B+wOBgObMmaPbb79dbdu2VXJysj777LOgNadPn9bo0aNlt9sVFRWl8ePH6+zZs0Fr/vWvf+n+++9XmzZtFBcXp4ULFzb87AAAQLPU4IA5d+6c7r77bi1fvvyK+xcuXKilS5dq1apV2rNnj9q3by+3262qqiprzejRo3X48GHl5uZqy5Yt2rFjh5555hlrv9/v17Bhw/S9731PhYWFeumllzR37lz94Q9/aMQpAgCA5qZVQx8wfPhwDR8+/Ir7AoGAFi9erNmzZ+vRRx+VJL311ltyOp3atGmTRo0apU8//VRbt27Vvn37NGDAAEnS7373Oz388MN6+eWXFRsbq7Vr16qmpkZvvPGGIiMj1bt3bxUVFenVV18NCh0AANAy3dBrYEpKSuT1epWcnGxtczgcGjhwoAoKCiRJBQUFioqKsuJFkpKTkxUeHq49e/ZYa4YMGaLIyEhrjdvtVnFxsf773//eyJEBAICBGvwKzNV4vV5JktPpDNrudDqtfV6vV9HR0cFDtGqlzp07B62Jj4+/7Bj1+zp16nTZn11dXa3q6mrrvt/vv86zAQAATVWz+RTS/Pnz5XA4rFtcXFyoRwIAADfJDQ2YmJgYSVJFRUXQ9oqKCmtfTEyMTp48GbT/4sWLOn36dNCaKx3j0j/jf2VmZsrn81m3srKy6z8hAADQJN3QgImPj1dMTIy2bdtmbfP7/dqzZ49cLpckyeVyqbKyUoWFhdaavLw81dXVaeDAgdaaHTt26MKFC9aa3Nxc3XnnnVd8+0iSbDab7HZ70A0AADRPDQ6Ys2fPqqioSEVFRZK+uXC3qKhIpaWlCgsL09SpU/Xiiy/qr3/9qw4ePKgnn3xSsbGxeuyxxyRJvXr10k9+8hM9/fTT2rt3rz7++GNNnjxZo0aNUmxsrCTp5z//uSIjIzV+/HgdPnxY69ev15IlS5SRkXHDThwAAJirwRfxfvLJJxo6dKh1vz4qUlNTlZWVpRkzZujcuXN65plnVFlZqcGDB2vr1q1q06aN9Zi1a9dq8uTJeuihhxQeHq6UlBQtXbrU2u9wOPThhx8qLS1NSUlJuu222zRnzhw+Qg0AACRJYYFAIBDqIW4Gv98vh8Mhn8/X4t5OumNWdqhHwC30xQJPqEfALcTzu2Vpic/va/353Ww+hQQAAFoOAgYAABiHgAEAAMYhYAAAgHEIGAAAYBwCBgAAGIeAAQAAxiFgAACAcQgYAABgHAIGAAAYh4ABAADGIWAAAIBxCBgAAGAcAgYAABiHgAEAAMYhYAAAgHEIGAAAYBwCBgAAGIeAAQAAxiFgAACAcQgYAABgHAIGAAAYh4ABAADGIWAAAIBxCBgAAGAcAgYAABiHgAEAAMYhYAAAgHEIGAAAYBwCBgAAGIeAAQAAxiFgAACAcQgYAABgHAIGAAAYh4ABAADGIWAAAIBxCBgAAGAcAgYAABiHgAEAAMYhYAAAgHEIGAAAYBwCBgAAGIeAAQAAxiFgAACAcQgYAABgHAIGAAAYh4ABAADGIWAAAIBxCBgAAGAcAgYAABiHgAEAAMYhYAAAgHEIGAAAYBwCBgAAGKdJB8zy5ct1xx13qE2bNho4cKD27t0b6pEAAEAT0GQDZv369crIyNBzzz2n/fv36+6775bb7dbJkydDPRoAAAixJhswr776qp5++mmNGzdOiYmJWrVqldq1a6c33ngj1KMBAIAQaxXqAa6kpqZGhYWFyszMtLaFh4crOTlZBQUFV3xMdXW1qqurrfs+n0+S5Pf7b+6wTVBd9dehHgG3UEv8/3hLxvO7ZWmJz+/6cw4EAldd1yQD5ssvv1Rtba2cTmfQdqfTqaNHj17xMfPnz9fzzz9/2fa4uLibMiPQVDgWh3oCADdLS35+nzlzRg6H41v3N8mAaYzMzExlZGRY9+vq6nT69Gl16dJFYWFhIZwMt4Lf71dcXJzKyspkt9tDPQ6AG4jnd8sSCAR05swZxcbGXnVdkwyY2267TREREaqoqAjaXlFRoZiYmCs+xmazyWazBW2Lioq6WSOiibLb7fwFBzRTPL9bjqu98lKvSV7EGxkZqaSkJG3bts3aVldXp23btsnlcoVwMgAA0BQ0yVdgJCkjI0OpqakaMGCA7r33Xi1evFjnzp3TuHHjQj0aAAAIsSYbMI8//rhOnTqlOXPmyOv1ql+/ftq6detlF/YC0jdvIT733HOXvY0IwHw8v3ElYYHv+pwSAABAE9Mkr4EBAAC4GgIGAAAYh4ABAADGIWAAAIBxCBgAAGAcAgYA0OT84x//0JgxY+RyufSf//xHkvT2229r586dIZ4MTQUBA+PV1NSouLhYFy9eDPUoAG6Av/zlL3K73Wrbtq3++c9/qrq6WpLk8/n0f//3fyGeDk0FAQNjff311xo/frzatWun3r17q7S0VJI0ZcoULViwIMTTAWisF198UatWrdJrr72m1q1bW9vvu+8+7d+/P4SToSkhYGCszMxMHThwQNu3b1ebNm2s7cnJyVq/fn0IJwNwPYqLizVkyJDLtjscDlVWVt76gdAkETAw1qZNm7Rs2TINHjxYYWFh1vbevXvr888/D+FkAK5HTEyMjh07dtn2nTt3qkePHiGYCE0RAQNjnTp1StHR0ZdtP3fuXFDQADDL008/rWeffVZ79uxRWFiYysvLtXbtWk2bNk2TJk0K9XhoIprsL3MEvsuAAQOUnZ2tKVOmSJIVLatXr5bL5QrlaACuw6xZs1RXV6eHHnpIX3/9tYYMGSKbzaZp06ZZz3eAX+YIY+3cuVPDhw/XmDFjlJWVpV/+8pc6cuSIdu3apfz8fCUlJYV6RADXoaamRseOHdPZs2eVmJioDh06hHokNCEEDIz2+eefa8GCBTpw4IDOnj2r/v37a+bMmerTp0+oRwMA3EQEDACgSRk6dOhVr2PLy8u7hdOgqeIaGBhr//79at26tfVqy/vvv68333xTiYmJmjt3riIjI0M8IYDG6NevX9D9CxcuqKioSIcOHVJqampohkKTwyswMNY999yjWbNmKSUlRcePH1diYqJGjBihffv2yePxaPHixaEeEcANNHfuXJ09e1Yvv/xyqEdBE0DAwFgOh0P79+/X97//ff32t79VXl6ecnJy9PHHH2vUqFEqKysL9YgAbqBjx47p3nvv1enTp0M9CpoAvgcGxgoEAqqrq5MkffTRR3r44YclSXFxcfryyy9DORqAm6CgoCDoW7fRsnENDIw1YMAAvfjii0pOTlZ+fr5WrlwpSSopKZHT6QzxdAAaa8SIEUH3A4GATpw4oU8++US/+c1vQjQVmhoCBsZavHixRo8erU2bNunXv/61EhISJEl//vOf9cMf/jDE0wFoLIfDEXQ/PDxcd955p+bNm6dhw4aFaCo0NVwDg2anqqpKERERQb/FFoAZamtr9fHHH6tPnz7q1KlTqMdBE0bAAACalDZt2ujTTz9VfHx8qEdBE8ZbSDBKp06drvkXNfJJBcBMd911l44fP07A4KoIGBiF73YBmr8XX3xR06ZN0wsvvKCkpCS1b98+aL/dbg/RZGhKeAsJANAkzJs3T7/61a/UsWNHa9ulr7gGAgGFhYWptrY2FOOhiSFg0CxUVVWppqYmaBv/SgPMEhERoRMnTujTTz+96rof/ehHt2giNGUEDIx17tw5zZw5Uxs2bNBXX3112X7+lQaYJTw8XF6vV9HR0aEeBQbgm3hhrBkzZigvL08rV66UzWbT6tWr9fzzzys2NlZvvfVWqMcD0AjXepE+wCswMFb37t311ltv6YEHHpDdbtf+/fuVkJCgt99+W3/605/0t7/9LdQjAmiA8PBwORyO74wYPmEIiU8hwWCnT59Wjx49JH1zvUv9X2qDBw/WpEmTQjkagEZ6/vnnL/smXuBKCBgYq0ePHiopKVH37t3Vs2dPbdiwQffee682b96sqKioUI8HoBFGjRrFNTC4JlwDA+McP35cdXV1GjdunA4cOCBJmjVrlpYvX642bdooPT1d06dPD/GUABqK61/QEFwDA+PUf9Sy/l9pjz/+uJYuXaqqqioVFhYqISFBffv2DfGUABqKTyGhIQgYGOd//5Lr2LGjDhw4YF0PAwBo/ngLCQAAGIeAgXHCwsIue6+c984BoGXhU0gwTiAQ0C9+8QvZbDZJ3/wagYkTJ172C9/efffdUIwHALgFCBgYJzU1Nej+mDFjQjQJACBUuIgXAAAYh2tgAACAcQgYAABgHAIGAAAYh4ABAADGIWAAAIBxCBgAAGAcAgYAABiHgAEAAMb5f2H6efcYSehsAAAAAElFTkSuQmCC\n"
          },
          "metadata": {}
        }
      ]
    },
    {
      "cell_type": "markdown",
      "source": [
        "More no of people (more then 5000) are not placed in cryosleep"
      ],
      "metadata": {
        "id": "7ik3kS2CzLQg"
      }
    },
    {
      "cell_type": "code",
      "source": [
        "df['HomePlanet'].value_counts().plot(kind='bar');"
      ],
      "metadata": {
        "colab": {
          "base_uri": "https://localhost:8080/",
          "height": 465
        },
        "id": "Q612GUiOyUr9",
        "outputId": "a60013c7-1ce3-469a-ca0a-60474c5a237a"
      },
      "execution_count": null,
      "outputs": [
        {
          "output_type": "display_data",
          "data": {
            "text/plain": [
              "<Figure size 640x480 with 1 Axes>"
            ],
            "image/png": "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\n"
          },
          "metadata": {}
        }
      ]
    },
    {
      "cell_type": "markdown",
      "source": [
        "Maximum number of people (more then 4000) belonged from Earth planet"
      ],
      "metadata": {
        "id": "r8luA0F6zO2N"
      }
    },
    {
      "cell_type": "code",
      "source": [
        "df['VIP'].value_counts().plot(kind='bar');"
      ],
      "metadata": {
        "colab": {
          "base_uri": "https://localhost:8080/",
          "height": 451
        },
        "id": "YzXkyWYdvIrg",
        "outputId": "ea8a8fa9-07a1-4a62-9a65-99433402c0a2"
      },
      "execution_count": null,
      "outputs": [
        {
          "output_type": "display_data",
          "data": {
            "text/plain": [
              "<Figure size 640x480 with 1 Axes>"
            ],
            "image/png": "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\n"
          },
          "metadata": {}
        }
      ]
    },
    {
      "cell_type": "markdown",
      "source": [
        "Most of the people are not VIP's"
      ],
      "metadata": {
        "id": "ZCWZrg4Gzhf0"
      }
    },
    {
      "cell_type": "code",
      "source": [
        "df['Destination'].value_counts().plot(kind='bar');"
      ],
      "metadata": {
        "colab": {
          "base_uri": "https://localhost:8080/",
          "height": 514
        },
        "id": "pIxAxGNKvIu6",
        "outputId": "0b41753d-856e-44fc-c6a0-462422236a3d"
      },
      "execution_count": null,
      "outputs": [
        {
          "output_type": "display_data",
          "data": {
            "text/plain": [
              "<Figure size 640x480 with 1 Axes>"
            ],
            "image/png": "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\n"
          },
          "metadata": {}
        }
      ]
    },
    {
      "cell_type": "markdown",
      "source": [
        "The destination for the most of the people is planet TRAPPIST-1e"
      ],
      "metadata": {
        "id": "nO1bqaO40Bci"
      }
    },
    {
      "cell_type": "code",
      "source": [
        "sns.histplot(df['Age'],kde=True);"
      ],
      "metadata": {
        "colab": {
          "base_uri": "https://localhost:8080/",
          "height": 449
        },
        "id": "rYkLSfJ-UXTu",
        "outputId": "5c2e2028-935f-4cb5-fc87-954eaf0160d8"
      },
      "execution_count": null,
      "outputs": [
        {
          "output_type": "display_data",
          "data": {
            "text/plain": [
              "<Figure size 640x480 with 1 Axes>"
            ],
            "image/png": "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\n"
          },
          "metadata": {}
        }
      ]
    },
    {
      "cell_type": "code",
      "source": [
        "df['Transported'].value_counts().plot(kind='bar')"
      ],
      "metadata": {
        "id": "X0LOTSJ_vIyH",
        "colab": {
          "base_uri": "https://localhost:8080/",
          "height": 468
        },
        "outputId": "7384aa1e-6bea-4275-b2dc-1a163d7e43e9"
      },
      "execution_count": null,
      "outputs": [
        {
          "output_type": "execute_result",
          "data": {
            "text/plain": [
              "<Axes: >"
            ]
          },
          "metadata": {},
          "execution_count": 31
        },
        {
          "output_type": "display_data",
          "data": {
            "text/plain": [
              "<Figure size 640x480 with 1 Axes>"
            ],
            "image/png": "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\n"
          },
          "metadata": {}
        }
      ]
    },
    {
      "cell_type": "markdown",
      "source": [
        "Bivariate Analysis\n",
        "\n",
        "---\n",
        "\n"
      ],
      "metadata": {
        "id": "8DlD2R7Fz11v"
      }
    },
    {
      "cell_type": "code",
      "source": [
        "sns.barplot(x=df['CryoSleep'],y=df['Transported']);"
      ],
      "metadata": {
        "colab": {
          "base_uri": "https://localhost:8080/",
          "height": 449
        },
        "id": "9C9G_i09vI4m",
        "outputId": "4a70591e-603f-449f-cfae-1d89f0542c25"
      },
      "execution_count": null,
      "outputs": [
        {
          "output_type": "display_data",
          "data": {
            "text/plain": [
              "<Figure size 640x480 with 1 Axes>"
            ],
            "image/png": "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\n"
          },
          "metadata": {}
        }
      ]
    },
    {
      "cell_type": "code",
      "source": [
        "sns.barplot(x=df['HomePlanet'],y=df['Transported'],hue=df['Destination']);"
      ],
      "metadata": {
        "colab": {
          "base_uri": "https://localhost:8080/",
          "height": 449
        },
        "id": "lGVO2V-Ysw-h",
        "outputId": "573f0224-d720-4db6-d43c-c02462a321b8"
      },
      "execution_count": null,
      "outputs": [
        {
          "output_type": "display_data",
          "data": {
            "text/plain": [
              "<Figure size 640x480 with 1 Axes>"
            ],
            "image/png": "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\n"
          },
          "metadata": {}
        }
      ]
    },
    {
      "cell_type": "markdown",
      "source": [
        "Maximum people who puts in cryosleep transported"
      ],
      "metadata": {
        "id": "PZX1p3y_SEzQ"
      }
    },
    {
      "cell_type": "code",
      "source": [
        "sns.barplot(x=df['VIP'],y=df['Transported']);"
      ],
      "metadata": {
        "id": "OyOW5_fgvI7v",
        "colab": {
          "base_uri": "https://localhost:8080/",
          "height": 449
        },
        "outputId": "5ec2f193-edcf-4faa-a535-88d989ee6a28"
      },
      "execution_count": null,
      "outputs": [
        {
          "output_type": "display_data",
          "data": {
            "text/plain": [
              "<Figure size 640x480 with 1 Axes>"
            ],
            "image/png": "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\n"
          },
          "metadata": {}
        }
      ]
    },
    {
      "cell_type": "code",
      "source": [
        "sns.barplot(x=df['VIP'],y=df['HomePlanet'],hue=df['Transported']);"
      ],
      "metadata": {
        "colab": {
          "base_uri": "https://localhost:8080/",
          "height": 449
        },
        "id": "Y5lJXus35Ed_",
        "outputId": "6e9241c4-1a43-4f43-fd99-c773cb83e9d7"
      },
      "execution_count": null,
      "outputs": [
        {
          "output_type": "display_data",
          "data": {
            "text/plain": [
              "<Figure size 640x480 with 1 Axes>"
            ],
            "image/png": "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\n"
          },
          "metadata": {}
        }
      ]
    },
    {
      "cell_type": "code",
      "source": [],
      "metadata": {
        "id": "_yW3T7BIxGHQ"
      },
      "execution_count": null,
      "outputs": []
    },
    {
      "cell_type": "markdown",
      "source": [
        "Multivariate Analysis\n",
        "\n",
        "---\n",
        "\n"
      ],
      "metadata": {
        "id": "foUqHeIDWR75"
      }
    },
    {
      "cell_type": "code",
      "source": [
        "sns.barplot(x=df['VIP'],y=df['Transported'],hue=df['CryoSleep']);"
      ],
      "metadata": {
        "colab": {
          "base_uri": "https://localhost:8080/",
          "height": 449
        },
        "id": "GHF0CgOwVkKj",
        "outputId": "c1aa8e10-01e0-4bb8-bf7c-c82e151fb63f"
      },
      "execution_count": null,
      "outputs": [
        {
          "output_type": "display_data",
          "data": {
            "text/plain": [
              "<Figure size 640x480 with 1 Axes>"
            ],
            "image/png": "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\n"
          },
          "metadata": {}
        }
      ]
    },
    {
      "cell_type": "markdown",
      "source": [
        "Maximum people who are VIP's and Puts into Cryosleep is Transported."
      ],
      "metadata": {
        "id": "aGOlSfVRWk3O"
      }
    },
    {
      "cell_type": "code",
      "source": [
        "plt.figure(figsize=(12,6))\n",
        "plt.subplot(1,2,1)\n",
        "sns.barplot(x=df['Transported'],y=df['Destination'],hue=df['CryoSleep']);\n",
        "plt.subplot(1,2,2)\n",
        "sns.barplot(x=df['Transported'],y=df['HomePlanet'],hue=df['CryoSleep']);\n"
      ],
      "metadata": {
        "colab": {
          "base_uri": "https://localhost:8080/",
          "height": 542
        },
        "id": "JituLpWXVkfe",
        "outputId": "e70f902a-005a-43ef-85e3-67e6ddae11e9"
      },
      "execution_count": null,
      "outputs": [
        {
          "output_type": "display_data",
          "data": {
            "text/plain": [
              "<Figure size 1200x600 with 2 Axes>"
            ],
            "image/png": "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\n"
          },
          "metadata": {}
        }
      ]
    },
    {
      "cell_type": "code",
      "source": [
        "df.groupby('HomePlanet')['Age'].median()"
      ],
      "metadata": {
        "colab": {
          "base_uri": "https://localhost:8080/"
        },
        "id": "hX4NT0FDIo-y",
        "outputId": "308bf8c3-fe86-4c9a-cf47-9133c16e49e1"
      },
      "execution_count": null,
      "outputs": [
        {
          "output_type": "execute_result",
          "data": {
            "text/plain": [
              "HomePlanet\n",
              "Earth     23.0\n",
              "Europa    33.0\n",
              "Mars      28.0\n",
              "Name: Age, dtype: float64"
            ]
          },
          "metadata": {},
          "execution_count": 38
        }
      ]
    },
    {
      "cell_type": "code",
      "source": [
        "df.groupby(['HomePlanet','Transported'])['Age'].median()"
      ],
      "metadata": {
        "colab": {
          "base_uri": "https://localhost:8080/"
        },
        "id": "sgb05f1xJeyp",
        "outputId": "eb521165-b137-45c6-aad8-928e5ea0195c"
      },
      "execution_count": null,
      "outputs": [
        {
          "output_type": "execute_result",
          "data": {
            "text/plain": [
              "HomePlanet  Transported\n",
              "Earth       False          24.0\n",
              "            True           22.0\n",
              "Europa      False          35.0\n",
              "            True           31.0\n",
              "Mars        False          30.0\n",
              "            True           26.0\n",
              "Name: Age, dtype: float64"
            ]
          },
          "metadata": {},
          "execution_count": 39
        }
      ]
    },
    {
      "cell_type": "code",
      "source": [],
      "metadata": {
        "id": "idLWSlezIpRU"
      },
      "execution_count": null,
      "outputs": []
    },
    {
      "cell_type": "markdown",
      "source": [
        "Pearson Corelation\n",
        "\n",
        "---\n",
        "\n"
      ],
      "metadata": {
        "id": "q_WwcNt6uikW"
      }
    },
    {
      "cell_type": "code",
      "source": [
        "df.corr()['Transported']"
      ],
      "metadata": {
        "colab": {
          "base_uri": "https://localhost:8080/"
        },
        "id": "xgX0br19sNwF",
        "outputId": "0ed756b9-e4dd-4c11-dee0-4a02c815de6e"
      },
      "execution_count": null,
      "outputs": [
        {
          "output_type": "stream",
          "name": "stderr",
          "text": [
            "<ipython-input-40-c2929b33b277>:1: FutureWarning: The default value of numeric_only in DataFrame.corr is deprecated. In a future version, it will default to False. Select only valid columns or specify the value of numeric_only to silence this warning.\n",
            "  df.corr()['Transported']\n"
          ]
        },
        {
          "output_type": "execute_result",
          "data": {
            "text/plain": [
              "Age            -0.075026\n",
              "RoomService    -0.244611\n",
              "FoodCourt       0.046566\n",
              "ShoppingMall    0.010141\n",
              "Spa            -0.221131\n",
              "VRDeck         -0.207075\n",
              "Transported     1.000000\n",
              "Name: Transported, dtype: float64"
            ]
          },
          "metadata": {},
          "execution_count": 40
        }
      ]
    },
    {
      "cell_type": "code",
      "source": [
        "sns.heatmap(df.corr(),annot=True)"
      ],
      "metadata": {
        "colab": {
          "base_uri": "https://localhost:8080/",
          "height": 587
        },
        "id": "FD4FEefEuh8Q",
        "outputId": "1eabf874-3fd7-4512-eb23-74cc4b36fcc1"
      },
      "execution_count": null,
      "outputs": [
        {
          "output_type": "stream",
          "name": "stderr",
          "text": [
            "<ipython-input-41-8df7bcac526d>:1: FutureWarning: The default value of numeric_only in DataFrame.corr is deprecated. In a future version, it will default to False. Select only valid columns or specify the value of numeric_only to silence this warning.\n",
            "  sns.heatmap(df.corr(),annot=True)\n"
          ]
        },
        {
          "output_type": "execute_result",
          "data": {
            "text/plain": [
              "<Axes: >"
            ]
          },
          "metadata": {},
          "execution_count": 41
        },
        {
          "output_type": "display_data",
          "data": {
            "text/plain": [
              "<Figure size 640x480 with 2 Axes>"
            ],
            "image/png": "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\n"
          },
          "metadata": {}
        }
      ]
    },
    {
      "cell_type": "code",
      "source": [],
      "metadata": {
        "id": "RsgT_u-HvFcB"
      },
      "execution_count": null,
      "outputs": []
    },
    {
      "cell_type": "markdown",
      "source": [
        "**Data Preprocessing**"
      ],
      "metadata": {
        "id": "syrKFJHyvF_X"
      }
    },
    {
      "cell_type": "code",
      "source": [
        "df.isnull().sum()"
      ],
      "metadata": {
        "id": "zL-rNDzjApkV",
        "colab": {
          "base_uri": "https://localhost:8080/"
        },
        "outputId": "100d453a-fa4e-4fb7-f03b-79cd35dfe5d5"
      },
      "execution_count": null,
      "outputs": [
        {
          "output_type": "execute_result",
          "data": {
            "text/plain": [
              "HomePlanet      201\n",
              "CryoSleep       217\n",
              "Cabin           199\n",
              "Destination     182\n",
              "Age             179\n",
              "VIP             203\n",
              "RoomService     181\n",
              "FoodCourt       183\n",
              "ShoppingMall    208\n",
              "Spa             183\n",
              "VRDeck          188\n",
              "Transported       0\n",
              "dtype: int64"
            ]
          },
          "metadata": {},
          "execution_count": 42
        }
      ]
    },
    {
      "cell_type": "code",
      "source": [
        "df_test.isnull().sum()"
      ],
      "metadata": {
        "colab": {
          "base_uri": "https://localhost:8080/"
        },
        "id": "PGNAoiykvBj1",
        "outputId": "85fb5397-f734-43b1-eb40-08b5c2a6741c"
      },
      "execution_count": null,
      "outputs": [
        {
          "output_type": "execute_result",
          "data": {
            "text/plain": [
              "HomePlanet       87\n",
              "CryoSleep        93\n",
              "Cabin           100\n",
              "Destination      92\n",
              "Age              91\n",
              "VIP              93\n",
              "RoomService      82\n",
              "FoodCourt       106\n",
              "ShoppingMall     98\n",
              "Spa             101\n",
              "VRDeck           80\n",
              "dtype: int64"
            ]
          },
          "metadata": {},
          "execution_count": 43
        }
      ]
    },
    {
      "cell_type": "markdown",
      "source": [
        "Imputation\n",
        "\n",
        "---\n",
        "\n"
      ],
      "metadata": {
        "id": "i4Zo1zzkw1ZZ"
      }
    },
    {
      "cell_type": "code",
      "source": [
        "df['HomePlanet'].value_counts()"
      ],
      "metadata": {
        "colab": {
          "base_uri": "https://localhost:8080/"
        },
        "id": "6aiaQtXgVm3s",
        "outputId": "947000c3-57f9-4681-b22e-834bdaa7f1e6"
      },
      "execution_count": null,
      "outputs": [
        {
          "output_type": "execute_result",
          "data": {
            "text/plain": [
              "Earth     4602\n",
              "Europa    2131\n",
              "Mars      1759\n",
              "Name: HomePlanet, dtype: int64"
            ]
          },
          "metadata": {},
          "execution_count": 44
        }
      ]
    },
    {
      "cell_type": "code",
      "source": [
        "df['HomePlanet'].fillna('Earth',inplace = True)\n",
        "df_test['HomePlanet'].fillna('Earth',inplace = True)"
      ],
      "metadata": {
        "id": "rFFGGf0Cevjs"
      },
      "execution_count": null,
      "outputs": []
    },
    {
      "cell_type": "code",
      "source": [
        "df['Age'].fillna(df.groupby(['HomePlanet','Transported'])['Age'].transform('median'),inplace=True)\n",
        "df_test['Age'].fillna(df_test.groupby(['HomePlanet'])['Age'].transform('median'),inplace=True)"
      ],
      "metadata": {
        "id": "o7QYJYoQvFDb"
      },
      "execution_count": null,
      "outputs": []
    },
    {
      "cell_type": "code",
      "source": [
        "df.groupby(['Transported'])['CryoSleep'].agg(pd.Series.mode)"
      ],
      "metadata": {
        "colab": {
          "base_uri": "https://localhost:8080/"
        },
        "id": "cfjSx9C7fSVQ",
        "outputId": "3ac3d32d-ab20-4f08-cd46-dd6b067bba5f"
      },
      "execution_count": null,
      "outputs": [
        {
          "output_type": "execute_result",
          "data": {
            "text/plain": [
              "Transported\n",
              "False    False\n",
              "True      True\n",
              "Name: CryoSleep, dtype: bool"
            ]
          },
          "metadata": {},
          "execution_count": 47
        }
      ]
    },
    {
      "cell_type": "code",
      "source": [
        "z= df[df['CryoSleep'].isnull()].index.tolist()"
      ],
      "metadata": {
        "id": "F5p9q0klf2gm"
      },
      "execution_count": null,
      "outputs": []
    },
    {
      "cell_type": "code",
      "source": [
        "for i in z:\n",
        "    if df.iloc[i]['Transported'] == True:\n",
        "        df.at[i,'CryoSleep'] = True\n",
        "\n",
        "    else:\n",
        "        df.at[i,'CryoSleep'] = False\n",
        "        "
      ],
      "metadata": {
        "id": "8lSPfBvjhMIv"
      },
      "execution_count": null,
      "outputs": []
    },
    {
      "cell_type": "code",
      "source": [
        "x_cab =  df['Cabin'].str.split('/',n=2,expand=True)\n",
        "x_cab_test =  df_test['Cabin'].str.split('/',n=2,expand=True)\n",
        "x_cab = x_cab[2]\n",
        "x_cab_test = x_cab_test[2]\n",
        "df['Cabin'] = x_cab\n",
        "df_test['Cabin'] = x_cab_test\n"
      ],
      "metadata": {
        "id": "4qNDMs4hlTRJ"
      },
      "execution_count": null,
      "outputs": []
    },
    {
      "cell_type": "code",
      "source": [
        "sns.barplot(x=df['Destination'],y=df['Transported'],hue=df['Cabin'])"
      ],
      "metadata": {
        "colab": {
          "base_uri": "https://localhost:8080/",
          "height": 466
        },
        "id": "zEGcKfUcfzmO",
        "outputId": "f80ff918-0a12-4878-9596-f1408777c449"
      },
      "execution_count": null,
      "outputs": [
        {
          "output_type": "execute_result",
          "data": {
            "text/plain": [
              "<Axes: xlabel='Destination', ylabel='Transported'>"
            ]
          },
          "metadata": {},
          "execution_count": 51
        },
        {
          "output_type": "display_data",
          "data": {
            "text/plain": [
              "<Figure size 640x480 with 1 Axes>"
            ],
            "image/png": "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\n"
          },
          "metadata": {}
        }
      ]
    },
    {
      "cell_type": "code",
      "source": [
        "sns.barplot(x=df['HomePlanet'],y=df['Transported'],hue=df['Cabin'])"
      ],
      "metadata": {
        "colab": {
          "base_uri": "https://localhost:8080/",
          "height": 466
        },
        "id": "OW44CP8ynyiL",
        "outputId": "83dc6f5b-7262-481b-9cc1-fca0f90aa857"
      },
      "execution_count": null,
      "outputs": [
        {
          "output_type": "execute_result",
          "data": {
            "text/plain": [
              "<Axes: xlabel='HomePlanet', ylabel='Transported'>"
            ]
          },
          "metadata": {},
          "execution_count": 52
        },
        {
          "output_type": "display_data",
          "data": {
            "text/plain": [
              "<Figure size 640x480 with 1 Axes>"
            ],
            "image/png": "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\n"
          },
          "metadata": {}
        }
      ]
    },
    {
      "cell_type": "code",
      "source": [
        "df.groupby(['Destination','Transported'])['Cabin'].agg(pd.Series.mode)"
      ],
      "metadata": {
        "colab": {
          "base_uri": "https://localhost:8080/"
        },
        "id": "3lorXAKCrK9R",
        "outputId": "6d525a89-a416-497c-e8ae-974542734f21"
      },
      "execution_count": null,
      "outputs": [
        {
          "output_type": "execute_result",
          "data": {
            "text/plain": [
              "Destination    Transported\n",
              "55 Cancri e    False          P\n",
              "               True           S\n",
              "PSO J318.5-22  False          P\n",
              "               True           S\n",
              "TRAPPIST-1e    False          P\n",
              "               True           S\n",
              "Name: Cabin, dtype: object"
            ]
          },
          "metadata": {},
          "execution_count": 53
        }
      ]
    },
    {
      "cell_type": "code",
      "source": [
        "z= df[df['Cabin'].isnull()].index.tolist()\n",
        "for i in z:\n",
        "    if df.iloc[i]['Transported'] == True:\n",
        "        df.at[i,'Cabin'] = 'S'\n",
        "\n",
        "    else:\n",
        "        df.at[i,'Cabin'] = 'P'"
      ],
      "metadata": {
        "id": "HL6b--Ppr4XH"
      },
      "execution_count": null,
      "outputs": []
    },
    {
      "cell_type": "code",
      "source": [
        "df.groupby(['HomePlanet'])['Destination'].agg(pd.Series.mode)"
      ],
      "metadata": {
        "colab": {
          "base_uri": "https://localhost:8080/"
        },
        "id": "PNEk2KuFtXw7",
        "outputId": "515ab7d4-536d-4ee8-9180-1750e30ea76e"
      },
      "execution_count": null,
      "outputs": [
        {
          "output_type": "execute_result",
          "data": {
            "text/plain": [
              "HomePlanet\n",
              "Earth     TRAPPIST-1e\n",
              "Europa    TRAPPIST-1e\n",
              "Mars      TRAPPIST-1e\n",
              "Name: Destination, dtype: object"
            ]
          },
          "metadata": {},
          "execution_count": 55
        }
      ]
    },
    {
      "cell_type": "code",
      "source": [
        "df['Destination'].fillna('TRAPPIST-1e',inplace = True)\n",
        "df_test['Destination'].fillna('TRAPPIST-1e',inplace = True)"
      ],
      "metadata": {
        "id": "OrvFg0QZt2wz"
      },
      "execution_count": null,
      "outputs": []
    },
    {
      "cell_type": "code",
      "source": [
        "df.groupby(['HomePlanet','Transported'])['VIP'].agg(pd.Series.mode)"
      ],
      "metadata": {
        "colab": {
          "base_uri": "https://localhost:8080/"
        },
        "id": "rhecmuy8t21c",
        "outputId": "591c5473-8ab0-40c6-8e40-9e912c5eb20d"
      },
      "execution_count": null,
      "outputs": [
        {
          "output_type": "execute_result",
          "data": {
            "text/plain": [
              "HomePlanet  Transported\n",
              "Earth       False          False\n",
              "            True           False\n",
              "Europa      False          False\n",
              "            True           False\n",
              "Mars        False          False\n",
              "            True           False\n",
              "Name: VIP, dtype: bool"
            ]
          },
          "metadata": {},
          "execution_count": 57
        }
      ]
    },
    {
      "cell_type": "code",
      "source": [
        "df['VIP'].fillna(False,inplace = True)\n",
        "df_test['VIP'].fillna(False,inplace = True)"
      ],
      "metadata": {
        "id": "0xB5xOmBT7J6"
      },
      "execution_count": null,
      "outputs": []
    },
    {
      "cell_type": "code",
      "source": [
        "df_test['Cabin'].fillna('S',inplace = True)"
      ],
      "metadata": {
        "id": "C-pFVzkeoVjy"
      },
      "execution_count": null,
      "outputs": []
    },
    {
      "cell_type": "code",
      "source": [
        "df_test['CryoSleep'].fillna(False,inplace = True)"
      ],
      "metadata": {
        "id": "Y-RGfIcsuvdn"
      },
      "execution_count": null,
      "outputs": []
    },
    {
      "cell_type": "code",
      "source": [
        "df['RoomService'].fillna(df.groupby('VIP')['RoomService'].transform('mean'),inplace=True)\n",
        "df['FoodCourt'].fillna(df.groupby('VIP')['FoodCourt'].transform('mean'),inplace=True)\n",
        "df['ShoppingMall'].fillna(df.groupby('VIP')['ShoppingMall'].transform('mean'),inplace=True)\n",
        "df['Spa'].fillna(df.groupby('VIP')['Spa'].transform('mean'),inplace=True)\n",
        "df['VRDeck'].fillna(df.groupby('VIP')['VRDeck'].transform('mean'),inplace=True)"
      ],
      "metadata": {
        "id": "Pn82E_quvq7h"
      },
      "execution_count": null,
      "outputs": []
    },
    {
      "cell_type": "code",
      "source": [
        "df_test['RoomService'].fillna(df_test.groupby('VIP')['RoomService'].transform('mean'),inplace=True)\n",
        "df_test['FoodCourt'].fillna(df_test.groupby('VIP')['FoodCourt'].transform('mean'),inplace=True)\n",
        "df_test['ShoppingMall'].fillna(df_test.groupby('VIP')['ShoppingMall'].transform('mean'),inplace=True)\n",
        "df_test['Spa'].fillna(df_test.groupby('VIP')['Spa'].transform('mean'),inplace=True)\n",
        "df_test['VRDeck'].fillna(df_test.groupby('VIP')['VRDeck'].transform('mean'),inplace=True)"
      ],
      "metadata": {
        "id": "c-tBrMhpwXmJ"
      },
      "execution_count": null,
      "outputs": []
    },
    {
      "cell_type": "code",
      "source": [
        "df['Room_cost'] = df['RoomService'] + df['Spa'] + df['VRDeck']\n",
        "df['luxury_cost'] = df['FoodCourt'] + df['ShoppingMall'] \n",
        "df_test['Room_cost'] = df_test['RoomService'] + df_test['Spa'] + df_test['VRDeck']\n",
        "df_test['luxury_cost'] = df_test['FoodCourt'] + df_test['ShoppingMall'] "
      ],
      "metadata": {
        "id": "JL09Zf0aApq9"
      },
      "execution_count": null,
      "outputs": []
    },
    {
      "cell_type": "code",
      "source": [
        "print(df.isnull().sum()) "
      ],
      "metadata": {
        "id": "D19nI2u5xlP-",
        "colab": {
          "base_uri": "https://localhost:8080/"
        },
        "outputId": "9a7e58a0-d54b-4267-8aae-505f6830ad5a"
      },
      "execution_count": null,
      "outputs": [
        {
          "output_type": "stream",
          "name": "stdout",
          "text": [
            "HomePlanet      0\n",
            "CryoSleep       0\n",
            "Cabin           0\n",
            "Destination     0\n",
            "Age             0\n",
            "VIP             0\n",
            "RoomService     0\n",
            "FoodCourt       0\n",
            "ShoppingMall    0\n",
            "Spa             0\n",
            "VRDeck          0\n",
            "Transported     0\n",
            "Room_cost       0\n",
            "luxury_cost     0\n",
            "dtype: int64\n"
          ]
        }
      ]
    },
    {
      "cell_type": "code",
      "source": [
        "print(df_test.isnull().sum())"
      ],
      "metadata": {
        "id": "nuB3O-LOxlSs",
        "colab": {
          "base_uri": "https://localhost:8080/"
        },
        "outputId": "3d6af53d-7d05-454a-e0c4-45fbb43a57d5"
      },
      "execution_count": null,
      "outputs": [
        {
          "output_type": "stream",
          "name": "stdout",
          "text": [
            "HomePlanet      0\n",
            "CryoSleep       0\n",
            "Cabin           0\n",
            "Destination     0\n",
            "Age             0\n",
            "VIP             0\n",
            "RoomService     0\n",
            "FoodCourt       0\n",
            "ShoppingMall    0\n",
            "Spa             0\n",
            "VRDeck          0\n",
            "Room_cost       0\n",
            "luxury_cost     0\n",
            "dtype: int64\n"
          ]
        }
      ]
    },
    {
      "cell_type": "code",
      "source": [
        "sns.boxplot(x = 'Transported', y = 'ShoppingMall' , data = df)"
      ],
      "metadata": {
        "colab": {
          "base_uri": "https://localhost:8080/",
          "height": 466
        },
        "id": "B1ewNs8fz6iZ",
        "outputId": "431cb7ba-61aa-4808-a9ad-62132ac2144c"
      },
      "execution_count": null,
      "outputs": [
        {
          "output_type": "execute_result",
          "data": {
            "text/plain": [
              "<Axes: xlabel='Transported', ylabel='ShoppingMall'>"
            ]
          },
          "metadata": {},
          "execution_count": 66
        },
        {
          "output_type": "display_data",
          "data": {
            "text/plain": [
              "<Figure size 640x480 with 1 Axes>"
            ],
            "image/png": "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\n"
          },
          "metadata": {}
        }
      ]
    },
    {
      "cell_type": "code",
      "source": [
        "df[df['ShoppingMall']>20000].index.tolist()"
      ],
      "metadata": {
        "colab": {
          "base_uri": "https://localhost:8080/"
        },
        "id": "X7zvGBYn04wm",
        "outputId": "3230482f-99e9-4739-a27d-72c2071e5468"
      },
      "execution_count": null,
      "outputs": [
        {
          "output_type": "execute_result",
          "data": {
            "text/plain": [
              "[8415]"
            ]
          },
          "metadata": {},
          "execution_count": 67
        }
      ]
    },
    {
      "cell_type": "code",
      "source": [
        "df.drop(df.index[8415],inplace=True)"
      ],
      "metadata": {
        "id": "pd7LQNSzMbhX"
      },
      "execution_count": null,
      "outputs": []
    },
    {
      "cell_type": "code",
      "source": [
        "sns.boxplot(x = 'Transported', y = 'FoodCourt' , data = df)"
      ],
      "metadata": {
        "id": "_Z_W01rVIztJ",
        "colab": {
          "base_uri": "https://localhost:8080/",
          "height": 466
        },
        "outputId": "b1f6c805-c6cc-44e7-ac10-66f2b239052e"
      },
      "execution_count": null,
      "outputs": [
        {
          "output_type": "execute_result",
          "data": {
            "text/plain": [
              "<Axes: xlabel='Transported', ylabel='FoodCourt'>"
            ]
          },
          "metadata": {},
          "execution_count": 69
        },
        {
          "output_type": "display_data",
          "data": {
            "text/plain": [
              "<Figure size 640x480 with 1 Axes>"
            ],
            "image/png": "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\n"
          },
          "metadata": {}
        }
      ]
    },
    {
      "cell_type": "code",
      "source": [
        "df[df['FoodCourt']>25000].index.tolist()"
      ],
      "metadata": {
        "colab": {
          "base_uri": "https://localhost:8080/"
        },
        "id": "zLkoG3GhNJFq",
        "outputId": "cd727239-6bb6-43b6-c7f4-cd1fe1c75088"
      },
      "execution_count": null,
      "outputs": [
        {
          "output_type": "execute_result",
          "data": {
            "text/plain": [
              "[1213, 2067, 3198, 3538]"
            ]
          },
          "metadata": {},
          "execution_count": 70
        }
      ]
    },
    {
      "cell_type": "code",
      "source": [
        "df = df.drop(columns=['FoodCourt','ShoppingMall','VRDeck','RoomService','Spa'],axis=1)"
      ],
      "metadata": {
        "id": "sgTBgo6Lxbx9"
      },
      "execution_count": null,
      "outputs": []
    },
    {
      "cell_type": "code",
      "source": [
        "df_test = df_test.drop(columns=['FoodCourt','ShoppingMall','VRDeck','RoomService','Spa'],axis=1)"
      ],
      "metadata": {
        "id": "ENQYUB9CIZWC"
      },
      "execution_count": null,
      "outputs": []
    },
    {
      "cell_type": "code",
      "source": [
        "df_test.head()"
      ],
      "metadata": {
        "colab": {
          "base_uri": "https://localhost:8080/",
          "height": 206
        },
        "id": "ckhssU8DolNb",
        "outputId": "3a894558-8e97-4afa-80ef-85f4652fe820"
      },
      "execution_count": null,
      "outputs": [
        {
          "output_type": "execute_result",
          "data": {
            "text/plain": [
              "  HomePlanet  CryoSleep Cabin  Destination   Age    VIP  Room_cost  \\\n",
              "0      Earth       True     S  TRAPPIST-1e  27.0  False        0.0   \n",
              "1      Earth      False     S  TRAPPIST-1e  19.0  False     2823.0   \n",
              "2     Europa       True     S  55 Cancri e  31.0  False        0.0   \n",
              "3     Europa      False     S  TRAPPIST-1e  38.0  False      766.0   \n",
              "4      Earth      False     S  TRAPPIST-1e  20.0  False       10.0   \n",
              "\n",
              "   luxury_cost  \n",
              "0          0.0  \n",
              "1          9.0  \n",
              "2          0.0  \n",
              "3       6652.0  \n",
              "4        635.0  "
            ],
            "text/html": [
              "\n",
              "  <div id=\"df-33dd7c36-32fc-4873-a18f-2d80d5f36c80\">\n",
              "    <div class=\"colab-df-container\">\n",
              "      <div>\n",
              "<style scoped>\n",
              "    .dataframe tbody tr th:only-of-type {\n",
              "        vertical-align: middle;\n",
              "    }\n",
              "\n",
              "    .dataframe tbody tr th {\n",
              "        vertical-align: top;\n",
              "    }\n",
              "\n",
              "    .dataframe thead th {\n",
              "        text-align: right;\n",
              "    }\n",
              "</style>\n",
              "<table border=\"1\" class=\"dataframe\">\n",
              "  <thead>\n",
              "    <tr style=\"text-align: right;\">\n",
              "      <th></th>\n",
              "      <th>HomePlanet</th>\n",
              "      <th>CryoSleep</th>\n",
              "      <th>Cabin</th>\n",
              "      <th>Destination</th>\n",
              "      <th>Age</th>\n",
              "      <th>VIP</th>\n",
              "      <th>Room_cost</th>\n",
              "      <th>luxury_cost</th>\n",
              "    </tr>\n",
              "  </thead>\n",
              "  <tbody>\n",
              "    <tr>\n",
              "      <th>0</th>\n",
              "      <td>Earth</td>\n",
              "      <td>True</td>\n",
              "      <td>S</td>\n",
              "      <td>TRAPPIST-1e</td>\n",
              "      <td>27.0</td>\n",
              "      <td>False</td>\n",
              "      <td>0.0</td>\n",
              "      <td>0.0</td>\n",
              "    </tr>\n",
              "    <tr>\n",
              "      <th>1</th>\n",
              "      <td>Earth</td>\n",
              "      <td>False</td>\n",
              "      <td>S</td>\n",
              "      <td>TRAPPIST-1e</td>\n",
              "      <td>19.0</td>\n",
              "      <td>False</td>\n",
              "      <td>2823.0</td>\n",
              "      <td>9.0</td>\n",
              "    </tr>\n",
              "    <tr>\n",
              "      <th>2</th>\n",
              "      <td>Europa</td>\n",
              "      <td>True</td>\n",
              "      <td>S</td>\n",
              "      <td>55 Cancri e</td>\n",
              "      <td>31.0</td>\n",
              "      <td>False</td>\n",
              "      <td>0.0</td>\n",
              "      <td>0.0</td>\n",
              "    </tr>\n",
              "    <tr>\n",
              "      <th>3</th>\n",
              "      <td>Europa</td>\n",
              "      <td>False</td>\n",
              "      <td>S</td>\n",
              "      <td>TRAPPIST-1e</td>\n",
              "      <td>38.0</td>\n",
              "      <td>False</td>\n",
              "      <td>766.0</td>\n",
              "      <td>6652.0</td>\n",
              "    </tr>\n",
              "    <tr>\n",
              "      <th>4</th>\n",
              "      <td>Earth</td>\n",
              "      <td>False</td>\n",
              "      <td>S</td>\n",
              "      <td>TRAPPIST-1e</td>\n",
              "      <td>20.0</td>\n",
              "      <td>False</td>\n",
              "      <td>10.0</td>\n",
              "      <td>635.0</td>\n",
              "    </tr>\n",
              "  </tbody>\n",
              "</table>\n",
              "</div>\n",
              "      <button class=\"colab-df-convert\" onclick=\"convertToInteractive('df-33dd7c36-32fc-4873-a18f-2d80d5f36c80')\"\n",
              "              title=\"Convert this dataframe to an interactive table.\"\n",
              "              style=\"display:none;\">\n",
              "        \n",
              "  <svg xmlns=\"http://www.w3.org/2000/svg\" height=\"24px\"viewBox=\"0 0 24 24\"\n",
              "       width=\"24px\">\n",
              "    <path d=\"M0 0h24v24H0V0z\" fill=\"none\"/>\n",
              "    <path d=\"M18.56 5.44l.94 2.06.94-2.06 2.06-.94-2.06-.94-.94-2.06-.94 2.06-2.06.94zm-11 1L8.5 8.5l.94-2.06 2.06-.94-2.06-.94L8.5 2.5l-.94 2.06-2.06.94zm10 10l.94 2.06.94-2.06 2.06-.94-2.06-.94-.94-2.06-.94 2.06-2.06.94z\"/><path d=\"M17.41 7.96l-1.37-1.37c-.4-.4-.92-.59-1.43-.59-.52 0-1.04.2-1.43.59L10.3 9.45l-7.72 7.72c-.78.78-.78 2.05 0 2.83L4 21.41c.39.39.9.59 1.41.59.51 0 1.02-.2 1.41-.59l7.78-7.78 2.81-2.81c.8-.78.8-2.07 0-2.86zM5.41 20L4 18.59l7.72-7.72 1.47 1.35L5.41 20z\"/>\n",
              "  </svg>\n",
              "      </button>\n",
              "      \n",
              "  <style>\n",
              "    .colab-df-container {\n",
              "      display:flex;\n",
              "      flex-wrap:wrap;\n",
              "      gap: 12px;\n",
              "    }\n",
              "\n",
              "    .colab-df-convert {\n",
              "      background-color: #E8F0FE;\n",
              "      border: none;\n",
              "      border-radius: 50%;\n",
              "      cursor: pointer;\n",
              "      display: none;\n",
              "      fill: #1967D2;\n",
              "      height: 32px;\n",
              "      padding: 0 0 0 0;\n",
              "      width: 32px;\n",
              "    }\n",
              "\n",
              "    .colab-df-convert:hover {\n",
              "      background-color: #E2EBFA;\n",
              "      box-shadow: 0px 1px 2px rgba(60, 64, 67, 0.3), 0px 1px 3px 1px rgba(60, 64, 67, 0.15);\n",
              "      fill: #174EA6;\n",
              "    }\n",
              "\n",
              "    [theme=dark] .colab-df-convert {\n",
              "      background-color: #3B4455;\n",
              "      fill: #D2E3FC;\n",
              "    }\n",
              "\n",
              "    [theme=dark] .colab-df-convert:hover {\n",
              "      background-color: #434B5C;\n",
              "      box-shadow: 0px 1px 3px 1px rgba(0, 0, 0, 0.15);\n",
              "      filter: drop-shadow(0px 1px 2px rgba(0, 0, 0, 0.3));\n",
              "      fill: #FFFFFF;\n",
              "    }\n",
              "  </style>\n",
              "\n",
              "      <script>\n",
              "        const buttonEl =\n",
              "          document.querySelector('#df-33dd7c36-32fc-4873-a18f-2d80d5f36c80 button.colab-df-convert');\n",
              "        buttonEl.style.display =\n",
              "          google.colab.kernel.accessAllowed ? 'block' : 'none';\n",
              "\n",
              "        async function convertToInteractive(key) {\n",
              "          const element = document.querySelector('#df-33dd7c36-32fc-4873-a18f-2d80d5f36c80');\n",
              "          const dataTable =\n",
              "            await google.colab.kernel.invokeFunction('convertToInteractive',\n",
              "                                                     [key], {});\n",
              "          if (!dataTable) return;\n",
              "\n",
              "          const docLinkHtml = 'Like what you see? Visit the ' +\n",
              "            '<a target=\"_blank\" href=https://colab.research.google.com/notebooks/data_table.ipynb>data table notebook</a>'\n",
              "            + ' to learn more about interactive tables.';\n",
              "          element.innerHTML = '';\n",
              "          dataTable['output_type'] = 'display_data';\n",
              "          await google.colab.output.renderOutput(dataTable, element);\n",
              "          const docLink = document.createElement('div');\n",
              "          docLink.innerHTML = docLinkHtml;\n",
              "          element.appendChild(docLink);\n",
              "        }\n",
              "      </script>\n",
              "    </div>\n",
              "  </div>\n",
              "  "
            ]
          },
          "metadata": {},
          "execution_count": 73
        }
      ]
    },
    {
      "cell_type": "code",
      "source": [
        "#df_test.to_csv(\"df_test.csv\",index=False)"
      ],
      "metadata": {
        "id": "12NJNM8jpQ_O"
      },
      "execution_count": null,
      "outputs": []
    },
    {
      "cell_type": "code",
      "source": [
        "x = df.drop('Transported',axis=1)"
      ],
      "metadata": {
        "id": "FZtNCriiPMOM"
      },
      "execution_count": null,
      "outputs": []
    },
    {
      "cell_type": "code",
      "source": [
        "y = df['Transported']"
      ],
      "metadata": {
        "id": "9fAEPoE-OW4-"
      },
      "execution_count": null,
      "outputs": []
    },
    {
      "cell_type": "markdown",
      "source": [
        "**Train Test Split**\n",
        "\n",
        "---\n",
        "\n"
      ],
      "metadata": {
        "id": "CT5zVB7kO7qI"
      }
    },
    {
      "cell_type": "code",
      "source": [
        "x_train , x_test , y_train , y_test = train_test_split(x,y,test_size=0.2,random_state = 2)"
      ],
      "metadata": {
        "id": "lBeR5KrqOW7k"
      },
      "execution_count": null,
      "outputs": []
    },
    {
      "cell_type": "code",
      "source": [
        "print(x_train.shape)  \n",
        "print(x_test.shape)"
      ],
      "metadata": {
        "colab": {
          "base_uri": "https://localhost:8080/"
        },
        "id": "86GqTX4GOW-Z",
        "outputId": "4888e944-ee37-457e-8f96-4fe843fa48b3"
      },
      "execution_count": null,
      "outputs": [
        {
          "output_type": "stream",
          "name": "stdout",
          "text": [
            "(6953, 8)\n",
            "(1739, 8)\n"
          ]
        }
      ]
    },
    {
      "cell_type": "code",
      "source": [
        "df.columns"
      ],
      "metadata": {
        "id": "n1pyrLsjQlcV",
        "colab": {
          "base_uri": "https://localhost:8080/"
        },
        "outputId": "a0372c21-02c4-43b4-d524-43f1a51b9e06"
      },
      "execution_count": null,
      "outputs": [
        {
          "output_type": "execute_result",
          "data": {
            "text/plain": [
              "Index(['HomePlanet', 'CryoSleep', 'Cabin', 'Destination', 'Age', 'VIP',\n",
              "       'Transported', 'Room_cost', 'luxury_cost'],\n",
              "      dtype='object')"
            ]
          },
          "metadata": {},
          "execution_count": 79
        }
      ]
    },
    {
      "cell_type": "code",
      "source": [],
      "metadata": {
        "id": "NxpAt-CzoeVo"
      },
      "execution_count": null,
      "outputs": []
    },
    {
      "cell_type": "code",
      "source": [
        "transformer = ColumnTransformer(\n",
        "                transformers =[\n",
        "                    ('tnf1', OneHotEncoder(sparse_output = False , drop = 'first'),['HomePlanet','CryoSleep','Cabin','Destination','VIP']),\n",
        "                ],\n",
        "                remainder= 'passthrough')"
      ],
      "metadata": {
        "id": "MMziBa_Lmrl0"
      },
      "execution_count": null,
      "outputs": []
    },
    {
      "cell_type": "code",
      "source": [
        "x_train.columns"
      ],
      "metadata": {
        "colab": {
          "base_uri": "https://localhost:8080/"
        },
        "id": "qqlbIX2Q3LL0",
        "outputId": "a7969718-872c-45fa-c9d0-b090c39b5b19"
      },
      "execution_count": null,
      "outputs": [
        {
          "output_type": "execute_result",
          "data": {
            "text/plain": [
              "Index(['HomePlanet', 'CryoSleep', 'Cabin', 'Destination', 'Age', 'VIP',\n",
              "       'Room_cost', 'luxury_cost'],\n",
              "      dtype='object')"
            ]
          },
          "metadata": {},
          "execution_count": 81
        }
      ]
    },
    {
      "cell_type": "code",
      "source": [
        "x_train_new = transformer.fit_transform(x_train)"
      ],
      "metadata": {
        "id": "F82FzW4Nmrn-"
      },
      "execution_count": null,
      "outputs": []
    },
    {
      "cell_type": "code",
      "source": [
        "x_train_new [2]"
      ],
      "metadata": {
        "colab": {
          "base_uri": "https://localhost:8080/"
        },
        "id": "f5qJXrMH2rL4",
        "outputId": "63daedf5-4589-410c-d55b-cb94e089d7dc"
      },
      "execution_count": null,
      "outputs": [
        {
          "output_type": "execute_result",
          "data": {
            "text/plain": [
              "array([ 1.,  0.,  1.,  1.,  0.,  1.,  0., 52.,  0.,  0.])"
            ]
          },
          "metadata": {},
          "execution_count": 83
        }
      ]
    },
    {
      "cell_type": "code",
      "source": [
        "pd.isna(df_test).sum()"
      ],
      "metadata": {
        "colab": {
          "base_uri": "https://localhost:8080/"
        },
        "id": "tG92C2uxxDKJ",
        "outputId": "63138554-c593-4be3-f69d-9a2faa91791f"
      },
      "execution_count": null,
      "outputs": [
        {
          "output_type": "execute_result",
          "data": {
            "text/plain": [
              "HomePlanet     0\n",
              "CryoSleep      0\n",
              "Cabin          0\n",
              "Destination    0\n",
              "Age            0\n",
              "VIP            0\n",
              "Room_cost      0\n",
              "luxury_cost    0\n",
              "dtype: int64"
            ]
          },
          "metadata": {},
          "execution_count": 84
        }
      ]
    },
    {
      "cell_type": "code",
      "source": [
        "df_test.fillna(0,inplace = True)"
      ],
      "metadata": {
        "id": "wUNllbDAzNmq"
      },
      "execution_count": null,
      "outputs": []
    },
    {
      "cell_type": "code",
      "source": [
        "df_test.head()"
      ],
      "metadata": {
        "colab": {
          "base_uri": "https://localhost:8080/",
          "height": 206
        },
        "id": "WX8foB2DzmRg",
        "outputId": "6f7d53de-27c4-4c03-b83e-39a84f064225"
      },
      "execution_count": null,
      "outputs": [
        {
          "output_type": "execute_result",
          "data": {
            "text/plain": [
              "  HomePlanet  CryoSleep Cabin  Destination   Age    VIP  Room_cost  \\\n",
              "0      Earth       True     S  TRAPPIST-1e  27.0  False        0.0   \n",
              "1      Earth      False     S  TRAPPIST-1e  19.0  False     2823.0   \n",
              "2     Europa       True     S  55 Cancri e  31.0  False        0.0   \n",
              "3     Europa      False     S  TRAPPIST-1e  38.0  False      766.0   \n",
              "4      Earth      False     S  TRAPPIST-1e  20.0  False       10.0   \n",
              "\n",
              "   luxury_cost  \n",
              "0          0.0  \n",
              "1          9.0  \n",
              "2          0.0  \n",
              "3       6652.0  \n",
              "4        635.0  "
            ],
            "text/html": [
              "\n",
              "  <div id=\"df-2575a63c-cf65-4f4b-8e06-5fba2e235f00\">\n",
              "    <div class=\"colab-df-container\">\n",
              "      <div>\n",
              "<style scoped>\n",
              "    .dataframe tbody tr th:only-of-type {\n",
              "        vertical-align: middle;\n",
              "    }\n",
              "\n",
              "    .dataframe tbody tr th {\n",
              "        vertical-align: top;\n",
              "    }\n",
              "\n",
              "    .dataframe thead th {\n",
              "        text-align: right;\n",
              "    }\n",
              "</style>\n",
              "<table border=\"1\" class=\"dataframe\">\n",
              "  <thead>\n",
              "    <tr style=\"text-align: right;\">\n",
              "      <th></th>\n",
              "      <th>HomePlanet</th>\n",
              "      <th>CryoSleep</th>\n",
              "      <th>Cabin</th>\n",
              "      <th>Destination</th>\n",
              "      <th>Age</th>\n",
              "      <th>VIP</th>\n",
              "      <th>Room_cost</th>\n",
              "      <th>luxury_cost</th>\n",
              "    </tr>\n",
              "  </thead>\n",
              "  <tbody>\n",
              "    <tr>\n",
              "      <th>0</th>\n",
              "      <td>Earth</td>\n",
              "      <td>True</td>\n",
              "      <td>S</td>\n",
              "      <td>TRAPPIST-1e</td>\n",
              "      <td>27.0</td>\n",
              "      <td>False</td>\n",
              "      <td>0.0</td>\n",
              "      <td>0.0</td>\n",
              "    </tr>\n",
              "    <tr>\n",
              "      <th>1</th>\n",
              "      <td>Earth</td>\n",
              "      <td>False</td>\n",
              "      <td>S</td>\n",
              "      <td>TRAPPIST-1e</td>\n",
              "      <td>19.0</td>\n",
              "      <td>False</td>\n",
              "      <td>2823.0</td>\n",
              "      <td>9.0</td>\n",
              "    </tr>\n",
              "    <tr>\n",
              "      <th>2</th>\n",
              "      <td>Europa</td>\n",
              "      <td>True</td>\n",
              "      <td>S</td>\n",
              "      <td>55 Cancri e</td>\n",
              "      <td>31.0</td>\n",
              "      <td>False</td>\n",
              "      <td>0.0</td>\n",
              "      <td>0.0</td>\n",
              "    </tr>\n",
              "    <tr>\n",
              "      <th>3</th>\n",
              "      <td>Europa</td>\n",
              "      <td>False</td>\n",
              "      <td>S</td>\n",
              "      <td>TRAPPIST-1e</td>\n",
              "      <td>38.0</td>\n",
              "      <td>False</td>\n",
              "      <td>766.0</td>\n",
              "      <td>6652.0</td>\n",
              "    </tr>\n",
              "    <tr>\n",
              "      <th>4</th>\n",
              "      <td>Earth</td>\n",
              "      <td>False</td>\n",
              "      <td>S</td>\n",
              "      <td>TRAPPIST-1e</td>\n",
              "      <td>20.0</td>\n",
              "      <td>False</td>\n",
              "      <td>10.0</td>\n",
              "      <td>635.0</td>\n",
              "    </tr>\n",
              "  </tbody>\n",
              "</table>\n",
              "</div>\n",
              "      <button class=\"colab-df-convert\" onclick=\"convertToInteractive('df-2575a63c-cf65-4f4b-8e06-5fba2e235f00')\"\n",
              "              title=\"Convert this dataframe to an interactive table.\"\n",
              "              style=\"display:none;\">\n",
              "        \n",
              "  <svg xmlns=\"http://www.w3.org/2000/svg\" height=\"24px\"viewBox=\"0 0 24 24\"\n",
              "       width=\"24px\">\n",
              "    <path d=\"M0 0h24v24H0V0z\" fill=\"none\"/>\n",
              "    <path d=\"M18.56 5.44l.94 2.06.94-2.06 2.06-.94-2.06-.94-.94-2.06-.94 2.06-2.06.94zm-11 1L8.5 8.5l.94-2.06 2.06-.94-2.06-.94L8.5 2.5l-.94 2.06-2.06.94zm10 10l.94 2.06.94-2.06 2.06-.94-2.06-.94-.94-2.06-.94 2.06-2.06.94z\"/><path d=\"M17.41 7.96l-1.37-1.37c-.4-.4-.92-.59-1.43-.59-.52 0-1.04.2-1.43.59L10.3 9.45l-7.72 7.72c-.78.78-.78 2.05 0 2.83L4 21.41c.39.39.9.59 1.41.59.51 0 1.02-.2 1.41-.59l7.78-7.78 2.81-2.81c.8-.78.8-2.07 0-2.86zM5.41 20L4 18.59l7.72-7.72 1.47 1.35L5.41 20z\"/>\n",
              "  </svg>\n",
              "      </button>\n",
              "      \n",
              "  <style>\n",
              "    .colab-df-container {\n",
              "      display:flex;\n",
              "      flex-wrap:wrap;\n",
              "      gap: 12px;\n",
              "    }\n",
              "\n",
              "    .colab-df-convert {\n",
              "      background-color: #E8F0FE;\n",
              "      border: none;\n",
              "      border-radius: 50%;\n",
              "      cursor: pointer;\n",
              "      display: none;\n",
              "      fill: #1967D2;\n",
              "      height: 32px;\n",
              "      padding: 0 0 0 0;\n",
              "      width: 32px;\n",
              "    }\n",
              "\n",
              "    .colab-df-convert:hover {\n",
              "      background-color: #E2EBFA;\n",
              "      box-shadow: 0px 1px 2px rgba(60, 64, 67, 0.3), 0px 1px 3px 1px rgba(60, 64, 67, 0.15);\n",
              "      fill: #174EA6;\n",
              "    }\n",
              "\n",
              "    [theme=dark] .colab-df-convert {\n",
              "      background-color: #3B4455;\n",
              "      fill: #D2E3FC;\n",
              "    }\n",
              "\n",
              "    [theme=dark] .colab-df-convert:hover {\n",
              "      background-color: #434B5C;\n",
              "      box-shadow: 0px 1px 3px 1px rgba(0, 0, 0, 0.15);\n",
              "      filter: drop-shadow(0px 1px 2px rgba(0, 0, 0, 0.3));\n",
              "      fill: #FFFFFF;\n",
              "    }\n",
              "  </style>\n",
              "\n",
              "      <script>\n",
              "        const buttonEl =\n",
              "          document.querySelector('#df-2575a63c-cf65-4f4b-8e06-5fba2e235f00 button.colab-df-convert');\n",
              "        buttonEl.style.display =\n",
              "          google.colab.kernel.accessAllowed ? 'block' : 'none';\n",
              "\n",
              "        async function convertToInteractive(key) {\n",
              "          const element = document.querySelector('#df-2575a63c-cf65-4f4b-8e06-5fba2e235f00');\n",
              "          const dataTable =\n",
              "            await google.colab.kernel.invokeFunction('convertToInteractive',\n",
              "                                                     [key], {});\n",
              "          if (!dataTable) return;\n",
              "\n",
              "          const docLinkHtml = 'Like what you see? Visit the ' +\n",
              "            '<a target=\"_blank\" href=https://colab.research.google.com/notebooks/data_table.ipynb>data table notebook</a>'\n",
              "            + ' to learn more about interactive tables.';\n",
              "          element.innerHTML = '';\n",
              "          dataTable['output_type'] = 'display_data';\n",
              "          await google.colab.output.renderOutput(dataTable, element);\n",
              "          const docLink = document.createElement('div');\n",
              "          docLink.innerHTML = docLinkHtml;\n",
              "          element.appendChild(docLink);\n",
              "        }\n",
              "      </script>\n",
              "    </div>\n",
              "  </div>\n",
              "  "
            ]
          },
          "metadata": {},
          "execution_count": 86
        }
      ]
    },
    {
      "cell_type": "code",
      "source": [
        "x_df_test = df_test.drop(columns= ['Age','Room_cost','luxury_cost'],axis=1)"
      ],
      "metadata": {
        "id": "tZMbg--KzmUS"
      },
      "execution_count": null,
      "outputs": []
    },
    {
      "cell_type": "code",
      "source": [
        "x_df_test_n = df_test.drop(columns = ['HomePlanet','CryoSleep','Cabin','Destination','VIP'],axis=1)"
      ],
      "metadata": {
        "id": "9iQuuzYlU96e"
      },
      "execution_count": null,
      "outputs": []
    },
    {
      "cell_type": "code",
      "source": [
        "ohe = OneHotEncoder(sparse_output=False,drop='first')"
      ],
      "metadata": {
        "id": "zQazIomGzmXl"
      },
      "execution_count": null,
      "outputs": []
    },
    {
      "cell_type": "code",
      "source": [
        "x_df_test = ohe.fit_transform(x_df_test)"
      ],
      "metadata": {
        "id": "3F7lK9GV2K9W"
      },
      "execution_count": null,
      "outputs": []
    },
    {
      "cell_type": "code",
      "source": [
        "x_df_test[0]"
      ],
      "metadata": {
        "colab": {
          "base_uri": "https://localhost:8080/"
        },
        "id": "8Q9bBT6d0M80",
        "outputId": "742f0c61-21b4-41f5-b6e0-40dd958de78a"
      },
      "execution_count": null,
      "outputs": [
        {
          "output_type": "execute_result",
          "data": {
            "text/plain": [
              "array([0., 0., 1., 1., 0., 1., 0.])"
            ]
          },
          "metadata": {},
          "execution_count": 91
        }
      ]
    },
    {
      "cell_type": "code",
      "source": [
        "x_df_test_n"
      ],
      "metadata": {
        "id": "gcxBKtn4rh4T",
        "colab": {
          "base_uri": "https://localhost:8080/",
          "height": 423
        },
        "outputId": "19b26862-fcb6-4847-d025-bed08c295d82"
      },
      "execution_count": null,
      "outputs": [
        {
          "output_type": "execute_result",
          "data": {
            "text/plain": [
              "       Age  Room_cost  luxury_cost\n",
              "0     27.0        0.0          0.0\n",
              "1     19.0     2823.0          9.0\n",
              "2     31.0        0.0          0.0\n",
              "3     38.0      766.0       6652.0\n",
              "4     20.0       10.0        635.0\n",
              "...    ...        ...          ...\n",
              "4272  34.0        0.0          0.0\n",
              "4273  42.0      154.0        864.0\n",
              "4274  27.0        0.0          0.0\n",
              "4275  32.0      523.0       2680.0\n",
              "4276  43.0        0.0          0.0\n",
              "\n",
              "[4277 rows x 3 columns]"
            ],
            "text/html": [
              "\n",
              "  <div id=\"df-bfe2a130-e7e5-4d22-8991-8bb5b3eba3fa\">\n",
              "    <div class=\"colab-df-container\">\n",
              "      <div>\n",
              "<style scoped>\n",
              "    .dataframe tbody tr th:only-of-type {\n",
              "        vertical-align: middle;\n",
              "    }\n",
              "\n",
              "    .dataframe tbody tr th {\n",
              "        vertical-align: top;\n",
              "    }\n",
              "\n",
              "    .dataframe thead th {\n",
              "        text-align: right;\n",
              "    }\n",
              "</style>\n",
              "<table border=\"1\" class=\"dataframe\">\n",
              "  <thead>\n",
              "    <tr style=\"text-align: right;\">\n",
              "      <th></th>\n",
              "      <th>Age</th>\n",
              "      <th>Room_cost</th>\n",
              "      <th>luxury_cost</th>\n",
              "    </tr>\n",
              "  </thead>\n",
              "  <tbody>\n",
              "    <tr>\n",
              "      <th>0</th>\n",
              "      <td>27.0</td>\n",
              "      <td>0.0</td>\n",
              "      <td>0.0</td>\n",
              "    </tr>\n",
              "    <tr>\n",
              "      <th>1</th>\n",
              "      <td>19.0</td>\n",
              "      <td>2823.0</td>\n",
              "      <td>9.0</td>\n",
              "    </tr>\n",
              "    <tr>\n",
              "      <th>2</th>\n",
              "      <td>31.0</td>\n",
              "      <td>0.0</td>\n",
              "      <td>0.0</td>\n",
              "    </tr>\n",
              "    <tr>\n",
              "      <th>3</th>\n",
              "      <td>38.0</td>\n",
              "      <td>766.0</td>\n",
              "      <td>6652.0</td>\n",
              "    </tr>\n",
              "    <tr>\n",
              "      <th>4</th>\n",
              "      <td>20.0</td>\n",
              "      <td>10.0</td>\n",
              "      <td>635.0</td>\n",
              "    </tr>\n",
              "    <tr>\n",
              "      <th>...</th>\n",
              "      <td>...</td>\n",
              "      <td>...</td>\n",
              "      <td>...</td>\n",
              "    </tr>\n",
              "    <tr>\n",
              "      <th>4272</th>\n",
              "      <td>34.0</td>\n",
              "      <td>0.0</td>\n",
              "      <td>0.0</td>\n",
              "    </tr>\n",
              "    <tr>\n",
              "      <th>4273</th>\n",
              "      <td>42.0</td>\n",
              "      <td>154.0</td>\n",
              "      <td>864.0</td>\n",
              "    </tr>\n",
              "    <tr>\n",
              "      <th>4274</th>\n",
              "      <td>27.0</td>\n",
              "      <td>0.0</td>\n",
              "      <td>0.0</td>\n",
              "    </tr>\n",
              "    <tr>\n",
              "      <th>4275</th>\n",
              "      <td>32.0</td>\n",
              "      <td>523.0</td>\n",
              "      <td>2680.0</td>\n",
              "    </tr>\n",
              "    <tr>\n",
              "      <th>4276</th>\n",
              "      <td>43.0</td>\n",
              "      <td>0.0</td>\n",
              "      <td>0.0</td>\n",
              "    </tr>\n",
              "  </tbody>\n",
              "</table>\n",
              "<p>4277 rows × 3 columns</p>\n",
              "</div>\n",
              "      <button class=\"colab-df-convert\" onclick=\"convertToInteractive('df-bfe2a130-e7e5-4d22-8991-8bb5b3eba3fa')\"\n",
              "              title=\"Convert this dataframe to an interactive table.\"\n",
              "              style=\"display:none;\">\n",
              "        \n",
              "  <svg xmlns=\"http://www.w3.org/2000/svg\" height=\"24px\"viewBox=\"0 0 24 24\"\n",
              "       width=\"24px\">\n",
              "    <path d=\"M0 0h24v24H0V0z\" fill=\"none\"/>\n",
              "    <path d=\"M18.56 5.44l.94 2.06.94-2.06 2.06-.94-2.06-.94-.94-2.06-.94 2.06-2.06.94zm-11 1L8.5 8.5l.94-2.06 2.06-.94-2.06-.94L8.5 2.5l-.94 2.06-2.06.94zm10 10l.94 2.06.94-2.06 2.06-.94-2.06-.94-.94-2.06-.94 2.06-2.06.94z\"/><path d=\"M17.41 7.96l-1.37-1.37c-.4-.4-.92-.59-1.43-.59-.52 0-1.04.2-1.43.59L10.3 9.45l-7.72 7.72c-.78.78-.78 2.05 0 2.83L4 21.41c.39.39.9.59 1.41.59.51 0 1.02-.2 1.41-.59l7.78-7.78 2.81-2.81c.8-.78.8-2.07 0-2.86zM5.41 20L4 18.59l7.72-7.72 1.47 1.35L5.41 20z\"/>\n",
              "  </svg>\n",
              "      </button>\n",
              "      \n",
              "  <style>\n",
              "    .colab-df-container {\n",
              "      display:flex;\n",
              "      flex-wrap:wrap;\n",
              "      gap: 12px;\n",
              "    }\n",
              "\n",
              "    .colab-df-convert {\n",
              "      background-color: #E8F0FE;\n",
              "      border: none;\n",
              "      border-radius: 50%;\n",
              "      cursor: pointer;\n",
              "      display: none;\n",
              "      fill: #1967D2;\n",
              "      height: 32px;\n",
              "      padding: 0 0 0 0;\n",
              "      width: 32px;\n",
              "    }\n",
              "\n",
              "    .colab-df-convert:hover {\n",
              "      background-color: #E2EBFA;\n",
              "      box-shadow: 0px 1px 2px rgba(60, 64, 67, 0.3), 0px 1px 3px 1px rgba(60, 64, 67, 0.15);\n",
              "      fill: #174EA6;\n",
              "    }\n",
              "\n",
              "    [theme=dark] .colab-df-convert {\n",
              "      background-color: #3B4455;\n",
              "      fill: #D2E3FC;\n",
              "    }\n",
              "\n",
              "    [theme=dark] .colab-df-convert:hover {\n",
              "      background-color: #434B5C;\n",
              "      box-shadow: 0px 1px 3px 1px rgba(0, 0, 0, 0.15);\n",
              "      filter: drop-shadow(0px 1px 2px rgba(0, 0, 0, 0.3));\n",
              "      fill: #FFFFFF;\n",
              "    }\n",
              "  </style>\n",
              "\n",
              "      <script>\n",
              "        const buttonEl =\n",
              "          document.querySelector('#df-bfe2a130-e7e5-4d22-8991-8bb5b3eba3fa button.colab-df-convert');\n",
              "        buttonEl.style.display =\n",
              "          google.colab.kernel.accessAllowed ? 'block' : 'none';\n",
              "\n",
              "        async function convertToInteractive(key) {\n",
              "          const element = document.querySelector('#df-bfe2a130-e7e5-4d22-8991-8bb5b3eba3fa');\n",
              "          const dataTable =\n",
              "            await google.colab.kernel.invokeFunction('convertToInteractive',\n",
              "                                                     [key], {});\n",
              "          if (!dataTable) return;\n",
              "\n",
              "          const docLinkHtml = 'Like what you see? Visit the ' +\n",
              "            '<a target=\"_blank\" href=https://colab.research.google.com/notebooks/data_table.ipynb>data table notebook</a>'\n",
              "            + ' to learn more about interactive tables.';\n",
              "          element.innerHTML = '';\n",
              "          dataTable['output_type'] = 'display_data';\n",
              "          await google.colab.output.renderOutput(dataTable, element);\n",
              "          const docLink = document.createElement('div');\n",
              "          docLink.innerHTML = docLinkHtml;\n",
              "          element.appendChild(docLink);\n",
              "        }\n",
              "      </script>\n",
              "    </div>\n",
              "  </div>\n",
              "  "
            ]
          },
          "metadata": {},
          "execution_count": 92
        }
      ]
    },
    {
      "cell_type": "code",
      "source": [
        "df_test = np.concatenate((x_df_test,x_df_test_n),axis = 1)"
      ],
      "metadata": {
        "id": "7oLkLS4W4QfP"
      },
      "execution_count": null,
      "outputs": []
    },
    {
      "cell_type": "code",
      "source": [
        "x_train_new[0]"
      ],
      "metadata": {
        "colab": {
          "base_uri": "https://localhost:8080/"
        },
        "id": "7MllifpGKH8B",
        "outputId": "1dfae951-5bc6-43c9-e48c-a01be8539e87"
      },
      "execution_count": null,
      "outputs": [
        {
          "output_type": "execute_result",
          "data": {
            "text/plain": [
              "array([ 0.,  1.,  1.,  1.,  0.,  1.,  0., 23.,  0.,  0.])"
            ]
          },
          "metadata": {},
          "execution_count": 94
        }
      ]
    },
    {
      "cell_type": "code",
      "source": [
        "x_test_new = transformer.transform(x_test)"
      ],
      "metadata": {
        "id": "zykCDNh-OXA5"
      },
      "execution_count": null,
      "outputs": []
    },
    {
      "cell_type": "code",
      "source": [
        "le = LabelEncoder()\n",
        "y_train_new = le.fit_transform(y_train)\n",
        "y_test_new = le.transform(y_test)"
      ],
      "metadata": {
        "id": "dpROemxzphS3"
      },
      "execution_count": null,
      "outputs": []
    },
    {
      "cell_type": "markdown",
      "source": [
        "**Model 1**"
      ],
      "metadata": {
        "id": "vucqI2e6QbdY"
      }
    },
    {
      "cell_type": "code",
      "source": [
        "lr = LogisticRegression(max_iter=300)\n",
        "lr.fit(x_train_new,y_train_new)"
      ],
      "metadata": {
        "id": "vpW6pMytOXDl",
        "colab": {
          "base_uri": "https://localhost:8080/",
          "height": 74
        },
        "outputId": "a1eb7d7a-3198-4616-90b8-ffc63fb953a3"
      },
      "execution_count": null,
      "outputs": [
        {
          "output_type": "execute_result",
          "data": {
            "text/plain": [
              "LogisticRegression(max_iter=300)"
            ],
            "text/html": [
              "<style>#sk-container-id-1 {color: black;background-color: white;}#sk-container-id-1 pre{padding: 0;}#sk-container-id-1 div.sk-toggleable {background-color: white;}#sk-container-id-1 label.sk-toggleable__label {cursor: pointer;display: block;width: 100%;margin-bottom: 0;padding: 0.3em;box-sizing: border-box;text-align: center;}#sk-container-id-1 label.sk-toggleable__label-arrow:before {content: \"▸\";float: left;margin-right: 0.25em;color: #696969;}#sk-container-id-1 label.sk-toggleable__label-arrow:hover:before {color: black;}#sk-container-id-1 div.sk-estimator:hover label.sk-toggleable__label-arrow:before {color: black;}#sk-container-id-1 div.sk-toggleable__content {max-height: 0;max-width: 0;overflow: hidden;text-align: left;background-color: #f0f8ff;}#sk-container-id-1 div.sk-toggleable__content pre {margin: 0.2em;color: black;border-radius: 0.25em;background-color: #f0f8ff;}#sk-container-id-1 input.sk-toggleable__control:checked~div.sk-toggleable__content {max-height: 200px;max-width: 100%;overflow: auto;}#sk-container-id-1 input.sk-toggleable__control:checked~label.sk-toggleable__label-arrow:before {content: \"▾\";}#sk-container-id-1 div.sk-estimator input.sk-toggleable__control:checked~label.sk-toggleable__label {background-color: #d4ebff;}#sk-container-id-1 div.sk-label input.sk-toggleable__control:checked~label.sk-toggleable__label {background-color: #d4ebff;}#sk-container-id-1 input.sk-hidden--visually {border: 0;clip: rect(1px 1px 1px 1px);clip: rect(1px, 1px, 1px, 1px);height: 1px;margin: -1px;overflow: hidden;padding: 0;position: absolute;width: 1px;}#sk-container-id-1 div.sk-estimator {font-family: monospace;background-color: #f0f8ff;border: 1px dotted black;border-radius: 0.25em;box-sizing: border-box;margin-bottom: 0.5em;}#sk-container-id-1 div.sk-estimator:hover {background-color: #d4ebff;}#sk-container-id-1 div.sk-parallel-item::after {content: \"\";width: 100%;border-bottom: 1px solid gray;flex-grow: 1;}#sk-container-id-1 div.sk-label:hover label.sk-toggleable__label {background-color: #d4ebff;}#sk-container-id-1 div.sk-serial::before {content: \"\";position: absolute;border-left: 1px solid gray;box-sizing: border-box;top: 0;bottom: 0;left: 50%;z-index: 0;}#sk-container-id-1 div.sk-serial {display: flex;flex-direction: column;align-items: center;background-color: white;padding-right: 0.2em;padding-left: 0.2em;position: relative;}#sk-container-id-1 div.sk-item {position: relative;z-index: 1;}#sk-container-id-1 div.sk-parallel {display: flex;align-items: stretch;justify-content: center;background-color: white;position: relative;}#sk-container-id-1 div.sk-item::before, #sk-container-id-1 div.sk-parallel-item::before {content: \"\";position: absolute;border-left: 1px solid gray;box-sizing: border-box;top: 0;bottom: 0;left: 50%;z-index: -1;}#sk-container-id-1 div.sk-parallel-item {display: flex;flex-direction: column;z-index: 1;position: relative;background-color: white;}#sk-container-id-1 div.sk-parallel-item:first-child::after {align-self: flex-end;width: 50%;}#sk-container-id-1 div.sk-parallel-item:last-child::after {align-self: flex-start;width: 50%;}#sk-container-id-1 div.sk-parallel-item:only-child::after {width: 0;}#sk-container-id-1 div.sk-dashed-wrapped {border: 1px dashed gray;margin: 0 0.4em 0.5em 0.4em;box-sizing: border-box;padding-bottom: 0.4em;background-color: white;}#sk-container-id-1 div.sk-label label {font-family: monospace;font-weight: bold;display: inline-block;line-height: 1.2em;}#sk-container-id-1 div.sk-label-container {text-align: center;}#sk-container-id-1 div.sk-container {/* jupyter's `normalize.less` sets `[hidden] { display: none; }` but bootstrap.min.css set `[hidden] { display: none !important; }` so we also need the `!important` here to be able to override the default hidden behavior on the sphinx rendered scikit-learn.org. See: https://github.com/scikit-learn/scikit-learn/issues/21755 */display: inline-block !important;position: relative;}#sk-container-id-1 div.sk-text-repr-fallback {display: none;}</style><div id=\"sk-container-id-1\" class=\"sk-top-container\"><div class=\"sk-text-repr-fallback\"><pre>LogisticRegression(max_iter=300)</pre><b>In a Jupyter environment, please rerun this cell to show the HTML representation or trust the notebook. <br />On GitHub, the HTML representation is unable to render, please try loading this page with nbviewer.org.</b></div><div class=\"sk-container\" hidden><div class=\"sk-item\"><div class=\"sk-estimator sk-toggleable\"><input class=\"sk-toggleable__control sk-hidden--visually\" id=\"sk-estimator-id-1\" type=\"checkbox\" checked><label for=\"sk-estimator-id-1\" class=\"sk-toggleable__label sk-toggleable__label-arrow\">LogisticRegression</label><div class=\"sk-toggleable__content\"><pre>LogisticRegression(max_iter=300)</pre></div></div></div></div></div>"
            ]
          },
          "metadata": {},
          "execution_count": 97
        }
      ]
    },
    {
      "cell_type": "code",
      "source": [
        "lr_pred = lr.predict(x_test_new)"
      ],
      "metadata": {
        "id": "g4soeneLOXGO"
      },
      "execution_count": null,
      "outputs": []
    },
    {
      "cell_type": "code",
      "source": [
        "confusion_matrix(y_test_new,lr_pred)"
      ],
      "metadata": {
        "id": "ayMKB-mfOXJG",
        "colab": {
          "base_uri": "https://localhost:8080/"
        },
        "outputId": "9bf7b237-49f8-481c-bf70-f9a8d09ffb95"
      },
      "execution_count": null,
      "outputs": [
        {
          "output_type": "execute_result",
          "data": {
            "text/plain": [
              "array([[673, 171],\n",
              "       [161, 734]])"
            ]
          },
          "metadata": {},
          "execution_count": 99
        }
      ]
    },
    {
      "cell_type": "code",
      "source": [
        "lr_pred_test = lr.predict(df_test)"
      ],
      "metadata": {
        "id": "xubTtYnqxb5m"
      },
      "execution_count": 218,
      "outputs": []
    },
    {
      "cell_type": "code",
      "source": [],
      "metadata": {
        "id": "oTrZfK-Pxb8q"
      },
      "execution_count": null,
      "outputs": []
    },
    {
      "cell_type": "markdown",
      "source": [
        "**Model2**"
      ],
      "metadata": {
        "id": "lIvbT1IHrQMa"
      }
    },
    {
      "cell_type": "code",
      "source": [
        "gb = GaussianNB()"
      ],
      "metadata": {
        "id": "GTpiNn0YrPhN"
      },
      "execution_count": null,
      "outputs": []
    },
    {
      "cell_type": "code",
      "source": [
        "gb.fit(x_train_new,y_train_new)"
      ],
      "metadata": {
        "colab": {
          "base_uri": "https://localhost:8080/",
          "height": 74
        },
        "id": "FKtOWtvCrPkI",
        "outputId": "81d223fa-df87-4668-c853-2a5ac8aa7294"
      },
      "execution_count": null,
      "outputs": [
        {
          "output_type": "execute_result",
          "data": {
            "text/plain": [
              "GaussianNB()"
            ],
            "text/html": [
              "<style>#sk-container-id-2 {color: black;background-color: white;}#sk-container-id-2 pre{padding: 0;}#sk-container-id-2 div.sk-toggleable {background-color: white;}#sk-container-id-2 label.sk-toggleable__label {cursor: pointer;display: block;width: 100%;margin-bottom: 0;padding: 0.3em;box-sizing: border-box;text-align: center;}#sk-container-id-2 label.sk-toggleable__label-arrow:before {content: \"▸\";float: left;margin-right: 0.25em;color: #696969;}#sk-container-id-2 label.sk-toggleable__label-arrow:hover:before {color: black;}#sk-container-id-2 div.sk-estimator:hover label.sk-toggleable__label-arrow:before {color: black;}#sk-container-id-2 div.sk-toggleable__content {max-height: 0;max-width: 0;overflow: hidden;text-align: left;background-color: #f0f8ff;}#sk-container-id-2 div.sk-toggleable__content pre {margin: 0.2em;color: black;border-radius: 0.25em;background-color: #f0f8ff;}#sk-container-id-2 input.sk-toggleable__control:checked~div.sk-toggleable__content {max-height: 200px;max-width: 100%;overflow: auto;}#sk-container-id-2 input.sk-toggleable__control:checked~label.sk-toggleable__label-arrow:before {content: \"▾\";}#sk-container-id-2 div.sk-estimator input.sk-toggleable__control:checked~label.sk-toggleable__label {background-color: #d4ebff;}#sk-container-id-2 div.sk-label input.sk-toggleable__control:checked~label.sk-toggleable__label {background-color: #d4ebff;}#sk-container-id-2 input.sk-hidden--visually {border: 0;clip: rect(1px 1px 1px 1px);clip: rect(1px, 1px, 1px, 1px);height: 1px;margin: -1px;overflow: hidden;padding: 0;position: absolute;width: 1px;}#sk-container-id-2 div.sk-estimator {font-family: monospace;background-color: #f0f8ff;border: 1px dotted black;border-radius: 0.25em;box-sizing: border-box;margin-bottom: 0.5em;}#sk-container-id-2 div.sk-estimator:hover {background-color: #d4ebff;}#sk-container-id-2 div.sk-parallel-item::after {content: \"\";width: 100%;border-bottom: 1px solid gray;flex-grow: 1;}#sk-container-id-2 div.sk-label:hover label.sk-toggleable__label {background-color: #d4ebff;}#sk-container-id-2 div.sk-serial::before {content: \"\";position: absolute;border-left: 1px solid gray;box-sizing: border-box;top: 0;bottom: 0;left: 50%;z-index: 0;}#sk-container-id-2 div.sk-serial {display: flex;flex-direction: column;align-items: center;background-color: white;padding-right: 0.2em;padding-left: 0.2em;position: relative;}#sk-container-id-2 div.sk-item {position: relative;z-index: 1;}#sk-container-id-2 div.sk-parallel {display: flex;align-items: stretch;justify-content: center;background-color: white;position: relative;}#sk-container-id-2 div.sk-item::before, #sk-container-id-2 div.sk-parallel-item::before {content: \"\";position: absolute;border-left: 1px solid gray;box-sizing: border-box;top: 0;bottom: 0;left: 50%;z-index: -1;}#sk-container-id-2 div.sk-parallel-item {display: flex;flex-direction: column;z-index: 1;position: relative;background-color: white;}#sk-container-id-2 div.sk-parallel-item:first-child::after {align-self: flex-end;width: 50%;}#sk-container-id-2 div.sk-parallel-item:last-child::after {align-self: flex-start;width: 50%;}#sk-container-id-2 div.sk-parallel-item:only-child::after {width: 0;}#sk-container-id-2 div.sk-dashed-wrapped {border: 1px dashed gray;margin: 0 0.4em 0.5em 0.4em;box-sizing: border-box;padding-bottom: 0.4em;background-color: white;}#sk-container-id-2 div.sk-label label {font-family: monospace;font-weight: bold;display: inline-block;line-height: 1.2em;}#sk-container-id-2 div.sk-label-container {text-align: center;}#sk-container-id-2 div.sk-container {/* jupyter's `normalize.less` sets `[hidden] { display: none; }` but bootstrap.min.css set `[hidden] { display: none !important; }` so we also need the `!important` here to be able to override the default hidden behavior on the sphinx rendered scikit-learn.org. See: https://github.com/scikit-learn/scikit-learn/issues/21755 */display: inline-block !important;position: relative;}#sk-container-id-2 div.sk-text-repr-fallback {display: none;}</style><div id=\"sk-container-id-2\" class=\"sk-top-container\"><div class=\"sk-text-repr-fallback\"><pre>GaussianNB()</pre><b>In a Jupyter environment, please rerun this cell to show the HTML representation or trust the notebook. <br />On GitHub, the HTML representation is unable to render, please try loading this page with nbviewer.org.</b></div><div class=\"sk-container\" hidden><div class=\"sk-item\"><div class=\"sk-estimator sk-toggleable\"><input class=\"sk-toggleable__control sk-hidden--visually\" id=\"sk-estimator-id-2\" type=\"checkbox\" checked><label for=\"sk-estimator-id-2\" class=\"sk-toggleable__label sk-toggleable__label-arrow\">GaussianNB</label><div class=\"sk-toggleable__content\"><pre>GaussianNB()</pre></div></div></div></div></div>"
            ]
          },
          "metadata": {},
          "execution_count": 102
        }
      ]
    },
    {
      "cell_type": "code",
      "source": [
        "gb_pred = gb.predict(x_test_new)"
      ],
      "metadata": {
        "id": "CFq5A__IrPm5"
      },
      "execution_count": null,
      "outputs": []
    },
    {
      "cell_type": "code",
      "source": [
        "confusion_matrix(y_test_new,gb_pred)"
      ],
      "metadata": {
        "colab": {
          "base_uri": "https://localhost:8080/"
        },
        "id": "OZKUHAwDrPqI",
        "outputId": "9b9d408f-30c2-43f8-c618-c88de5e797db"
      },
      "execution_count": null,
      "outputs": [
        {
          "output_type": "execute_result",
          "data": {
            "text/plain": [
              "array([[640, 204],\n",
              "       [143, 752]])"
            ]
          },
          "metadata": {},
          "execution_count": 104
        }
      ]
    },
    {
      "cell_type": "code",
      "source": [],
      "metadata": {
        "id": "YtyQcSHirbu3"
      },
      "execution_count": null,
      "outputs": []
    },
    {
      "cell_type": "markdown",
      "source": [
        "**Model3**"
      ],
      "metadata": {
        "id": "HkzSJlzxsA9w"
      }
    },
    {
      "cell_type": "code",
      "source": [
        "sv = svm.SVC(kernel='rbf')"
      ],
      "metadata": {
        "id": "jRq411r4rbxW"
      },
      "execution_count": null,
      "outputs": []
    },
    {
      "cell_type": "code",
      "source": [
        "sv.fit(x_train_new,y_train_new)"
      ],
      "metadata": {
        "colab": {
          "base_uri": "https://localhost:8080/",
          "height": 74
        },
        "id": "4ea9k7I3rbz6",
        "outputId": "ae699105-0e0d-4f47-e29b-1b773370df13"
      },
      "execution_count": null,
      "outputs": [
        {
          "output_type": "execute_result",
          "data": {
            "text/plain": [
              "SVC()"
            ],
            "text/html": [
              "<style>#sk-container-id-3 {color: black;background-color: white;}#sk-container-id-3 pre{padding: 0;}#sk-container-id-3 div.sk-toggleable {background-color: white;}#sk-container-id-3 label.sk-toggleable__label {cursor: pointer;display: block;width: 100%;margin-bottom: 0;padding: 0.3em;box-sizing: border-box;text-align: center;}#sk-container-id-3 label.sk-toggleable__label-arrow:before {content: \"▸\";float: left;margin-right: 0.25em;color: #696969;}#sk-container-id-3 label.sk-toggleable__label-arrow:hover:before {color: black;}#sk-container-id-3 div.sk-estimator:hover label.sk-toggleable__label-arrow:before {color: black;}#sk-container-id-3 div.sk-toggleable__content {max-height: 0;max-width: 0;overflow: hidden;text-align: left;background-color: #f0f8ff;}#sk-container-id-3 div.sk-toggleable__content pre {margin: 0.2em;color: black;border-radius: 0.25em;background-color: #f0f8ff;}#sk-container-id-3 input.sk-toggleable__control:checked~div.sk-toggleable__content {max-height: 200px;max-width: 100%;overflow: auto;}#sk-container-id-3 input.sk-toggleable__control:checked~label.sk-toggleable__label-arrow:before {content: \"▾\";}#sk-container-id-3 div.sk-estimator input.sk-toggleable__control:checked~label.sk-toggleable__label {background-color: #d4ebff;}#sk-container-id-3 div.sk-label input.sk-toggleable__control:checked~label.sk-toggleable__label {background-color: #d4ebff;}#sk-container-id-3 input.sk-hidden--visually {border: 0;clip: rect(1px 1px 1px 1px);clip: rect(1px, 1px, 1px, 1px);height: 1px;margin: -1px;overflow: hidden;padding: 0;position: absolute;width: 1px;}#sk-container-id-3 div.sk-estimator {font-family: monospace;background-color: #f0f8ff;border: 1px dotted black;border-radius: 0.25em;box-sizing: border-box;margin-bottom: 0.5em;}#sk-container-id-3 div.sk-estimator:hover {background-color: #d4ebff;}#sk-container-id-3 div.sk-parallel-item::after {content: \"\";width: 100%;border-bottom: 1px solid gray;flex-grow: 1;}#sk-container-id-3 div.sk-label:hover label.sk-toggleable__label {background-color: #d4ebff;}#sk-container-id-3 div.sk-serial::before {content: \"\";position: absolute;border-left: 1px solid gray;box-sizing: border-box;top: 0;bottom: 0;left: 50%;z-index: 0;}#sk-container-id-3 div.sk-serial {display: flex;flex-direction: column;align-items: center;background-color: white;padding-right: 0.2em;padding-left: 0.2em;position: relative;}#sk-container-id-3 div.sk-item {position: relative;z-index: 1;}#sk-container-id-3 div.sk-parallel {display: flex;align-items: stretch;justify-content: center;background-color: white;position: relative;}#sk-container-id-3 div.sk-item::before, #sk-container-id-3 div.sk-parallel-item::before {content: \"\";position: absolute;border-left: 1px solid gray;box-sizing: border-box;top: 0;bottom: 0;left: 50%;z-index: -1;}#sk-container-id-3 div.sk-parallel-item {display: flex;flex-direction: column;z-index: 1;position: relative;background-color: white;}#sk-container-id-3 div.sk-parallel-item:first-child::after {align-self: flex-end;width: 50%;}#sk-container-id-3 div.sk-parallel-item:last-child::after {align-self: flex-start;width: 50%;}#sk-container-id-3 div.sk-parallel-item:only-child::after {width: 0;}#sk-container-id-3 div.sk-dashed-wrapped {border: 1px dashed gray;margin: 0 0.4em 0.5em 0.4em;box-sizing: border-box;padding-bottom: 0.4em;background-color: white;}#sk-container-id-3 div.sk-label label {font-family: monospace;font-weight: bold;display: inline-block;line-height: 1.2em;}#sk-container-id-3 div.sk-label-container {text-align: center;}#sk-container-id-3 div.sk-container {/* jupyter's `normalize.less` sets `[hidden] { display: none; }` but bootstrap.min.css set `[hidden] { display: none !important; }` so we also need the `!important` here to be able to override the default hidden behavior on the sphinx rendered scikit-learn.org. See: https://github.com/scikit-learn/scikit-learn/issues/21755 */display: inline-block !important;position: relative;}#sk-container-id-3 div.sk-text-repr-fallback {display: none;}</style><div id=\"sk-container-id-3\" class=\"sk-top-container\"><div class=\"sk-text-repr-fallback\"><pre>SVC()</pre><b>In a Jupyter environment, please rerun this cell to show the HTML representation or trust the notebook. <br />On GitHub, the HTML representation is unable to render, please try loading this page with nbviewer.org.</b></div><div class=\"sk-container\" hidden><div class=\"sk-item\"><div class=\"sk-estimator sk-toggleable\"><input class=\"sk-toggleable__control sk-hidden--visually\" id=\"sk-estimator-id-3\" type=\"checkbox\" checked><label for=\"sk-estimator-id-3\" class=\"sk-toggleable__label sk-toggleable__label-arrow\">SVC</label><div class=\"sk-toggleable__content\"><pre>SVC()</pre></div></div></div></div></div>"
            ]
          },
          "metadata": {},
          "execution_count": 107
        }
      ]
    },
    {
      "cell_type": "code",
      "source": [
        "sv_pred = sv.predict(x_test_new)"
      ],
      "metadata": {
        "id": "yiWijXKprb2d"
      },
      "execution_count": null,
      "outputs": []
    },
    {
      "cell_type": "code",
      "source": [
        "confusion_matrix(y_test_new,sv_pred)"
      ],
      "metadata": {
        "colab": {
          "base_uri": "https://localhost:8080/"
        },
        "id": "H15Y2ChWsAST",
        "outputId": "1c6cc7f5-13cb-4072-cfeb-91e5d3cb0bfc"
      },
      "execution_count": null,
      "outputs": [
        {
          "output_type": "execute_result",
          "data": {
            "text/plain": [
              "array([[618, 226],\n",
              "       [130, 765]])"
            ]
          },
          "metadata": {},
          "execution_count": 109
        }
      ]
    },
    {
      "cell_type": "code",
      "source": [],
      "metadata": {
        "id": "3k6DUBKvsAYa"
      },
      "execution_count": null,
      "outputs": []
    },
    {
      "cell_type": "markdown",
      "source": [
        "Hyperparameter tuning\n"
      ],
      "metadata": {
        "id": "hwR2FqFjIlDm"
      }
    },
    {
      "cell_type": "code",
      "source": [
        "\"\"\"best_score = 0\n",
        "\n",
        "param_grid = {\n",
        "'c': [.001 , .01 , .1 , 1, 10, 100],\n",
        "'gamma' : [.001 , .01 , .1 , 1, 10, 100] }\n",
        "\n",
        "result_dict =  { 'c':[],'gamma':[], \"mean_cv_score\":[]}\n",
        "\n",
        "for i in param_grid['gamma']:\n",
        "    for j in param_grid['c']:\n",
        "        sv = svm.SVC(kernel='rbf',C=j,gamma=i)\n",
        "        score = cross_val_score(sv,x_train_new,y_train_new)\n",
        "        mean_score = np.mean(score)\n",
        "        if(mean_score > best_score):\n",
        "            best_score = mean_score\n",
        "            best_parameters = {'C': j , 'gamma' : i}\n",
        "        result_dict['c'].append(j)\n",
        "        result_dict['gamma'].append(i)\n",
        "        result_dict[\"mean_cv_score\"].append(mean_score)\"\"\"\n"
      ],
      "metadata": {
        "id": "pgKbq81QsAa-"
      },
      "execution_count": null,
      "outputs": []
    },
    {
      "cell_type": "code",
      "source": [
        "sv = svm.SVC(kernel='rbf',C=1,gamma = 0.001)"
      ],
      "metadata": {
        "id": "MuSfcCE7GjWP"
      },
      "execution_count": null,
      "outputs": []
    },
    {
      "cell_type": "code",
      "source": [
        "sv.fit(x_train_new,y_train_new)"
      ],
      "metadata": {
        "colab": {
          "base_uri": "https://localhost:8080/",
          "height": 74
        },
        "id": "k1Om9e1QGjY9",
        "outputId": "c17a37be-23b7-44c9-c28f-9f8fa3197b21"
      },
      "execution_count": null,
      "outputs": [
        {
          "output_type": "execute_result",
          "data": {
            "text/plain": [
              "SVC(C=1, gamma=0.001)"
            ],
            "text/html": [
              "<style>#sk-container-id-4 {color: black;background-color: white;}#sk-container-id-4 pre{padding: 0;}#sk-container-id-4 div.sk-toggleable {background-color: white;}#sk-container-id-4 label.sk-toggleable__label {cursor: pointer;display: block;width: 100%;margin-bottom: 0;padding: 0.3em;box-sizing: border-box;text-align: center;}#sk-container-id-4 label.sk-toggleable__label-arrow:before {content: \"▸\";float: left;margin-right: 0.25em;color: #696969;}#sk-container-id-4 label.sk-toggleable__label-arrow:hover:before {color: black;}#sk-container-id-4 div.sk-estimator:hover label.sk-toggleable__label-arrow:before {color: black;}#sk-container-id-4 div.sk-toggleable__content {max-height: 0;max-width: 0;overflow: hidden;text-align: left;background-color: #f0f8ff;}#sk-container-id-4 div.sk-toggleable__content pre {margin: 0.2em;color: black;border-radius: 0.25em;background-color: #f0f8ff;}#sk-container-id-4 input.sk-toggleable__control:checked~div.sk-toggleable__content {max-height: 200px;max-width: 100%;overflow: auto;}#sk-container-id-4 input.sk-toggleable__control:checked~label.sk-toggleable__label-arrow:before {content: \"▾\";}#sk-container-id-4 div.sk-estimator input.sk-toggleable__control:checked~label.sk-toggleable__label {background-color: #d4ebff;}#sk-container-id-4 div.sk-label input.sk-toggleable__control:checked~label.sk-toggleable__label {background-color: #d4ebff;}#sk-container-id-4 input.sk-hidden--visually {border: 0;clip: rect(1px 1px 1px 1px);clip: rect(1px, 1px, 1px, 1px);height: 1px;margin: -1px;overflow: hidden;padding: 0;position: absolute;width: 1px;}#sk-container-id-4 div.sk-estimator {font-family: monospace;background-color: #f0f8ff;border: 1px dotted black;border-radius: 0.25em;box-sizing: border-box;margin-bottom: 0.5em;}#sk-container-id-4 div.sk-estimator:hover {background-color: #d4ebff;}#sk-container-id-4 div.sk-parallel-item::after {content: \"\";width: 100%;border-bottom: 1px solid gray;flex-grow: 1;}#sk-container-id-4 div.sk-label:hover label.sk-toggleable__label {background-color: #d4ebff;}#sk-container-id-4 div.sk-serial::before {content: \"\";position: absolute;border-left: 1px solid gray;box-sizing: border-box;top: 0;bottom: 0;left: 50%;z-index: 0;}#sk-container-id-4 div.sk-serial {display: flex;flex-direction: column;align-items: center;background-color: white;padding-right: 0.2em;padding-left: 0.2em;position: relative;}#sk-container-id-4 div.sk-item {position: relative;z-index: 1;}#sk-container-id-4 div.sk-parallel {display: flex;align-items: stretch;justify-content: center;background-color: white;position: relative;}#sk-container-id-4 div.sk-item::before, #sk-container-id-4 div.sk-parallel-item::before {content: \"\";position: absolute;border-left: 1px solid gray;box-sizing: border-box;top: 0;bottom: 0;left: 50%;z-index: -1;}#sk-container-id-4 div.sk-parallel-item {display: flex;flex-direction: column;z-index: 1;position: relative;background-color: white;}#sk-container-id-4 div.sk-parallel-item:first-child::after {align-self: flex-end;width: 50%;}#sk-container-id-4 div.sk-parallel-item:last-child::after {align-self: flex-start;width: 50%;}#sk-container-id-4 div.sk-parallel-item:only-child::after {width: 0;}#sk-container-id-4 div.sk-dashed-wrapped {border: 1px dashed gray;margin: 0 0.4em 0.5em 0.4em;box-sizing: border-box;padding-bottom: 0.4em;background-color: white;}#sk-container-id-4 div.sk-label label {font-family: monospace;font-weight: bold;display: inline-block;line-height: 1.2em;}#sk-container-id-4 div.sk-label-container {text-align: center;}#sk-container-id-4 div.sk-container {/* jupyter's `normalize.less` sets `[hidden] { display: none; }` but bootstrap.min.css set `[hidden] { display: none !important; }` so we also need the `!important` here to be able to override the default hidden behavior on the sphinx rendered scikit-learn.org. See: https://github.com/scikit-learn/scikit-learn/issues/21755 */display: inline-block !important;position: relative;}#sk-container-id-4 div.sk-text-repr-fallback {display: none;}</style><div id=\"sk-container-id-4\" class=\"sk-top-container\"><div class=\"sk-text-repr-fallback\"><pre>SVC(C=1, gamma=0.001)</pre><b>In a Jupyter environment, please rerun this cell to show the HTML representation or trust the notebook. <br />On GitHub, the HTML representation is unable to render, please try loading this page with nbviewer.org.</b></div><div class=\"sk-container\" hidden><div class=\"sk-item\"><div class=\"sk-estimator sk-toggleable\"><input class=\"sk-toggleable__control sk-hidden--visually\" id=\"sk-estimator-id-4\" type=\"checkbox\" checked><label for=\"sk-estimator-id-4\" class=\"sk-toggleable__label sk-toggleable__label-arrow\">SVC</label><div class=\"sk-toggleable__content\"><pre>SVC(C=1, gamma=0.001)</pre></div></div></div></div></div>"
            ]
          },
          "metadata": {},
          "execution_count": 117
        }
      ]
    },
    {
      "cell_type": "code",
      "source": [
        "sv_pred_tuned = sv.predict(df_test)\n",
        "sv_pred = sv.predict(x_test_new)"
      ],
      "metadata": {
        "id": "Jn0jyWhbGjfJ"
      },
      "execution_count": null,
      "outputs": []
    },
    {
      "cell_type": "code",
      "source": [
        "confusion_matrix(y_test_new,sv_pred)"
      ],
      "metadata": {
        "colab": {
          "base_uri": "https://localhost:8080/"
        },
        "id": "izNXu7-pGjiJ",
        "outputId": "2061bd28-43e4-43f5-a080-a71834f19567"
      },
      "execution_count": null,
      "outputs": [
        {
          "output_type": "execute_result",
          "data": {
            "text/plain": [
              "array([[648, 196],\n",
              "       [229, 666]])"
            ]
          },
          "metadata": {},
          "execution_count": 119
        }
      ]
    },
    {
      "cell_type": "code",
      "source": [],
      "metadata": {
        "id": "v1tvQDN6kd2A"
      },
      "execution_count": null,
      "outputs": []
    },
    {
      "cell_type": "markdown",
      "source": [
        "**Model Metrics**\n",
        "\n",
        "---\n",
        "\n"
      ],
      "metadata": {
        "id": "XZDjg7RQkfO8"
      }
    },
    {
      "cell_type": "code",
      "source": [
        "lr_report= classification_report(y_test_new,lr_pred)\n",
        "print(lr_report)"
      ],
      "metadata": {
        "colab": {
          "base_uri": "https://localhost:8080/"
        },
        "id": "69cqaTAPkd4y",
        "outputId": "8d900bd8-a10e-4d64-971e-dcd8d8672e93"
      },
      "execution_count": 229,
      "outputs": [
        {
          "output_type": "stream",
          "name": "stdout",
          "text": [
            "              precision    recall  f1-score   support\n",
            "\n",
            "           0       0.81      0.80      0.80       844\n",
            "           1       0.81      0.82      0.82       895\n",
            "\n",
            "    accuracy                           0.81      1739\n",
            "   macro avg       0.81      0.81      0.81      1739\n",
            "weighted avg       0.81      0.81      0.81      1739\n",
            "\n"
          ]
        }
      ]
    },
    {
      "cell_type": "code",
      "source": [
        "gnb_report = classification_report(y_test_new,gb_pred)\n",
        "print(gnb_report)"
      ],
      "metadata": {
        "colab": {
          "base_uri": "https://localhost:8080/"
        },
        "id": "AVN1V8k9kd7z",
        "outputId": "5ce287f4-32c9-4ac9-8215-a45220c6f232"
      },
      "execution_count": 231,
      "outputs": [
        {
          "output_type": "stream",
          "name": "stdout",
          "text": [
            "              precision    recall  f1-score   support\n",
            "\n",
            "           0       0.82      0.76      0.79       844\n",
            "           1       0.79      0.84      0.81       895\n",
            "\n",
            "    accuracy                           0.80      1739\n",
            "   macro avg       0.80      0.80      0.80      1739\n",
            "weighted avg       0.80      0.80      0.80      1739\n",
            "\n"
          ]
        }
      ]
    },
    {
      "cell_type": "code",
      "source": [
        "svm_report = classification_report(y_test_new,sv_pred)\n",
        "print(svm_report)"
      ],
      "metadata": {
        "colab": {
          "base_uri": "https://localhost:8080/"
        },
        "id": "zR6ZiNs2kd-t",
        "outputId": "2a5b04d9-f690-4477-8cdb-4ccdff5279c2"
      },
      "execution_count": 232,
      "outputs": [
        {
          "output_type": "stream",
          "name": "stdout",
          "text": [
            "              precision    recall  f1-score   support\n",
            "\n",
            "           0       0.74      0.77      0.75       844\n",
            "           1       0.77      0.74      0.76       895\n",
            "\n",
            "    accuracy                           0.76      1739\n",
            "   macro avg       0.76      0.76      0.76      1739\n",
            "weighted avg       0.76      0.76      0.76      1739\n",
            "\n"
          ]
        }
      ]
    },
    {
      "cell_type": "code",
      "source": [
        "lr_plt=ROCAUC(lr,classes=[\"Not Transported\",\"Transported\"])\n",
        "lr_plt.fit(x_train_new,y_train_new)\n",
        "lr_plt.score(x_test_new,y_test_new)\n",
        "lr_plt.show();"
      ],
      "metadata": {
        "colab": {
          "base_uri": "https://localhost:8080/",
          "height": 524
        },
        "id": "QzEPzjMWkeBR",
        "outputId": "71259f60-9cda-4051-fd1e-353ac938330f"
      },
      "execution_count": 234,
      "outputs": [
        {
          "output_type": "display_data",
          "data": {
            "text/plain": [
              "<Figure size 800x550 with 1 Axes>"
            ],
            "image/png": "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\n"
          },
          "metadata": {}
        }
      ]
    },
    {
      "cell_type": "code",
      "source": [
        "gnb_plt=ROCAUC(gb,classes=[\"Not Transported\",\"Transported\"])\n",
        "gnb_plt.fit(x_train_new,y_train_new)\n",
        "gnb_plt.score(x_test_new,y_test_new)\n",
        "gnb_plt.show();"
      ],
      "metadata": {
        "colab": {
          "base_uri": "https://localhost:8080/",
          "height": 524
        },
        "id": "vxuA0AivmWub",
        "outputId": "8abaf0ed-2491-4820-a875-8b577f5f5b44"
      },
      "execution_count": 235,
      "outputs": [
        {
          "output_type": "display_data",
          "data": {
            "text/plain": [
              "<Figure size 800x550 with 1 Axes>"
            ],
            "image/png": "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\n"
          },
          "metadata": {}
        }
      ]
    },
    {
      "cell_type": "code",
      "source": [
        "sv_plt=ROCAUC(sv,classes=[\"Not Transported\",\"Transported\"],binary = True)\n",
        "sv_plt.fit(x_train_new,y_train_new)\n",
        "sv_plt.score(x_test_new,y_test_new)\n",
        "sv_plt.show();"
      ],
      "metadata": {
        "colab": {
          "base_uri": "https://localhost:8080/",
          "height": 524
        },
        "id": "6Go6XiUBkeGx",
        "outputId": "ab187e36-591c-4cca-b943-680f655d72f1"
      },
      "execution_count": 237,
      "outputs": [
        {
          "output_type": "display_data",
          "data": {
            "text/plain": [
              "<Figure size 800x550 with 1 Axes>"
            ],
            "image/png": "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\n"
          },
          "metadata": {}
        }
      ]
    },
    {
      "cell_type": "code",
      "source": [],
      "metadata": {
        "id": "Dqz47r4GmijM"
      },
      "execution_count": null,
      "outputs": []
    },
    {
      "cell_type": "code",
      "source": [],
      "metadata": {
        "id": "3zWN0JJ5mill"
      },
      "execution_count": null,
      "outputs": []
    },
    {
      "cell_type": "code",
      "source": [
        "final_df = pd.DataFrame(\n",
        "    {'PassengerId':pid_test , 'Transported':sv_pred_tuned\n",
        "\n",
        "    }\n",
        ")"
      ],
      "metadata": {
        "id": "paUl3n-AxTgX"
      },
      "execution_count": null,
      "outputs": []
    },
    {
      "cell_type": "code",
      "source": [
        "final_df.head(2)"
      ],
      "metadata": {
        "id": "mpgCQhhQvQte",
        "outputId": "ccb249d4-4980-4d21-83d1-6f7468e7ec04",
        "colab": {
          "base_uri": "https://localhost:8080/",
          "height": 112
        }
      },
      "execution_count": 233,
      "outputs": [
        {
          "output_type": "execute_result",
          "data": {
            "text/plain": [
              "  PassengerId Transported\n",
              "0     0013_01        True\n",
              "1     0018_01       False"
            ],
            "text/html": [
              "\n",
              "  <div id=\"df-9c1c6a96-9a6b-4913-97ab-cd12fbf40048\">\n",
              "    <div class=\"colab-df-container\">\n",
              "      <div>\n",
              "<style scoped>\n",
              "    .dataframe tbody tr th:only-of-type {\n",
              "        vertical-align: middle;\n",
              "    }\n",
              "\n",
              "    .dataframe tbody tr th {\n",
              "        vertical-align: top;\n",
              "    }\n",
              "\n",
              "    .dataframe thead th {\n",
              "        text-align: right;\n",
              "    }\n",
              "</style>\n",
              "<table border=\"1\" class=\"dataframe\">\n",
              "  <thead>\n",
              "    <tr style=\"text-align: right;\">\n",
              "      <th></th>\n",
              "      <th>PassengerId</th>\n",
              "      <th>Transported</th>\n",
              "    </tr>\n",
              "  </thead>\n",
              "  <tbody>\n",
              "    <tr>\n",
              "      <th>0</th>\n",
              "      <td>0013_01</td>\n",
              "      <td>True</td>\n",
              "    </tr>\n",
              "    <tr>\n",
              "      <th>1</th>\n",
              "      <td>0018_01</td>\n",
              "      <td>False</td>\n",
              "    </tr>\n",
              "  </tbody>\n",
              "</table>\n",
              "</div>\n",
              "      <button class=\"colab-df-convert\" onclick=\"convertToInteractive('df-9c1c6a96-9a6b-4913-97ab-cd12fbf40048')\"\n",
              "              title=\"Convert this dataframe to an interactive table.\"\n",
              "              style=\"display:none;\">\n",
              "        \n",
              "  <svg xmlns=\"http://www.w3.org/2000/svg\" height=\"24px\"viewBox=\"0 0 24 24\"\n",
              "       width=\"24px\">\n",
              "    <path d=\"M0 0h24v24H0V0z\" fill=\"none\"/>\n",
              "    <path d=\"M18.56 5.44l.94 2.06.94-2.06 2.06-.94-2.06-.94-.94-2.06-.94 2.06-2.06.94zm-11 1L8.5 8.5l.94-2.06 2.06-.94-2.06-.94L8.5 2.5l-.94 2.06-2.06.94zm10 10l.94 2.06.94-2.06 2.06-.94-2.06-.94-.94-2.06-.94 2.06-2.06.94z\"/><path d=\"M17.41 7.96l-1.37-1.37c-.4-.4-.92-.59-1.43-.59-.52 0-1.04.2-1.43.59L10.3 9.45l-7.72 7.72c-.78.78-.78 2.05 0 2.83L4 21.41c.39.39.9.59 1.41.59.51 0 1.02-.2 1.41-.59l7.78-7.78 2.81-2.81c.8-.78.8-2.07 0-2.86zM5.41 20L4 18.59l7.72-7.72 1.47 1.35L5.41 20z\"/>\n",
              "  </svg>\n",
              "      </button>\n",
              "      \n",
              "  <style>\n",
              "    .colab-df-container {\n",
              "      display:flex;\n",
              "      flex-wrap:wrap;\n",
              "      gap: 12px;\n",
              "    }\n",
              "\n",
              "    .colab-df-convert {\n",
              "      background-color: #E8F0FE;\n",
              "      border: none;\n",
              "      border-radius: 50%;\n",
              "      cursor: pointer;\n",
              "      display: none;\n",
              "      fill: #1967D2;\n",
              "      height: 32px;\n",
              "      padding: 0 0 0 0;\n",
              "      width: 32px;\n",
              "    }\n",
              "\n",
              "    .colab-df-convert:hover {\n",
              "      background-color: #E2EBFA;\n",
              "      box-shadow: 0px 1px 2px rgba(60, 64, 67, 0.3), 0px 1px 3px 1px rgba(60, 64, 67, 0.15);\n",
              "      fill: #174EA6;\n",
              "    }\n",
              "\n",
              "    [theme=dark] .colab-df-convert {\n",
              "      background-color: #3B4455;\n",
              "      fill: #D2E3FC;\n",
              "    }\n",
              "\n",
              "    [theme=dark] .colab-df-convert:hover {\n",
              "      background-color: #434B5C;\n",
              "      box-shadow: 0px 1px 3px 1px rgba(0, 0, 0, 0.15);\n",
              "      filter: drop-shadow(0px 1px 2px rgba(0, 0, 0, 0.3));\n",
              "      fill: #FFFFFF;\n",
              "    }\n",
              "  </style>\n",
              "\n",
              "      <script>\n",
              "        const buttonEl =\n",
              "          document.querySelector('#df-9c1c6a96-9a6b-4913-97ab-cd12fbf40048 button.colab-df-convert');\n",
              "        buttonEl.style.display =\n",
              "          google.colab.kernel.accessAllowed ? 'block' : 'none';\n",
              "\n",
              "        async function convertToInteractive(key) {\n",
              "          const element = document.querySelector('#df-9c1c6a96-9a6b-4913-97ab-cd12fbf40048');\n",
              "          const dataTable =\n",
              "            await google.colab.kernel.invokeFunction('convertToInteractive',\n",
              "                                                     [key], {});\n",
              "          if (!dataTable) return;\n",
              "\n",
              "          const docLinkHtml = 'Like what you see? Visit the ' +\n",
              "            '<a target=\"_blank\" href=https://colab.research.google.com/notebooks/data_table.ipynb>data table notebook</a>'\n",
              "            + ' to learn more about interactive tables.';\n",
              "          element.innerHTML = '';\n",
              "          dataTable['output_type'] = 'display_data';\n",
              "          await google.colab.output.renderOutput(dataTable, element);\n",
              "          const docLink = document.createElement('div');\n",
              "          docLink.innerHTML = docLinkHtml;\n",
              "          element.appendChild(docLink);\n",
              "        }\n",
              "      </script>\n",
              "    </div>\n",
              "  </div>\n",
              "  "
            ]
          },
          "metadata": {},
          "execution_count": 233
        }
      ]
    },
    {
      "cell_type": "code",
      "source": [
        "xy = final_df.index.to_list()"
      ],
      "metadata": {
        "id": "9rhpzztyxTuZ"
      },
      "execution_count": null,
      "outputs": []
    },
    {
      "cell_type": "code",
      "source": [
        "for i in xy:\n",
        "    if final_df.iloc[i]['Transported'] == True:\n",
        "        final_df.at[i,'Transported'] = True\n",
        "    else:\n",
        "        final_df.at[i,'Transported'] = False\n"
      ],
      "metadata": {
        "id": "MQb0VnmXxTxM"
      },
      "execution_count": null,
      "outputs": []
    },
    {
      "cell_type": "code",
      "source": [
        "final_df"
      ],
      "metadata": {
        "id": "h-Y95KfJxT0n",
        "colab": {
          "base_uri": "https://localhost:8080/",
          "height": 423
        },
        "outputId": "67cffd35-396b-43a4-b701-40ebe6bade52"
      },
      "execution_count": 217,
      "outputs": [
        {
          "output_type": "execute_result",
          "data": {
            "text/plain": [
              "     PassengerId Transported\n",
              "0        0013_01        True\n",
              "1        0018_01       False\n",
              "2        0019_01        True\n",
              "3        0021_01       False\n",
              "4        0023_01       False\n",
              "...          ...         ...\n",
              "4272     9266_02        True\n",
              "4273     9269_01       False\n",
              "4274     9271_01        True\n",
              "4275     9273_01       False\n",
              "4276     9277_01        True\n",
              "\n",
              "[4277 rows x 2 columns]"
            ],
            "text/html": [
              "\n",
              "  <div id=\"df-9d1d9ae3-ee02-4ffb-99b1-32666bf3e0db\">\n",
              "    <div class=\"colab-df-container\">\n",
              "      <div>\n",
              "<style scoped>\n",
              "    .dataframe tbody tr th:only-of-type {\n",
              "        vertical-align: middle;\n",
              "    }\n",
              "\n",
              "    .dataframe tbody tr th {\n",
              "        vertical-align: top;\n",
              "    }\n",
              "\n",
              "    .dataframe thead th {\n",
              "        text-align: right;\n",
              "    }\n",
              "</style>\n",
              "<table border=\"1\" class=\"dataframe\">\n",
              "  <thead>\n",
              "    <tr style=\"text-align: right;\">\n",
              "      <th></th>\n",
              "      <th>PassengerId</th>\n",
              "      <th>Transported</th>\n",
              "    </tr>\n",
              "  </thead>\n",
              "  <tbody>\n",
              "    <tr>\n",
              "      <th>0</th>\n",
              "      <td>0013_01</td>\n",
              "      <td>True</td>\n",
              "    </tr>\n",
              "    <tr>\n",
              "      <th>1</th>\n",
              "      <td>0018_01</td>\n",
              "      <td>False</td>\n",
              "    </tr>\n",
              "    <tr>\n",
              "      <th>2</th>\n",
              "      <td>0019_01</td>\n",
              "      <td>True</td>\n",
              "    </tr>\n",
              "    <tr>\n",
              "      <th>3</th>\n",
              "      <td>0021_01</td>\n",
              "      <td>False</td>\n",
              "    </tr>\n",
              "    <tr>\n",
              "      <th>4</th>\n",
              "      <td>0023_01</td>\n",
              "      <td>False</td>\n",
              "    </tr>\n",
              "    <tr>\n",
              "      <th>...</th>\n",
              "      <td>...</td>\n",
              "      <td>...</td>\n",
              "    </tr>\n",
              "    <tr>\n",
              "      <th>4272</th>\n",
              "      <td>9266_02</td>\n",
              "      <td>True</td>\n",
              "    </tr>\n",
              "    <tr>\n",
              "      <th>4273</th>\n",
              "      <td>9269_01</td>\n",
              "      <td>False</td>\n",
              "    </tr>\n",
              "    <tr>\n",
              "      <th>4274</th>\n",
              "      <td>9271_01</td>\n",
              "      <td>True</td>\n",
              "    </tr>\n",
              "    <tr>\n",
              "      <th>4275</th>\n",
              "      <td>9273_01</td>\n",
              "      <td>False</td>\n",
              "    </tr>\n",
              "    <tr>\n",
              "      <th>4276</th>\n",
              "      <td>9277_01</td>\n",
              "      <td>True</td>\n",
              "    </tr>\n",
              "  </tbody>\n",
              "</table>\n",
              "<p>4277 rows × 2 columns</p>\n",
              "</div>\n",
              "      <button class=\"colab-df-convert\" onclick=\"convertToInteractive('df-9d1d9ae3-ee02-4ffb-99b1-32666bf3e0db')\"\n",
              "              title=\"Convert this dataframe to an interactive table.\"\n",
              "              style=\"display:none;\">\n",
              "        \n",
              "  <svg xmlns=\"http://www.w3.org/2000/svg\" height=\"24px\"viewBox=\"0 0 24 24\"\n",
              "       width=\"24px\">\n",
              "    <path d=\"M0 0h24v24H0V0z\" fill=\"none\"/>\n",
              "    <path d=\"M18.56 5.44l.94 2.06.94-2.06 2.06-.94-2.06-.94-.94-2.06-.94 2.06-2.06.94zm-11 1L8.5 8.5l.94-2.06 2.06-.94-2.06-.94L8.5 2.5l-.94 2.06-2.06.94zm10 10l.94 2.06.94-2.06 2.06-.94-2.06-.94-.94-2.06-.94 2.06-2.06.94z\"/><path d=\"M17.41 7.96l-1.37-1.37c-.4-.4-.92-.59-1.43-.59-.52 0-1.04.2-1.43.59L10.3 9.45l-7.72 7.72c-.78.78-.78 2.05 0 2.83L4 21.41c.39.39.9.59 1.41.59.51 0 1.02-.2 1.41-.59l7.78-7.78 2.81-2.81c.8-.78.8-2.07 0-2.86zM5.41 20L4 18.59l7.72-7.72 1.47 1.35L5.41 20z\"/>\n",
              "  </svg>\n",
              "      </button>\n",
              "      \n",
              "  <style>\n",
              "    .colab-df-container {\n",
              "      display:flex;\n",
              "      flex-wrap:wrap;\n",
              "      gap: 12px;\n",
              "    }\n",
              "\n",
              "    .colab-df-convert {\n",
              "      background-color: #E8F0FE;\n",
              "      border: none;\n",
              "      border-radius: 50%;\n",
              "      cursor: pointer;\n",
              "      display: none;\n",
              "      fill: #1967D2;\n",
              "      height: 32px;\n",
              "      padding: 0 0 0 0;\n",
              "      width: 32px;\n",
              "    }\n",
              "\n",
              "    .colab-df-convert:hover {\n",
              "      background-color: #E2EBFA;\n",
              "      box-shadow: 0px 1px 2px rgba(60, 64, 67, 0.3), 0px 1px 3px 1px rgba(60, 64, 67, 0.15);\n",
              "      fill: #174EA6;\n",
              "    }\n",
              "\n",
              "    [theme=dark] .colab-df-convert {\n",
              "      background-color: #3B4455;\n",
              "      fill: #D2E3FC;\n",
              "    }\n",
              "\n",
              "    [theme=dark] .colab-df-convert:hover {\n",
              "      background-color: #434B5C;\n",
              "      box-shadow: 0px 1px 3px 1px rgba(0, 0, 0, 0.15);\n",
              "      filter: drop-shadow(0px 1px 2px rgba(0, 0, 0, 0.3));\n",
              "      fill: #FFFFFF;\n",
              "    }\n",
              "  </style>\n",
              "\n",
              "      <script>\n",
              "        const buttonEl =\n",
              "          document.querySelector('#df-9d1d9ae3-ee02-4ffb-99b1-32666bf3e0db button.colab-df-convert');\n",
              "        buttonEl.style.display =\n",
              "          google.colab.kernel.accessAllowed ? 'block' : 'none';\n",
              "\n",
              "        async function convertToInteractive(key) {\n",
              "          const element = document.querySelector('#df-9d1d9ae3-ee02-4ffb-99b1-32666bf3e0db');\n",
              "          const dataTable =\n",
              "            await google.colab.kernel.invokeFunction('convertToInteractive',\n",
              "                                                     [key], {});\n",
              "          if (!dataTable) return;\n",
              "\n",
              "          const docLinkHtml = 'Like what you see? Visit the ' +\n",
              "            '<a target=\"_blank\" href=https://colab.research.google.com/notebooks/data_table.ipynb>data table notebook</a>'\n",
              "            + ' to learn more about interactive tables.';\n",
              "          element.innerHTML = '';\n",
              "          dataTable['output_type'] = 'display_data';\n",
              "          await google.colab.output.renderOutput(dataTable, element);\n",
              "          const docLink = document.createElement('div');\n",
              "          docLink.innerHTML = docLinkHtml;\n",
              "          element.appendChild(docLink);\n",
              "        }\n",
              "      </script>\n",
              "    </div>\n",
              "  </div>\n",
              "  "
            ]
          },
          "metadata": {},
          "execution_count": 217
        }
      ]
    },
    {
      "cell_type": "code",
      "source": [
        "#final_df.to_csv('submission.csv',index= False)"
      ],
      "metadata": {
        "id": "xiNSzYEHrb4u"
      },
      "execution_count": null,
      "outputs": []
    },
    {
      "cell_type": "code",
      "source": [],
      "metadata": {
        "id": "zPDM5tZXPknh"
      },
      "execution_count": null,
      "outputs": []
    },
    {
      "cell_type": "code",
      "source": [
        "final_df_1 = pd.DataFrame(\n",
        "    {'PassengerId':pid_test , 'Transported':lr_pred_test\n",
        "\n",
        "    }\n",
        ")"
      ],
      "metadata": {
        "id": "slZQFjrtPkqD"
      },
      "execution_count": 219,
      "outputs": []
    },
    {
      "cell_type": "code",
      "source": [
        "xy = final_df_1.index.to_list()\n",
        "for i in xy:\n",
        "    if final_df_1.iloc[i]['Transported'] == True:\n",
        "        final_df_1.at[i,'Transported'] = True\n",
        "    else:\n",
        "        final_df_1.at[i,'Transported'] = False\n"
      ],
      "metadata": {
        "id": "VVdYWKzpPksc"
      },
      "execution_count": 221,
      "outputs": []
    },
    {
      "cell_type": "markdown",
      "source": [
        "**Saving the predicted file in csv**\n",
        "\n",
        "---\n",
        "\n"
      ],
      "metadata": {
        "id": "9EwX6pK2lhYm"
      }
    },
    {
      "cell_type": "code",
      "source": [
        "#final_df_1.to_csv('submission.csv',index= False)"
      ],
      "metadata": {
        "id": "x6hEZ54xlg-e"
      },
      "execution_count": null,
      "outputs": []
    },
    {
      "cell_type": "markdown",
      "source": [
        "**Saving the model**\n",
        "\n",
        "---\n",
        "\n"
      ],
      "metadata": {
        "id": "TpqwP5W4lhex"
      }
    },
    {
      "cell_type": "code",
      "source": [
        "\n",
        "#with open ('Logistic_model','wb')as x:\n",
        " #   pickle.dump(lr,x)\n",
        "     "
      ],
      "metadata": {
        "id": "vfztH2Izi3vs"
      },
      "execution_count": 223,
      "outputs": []
    },
    {
      "cell_type": "code",
      "source": [],
      "metadata": {
        "id": "AXVuynati3y7"
      },
      "execution_count": null,
      "outputs": []
    },
    {
      "cell_type": "markdown",
      "source": [
        "Build model wiith logistic regression,svm,naive bayes . all the models metrics and roc curve plotted.\n",
        "i also uploaded the csv file to the kaggle .
      ],
      "metadata": {
        "id": "AnP7WU_PnvNi"
      }
    },
    {
      "cell_type": "code",
      "source": [],
      "metadata": {
        "id": "tcTBAaili31X"
      },
      "execution_count": null,
      "outputs": []
    },
    {
      "cell_type": "code",
      "source": [],
      "metadata": {
        "id": "tbIegaVbPkxa"
      },
      "execution_count": null,
      "outputs": []
    }
  ]
}
